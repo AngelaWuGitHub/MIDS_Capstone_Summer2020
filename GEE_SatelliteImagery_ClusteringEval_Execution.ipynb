{
 "cells": [
  {
   "cell_type": "code",
   "execution_count": 2,
   "metadata": {},
   "outputs": [],
   "source": [
    "import papermill as pm"
   ]
  },
  {
   "cell_type": "code",
   "execution_count": 1,
   "metadata": {},
   "outputs": [],
   "source": [
    "# ee.Authenticate()"
   ]
  },
  {
   "cell_type": "markdown",
   "metadata": {},
   "source": [
    "Below shows an example of executing papermill in Python3"
   ]
  },
  {
   "cell_type": "code",
   "execution_count": 3,
   "metadata": {},
   "outputs": [],
   "source": [
    "# pm.execute_notebook(\n",
    "#    'GEE_SatelliteImagery_ClusteringEval_Template.ipynb',\n",
    "#    'GEE_SatelliteImagery_ClusteringEval_Ex1.ipynb',\n",
    "#    parameters = dict(aoi_lat=23.967052, aoi_lon=72.400000, aoi_edge_len=0.005, aoi_resolution=10)\n",
    "# )"
   ]
  },
  {
   "cell_type": "code",
   "execution_count": null,
   "metadata": {},
   "outputs": [],
   "source": [
    "!papermill GEE_SatelliteImagery_ClusteringEval_Template.ipynb GEE_SatelliteImagery_ClusteringEval_Ex1.ipynb -p aoi_lat 23.967052 -p aoi_lon 72.400000 -p aoi_edge_len 0.005 -p aoi_resolution 10 --no-log-output  "
   ]
  },
  {
   "cell_type": "code",
   "execution_count": 4,
   "metadata": {},
   "outputs": [
    {
     "name": "stdout",
     "output_type": "stream",
     "text": [
      "Input Notebook:  GEE_SatelliteImagery_EDA_Template.ipynb\n",
      "Output Notebook: GEE_SatelliteImagery_EDA_Ex2.ipynb\n",
      "Executing:   0%|                                       | 0/63 [00:00<?, ?cell/s]Executing notebook with kernel: python3\n",
      "Executing:  68%|████████████████████▍         | 43/63 [01:18<00:04,  4.41cell/s]2020-06-14 18:38:07.227222: W tensorflow/stream_executor/platform/default/dso_loader.cc:55] Could not load dynamic library 'libcuda.so.1'; dlerror: libcuda.so.1: cannot open shared object file: No such file or directory\n",
      "2020-06-14 18:38:07.227265: E tensorflow/stream_executor/cuda/cuda_driver.cc:313] failed call to cuInit: UNKNOWN ERROR (303)\n",
      "2020-06-14 18:38:07.227309: I tensorflow/stream_executor/cuda/cuda_diagnostics.cc:156] kernel driver does not appear to be running on this host (a02cf0e1a57e): /proc/driver/nvidia/version does not exist\n",
      "2020-06-14 18:38:07.227443: I tensorflow/core/platform/cpu_feature_guard.cc:143] Your CPU supports instructions that this TensorFlow binary was not compiled to use: AVX2 FMA\n",
      "2020-06-14 18:38:07.231606: I tensorflow/core/platform/profile_utils/cpu_utils.cc:102] CPU Frequency: 4224340000 Hz\n",
      "2020-06-14 18:38:07.231846: I tensorflow/compiler/xla/service/service.cc:168] XLA service 0x99f4820 initialized for platform Host (this does not guarantee that XLA will be used). Devices:\n",
      "2020-06-14 18:38:07.231877: I tensorflow/compiler/xla/service/service.cc:176]   StreamExecutor device (0): Host, Default Version\n",
      "Executing: 100%|██████████████████████████████| 63/63 [04:42<00:00,  4.48s/cell]\n"
     ]
    }
   ],
   "source": [
    "!papermill GEE_SatelliteImagery_ClusteringEval_Template.ipynb GEE_SatelliteImagery_ClusteringEval_Ex2.ipynb -p aoi_lat 23.9670517803088 -p aoi_lon 73.4821902409768 -p aoi_edge_len 0.01 -p aoi_resolution 30 --no-log-output  "
   ]
  },
  {
   "cell_type": "code",
   "execution_count": null,
   "metadata": {},
   "outputs": [],
   "source": [
    "!papermill GEE_SatelliteImagery_ClusteringEval_Template.ipynb GEE_SatelliteImagery_ClusteringEval_Ex3.ipynb -p aoi_lat 23.9670517803088 -p aoi_lon 73.4821902409768 -p aoi_edge_len 0.01 -p aoi_resolution 30 --no-log-output  "
   ]
  },
  {
   "cell_type": "code",
   "execution_count": null,
   "metadata": {},
   "outputs": [],
   "source": [
    "!papermill GEE_SatelliteImagery_ClusteringEval_Template.ipynb GEE_SatelliteImagery_ClusteringEval_Ex4.ipynb -p aoi_lat 43.8018532536678 -p aoi_lon 4.92276775697496 -p aoi_edge_len 0.01 -p aoi_resolution 30 --no-log-output  "
   ]
  },
  {
   "cell_type": "code",
   "execution_count": null,
   "metadata": {},
   "outputs": [],
   "source": []
  }
 ],
 "metadata": {
  "kernelspec": {
   "display_name": "Python 3",
   "language": "python",
   "name": "python3"
  },
  "language_info": {
   "codemirror_mode": {
    "name": "ipython",
    "version": 3
   },
   "file_extension": ".py",
   "mimetype": "text/x-python",
   "name": "python",
   "nbconvert_exporter": "python",
   "pygments_lexer": "ipython3",
   "version": "3.5.2"
  }
 },
 "nbformat": 4,
 "nbformat_minor": 4
}
