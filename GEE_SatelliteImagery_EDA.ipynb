{
 "cells": [
  {
   "cell_type": "code",
   "execution_count": 35,
   "metadata": {},
   "outputs": [],
   "source": [
    "import ee # Google Earth Engine\n",
    "import datetime\n",
    "#import ipyleaflet\n",
    "import numpy as np\n",
    "import matplotlib.pyplot as plt\n",
    "import folium\n",
    "from shapely.geometry import MultiPolygon, Polygon"
   ]
  },
  {
   "cell_type": "markdown",
   "metadata": {},
   "source": [
    "Initialize Google Earth Engine (GEE)"
   ]
  },
  {
   "cell_type": "code",
   "execution_count": 2,
   "metadata": {},
   "outputs": [],
   "source": [
    "ee.Initialize()"
   ]
  },
  {
   "cell_type": "markdown",
   "metadata": {},
   "source": [
    "Specify an area of interest"
   ]
  },
  {
   "cell_type": "code",
   "execution_count": 3,
   "metadata": {},
   "outputs": [],
   "source": [
    "# area of interest has lat, lon of (-10.883689, -44.005800)\n",
    "Brazil_ex1_lat, Brazil_ex1_lon = -10.883689, -44.005800\n",
    "Brazil_ex1_edge_len = 0.2"
   ]
  },
  {
   "cell_type": "code",
   "execution_count": 4,
   "metadata": {},
   "outputs": [],
   "source": [
    "US_IL_lat, US_IL_lon = 40.707570, -88.804750\n",
    "US_IL_edge_len = 0.2"
   ]
  },
  {
   "cell_type": "code",
   "execution_count": 31,
   "metadata": {},
   "outputs": [],
   "source": [
    "US_ID_lat, US_ID_lon = 43.771114, -116.736866\n",
    "US_ID_edge_len = 0.2"
   ]
  },
  {
   "cell_type": "code",
   "execution_count": 43,
   "metadata": {},
   "outputs": [],
   "source": [
    "def satallite_imagery(source, center_lat, center_lon, edge_len,\n",
    "                      start_date, end_date, \n",
    "                      plot_option, time_series):\n",
    "    # Sentinel-2 Level 1-C: https://developers.google.com/earth-engine/datasets/catalog/COPERNICUS_S2\n",
    "    # Sentinel-2 Level 2-A: https://developers.google.com/earth-engine/datasets/catalog/COPERNICUS_S2_SR\n",
    "    # Landsat Tier structure: https://developers.google.com/earth-engine/landsat#landsat-collection-structure\n",
    "    if source == \"Sentinel2_1C\":\n",
    "        source_loc = 'COPERNICUS/S2'\n",
    "    elif source == \"Sentinel2_2A\":\n",
    "        source_loc = 'COPERNICUS/S2_SR'\n",
    "    elif source == \"Landsat7\":\n",
    "        source_loc = 'LANDSAT/LE07/C01/T1'\n",
    "    elif source == \"Landsat8\":\n",
    "        source_loc = 'LANDSAT/LC08/C01/T1_SR'\n",
    "    else:\n",
    "        raise Exception('Invalid source of satellite imagery')\n",
    "        \n",
    "    area_of_interest = ee.Geometry.Polygon([[center_lon-edge_len/2, center_lat-edge_len/2], \n",
    "                           [center_lon-edge_len/2, center_lat+edge_len/2], \n",
    "                           [center_lon+edge_len/2, center_lat+edge_len/2], \n",
    "                           [center_lon+edge_len/2, center_lat-edge_len/2]])\n",
    "    \n",
    "    area_of_interest_polygon = Polygon([[center_lon-edge_len/2, center_lat-edge_len/2], \n",
    "                           [center_lon-edge_len/2, center_lat+edge_len/2], \n",
    "                           [center_lon+edge_len/2, center_lat+edge_len/2], \n",
    "                           [center_lon+edge_len/2, center_lat-edge_len/2]])\n",
    "    \n",
    "    img_collect = (ee.ImageCollection(source_loc)\n",
    "                 .filterDate(start_date, end_date)\n",
    "                 .filterBounds(area_of_interest))\n",
    "    \n",
    "    if 'Sentinel' in source:\n",
    "        img_collect = img_collect.filterMetadata(\"CLOUDY_PIXEL_PERCENTAGE\",\"less_than\",10)\n",
    "    elif 'Landsat' in source:\n",
    "        img_collect = img_collect.filter(ee.Filter.lt('CLOUD_COVER', 3))\n",
    "    \n",
    "    assert (img_collect.size().getInfo()>0), \"No valid image\"\n",
    "    \n",
    "    print(\"Number of images in the collection: \", img_collect.size().getInfo())\n",
    "    \n",
    "    if 'Sentinel' in source:\n",
    "        # Reference: https://www.satimagingcorp.com/satellite-sensors/other-satellite-sensors/sentinel-2a/\n",
    "        band_blue = 'B2' #10m\n",
    "        band_green = 'B3' #10m\n",
    "        band_red = \"B4\"  #10m\n",
    "        band_nir = 'B8'  #10m\n",
    "    # Reference: https://landsat.gsfc.nasa.gov/landsat-data-continuity-mission/\n",
    "    elif 'Landsat7' in source:\n",
    "        # Reference: https://www.usgs.gov/land-resources/nli/landsat/landsat-7?qt-science_support_page_related_con=0#qt-science_support_page_related_con\n",
    "        band_blue = 'B1' #30m\n",
    "        band_green = 'B2' #30m\n",
    "        band_red = \"B3\"  #30m\n",
    "        band_nir = 'B4'  #30m\n",
    "    elif 'Landsat8' in source:\n",
    "        # Reference: https://www.usgs.gov/faqs/what-are-best-landsat-spectral-bands-use-my-research?qt-news_science_products=0#qt-news_science_products\n",
    "        band_blue = 'B2' #30m\n",
    "        band_green = 'B3' #30m\n",
    "        band_red = \"B4\"  #30m\n",
    "        band_nir = 'B5'  #30m    \n",
    "    \n",
    "    def calc_NDVI(img):\n",
    "        ndvi = ee.Image(img.normalizedDifference([band_nir, band_red])).rename([\"ndvi\"]).copyProperties(img, img.propertyNames())\n",
    "        composite = img.addBands(ndvi)\n",
    "        return composite\n",
    "    \n",
    "    # SAVI = ((NIR – Red) / (NIR + Red + L)) x (1 + L)\n",
    "    def calc_SAVI(img):\n",
    "        \"\"\"A function to compute Soil Adjusted Vegetation Index.\"\"\"\n",
    "        savi =  ee.Image(img.expression(\n",
    "            '(1 + L) * float(nir - red)/ (nir + red + L)',\n",
    "            {\n",
    "                'nir': img.select(band_nir),\n",
    "                'red': img.select(band_red),\n",
    "                'L': 0.5\n",
    "            })).rename([\"savi\"]).copyProperties(img, img.propertyNames())\n",
    "        composite = img.addBands(savi)\n",
    "        return composite\n",
    "\n",
    "    # EVI = 2.5 * ((NIR – Red) / ((NIR) + (C1 * Red) – (C2 * Blue) + L))\n",
    "    #     C1=6, C2=7.5, and L=1\n",
    "    def calc_EVI(img):\n",
    "        \"\"\"A function to compute Soil Adjusted Vegetation Index.\"\"\"\n",
    "        evi = ee.Image(img.expression(\n",
    "          '(2.5) * float(nir - red)/ ((nir) + (C1*red) - (C2*blue) + L)',\n",
    "          {   \n",
    "              'nir': img.select(band_nir),\n",
    "              'red': img.select(band_red),\n",
    "              'blue': img.select(band_blue),\n",
    "              'L': 0.2,\n",
    "              'C1': 6,\n",
    "              'C2': 7.5\n",
    "          })).rename([\"evi\"]).copyProperties(img, img.propertyNames())\n",
    "        composite = img.addBands(evi)\n",
    "        return composite\n",
    "    \n",
    "    def calc_YYYYMM(img):\n",
    "        return img.set('YYYYMM', img.date().format(\"YYYYMM\"))\n",
    "    \n",
    "    def add_ee_layer(self, ee_object, vis_params, name):\n",
    "        try:    \n",
    "            if isinstance(ee_object, ee.image.Image):    \n",
    "                map_id_dict = ee.Image(ee_object).getMapId(vis_params)\n",
    "                folium.raster_layers.TileLayer(\n",
    "                tiles = map_id_dict['tile_fetcher'].url_format,\n",
    "                attr = 'Google Earth Engine',\n",
    "                name = name,\n",
    "                overlay = True,\n",
    "                control = True\n",
    "                ).add_to(self)\n",
    "            elif isinstance(ee_object, ee.imagecollection.ImageCollection):    \n",
    "                ee_object_new = ee_object.mosaic()\n",
    "                map_id_dict = ee.Image(ee_object_new).getMapId(vis_params)\n",
    "                folium.raster_layers.TileLayer(\n",
    "                tiles = map_id_dict['tile_fetcher'].url_format,\n",
    "                attr = 'Google Earth Engine',\n",
    "                name = name,\n",
    "                overlay = True,\n",
    "                control = True\n",
    "                ).add_to(self)\n",
    "            elif isinstance(ee_object, ee.geometry.Geometry):    \n",
    "                folium.GeoJson(\n",
    "                data = ee_object.getInfo(),\n",
    "                name = name,\n",
    "                overlay = True,\n",
    "                control = True\n",
    "            ).add_to(self)\n",
    "            elif isinstance(ee_object, ee.featurecollection.FeatureCollection):  \n",
    "                ee_object_new = ee.Image().paint(ee_object, 0, 2)\n",
    "                map_id_dict = ee.Image(ee_object_new).getMapId(vis_params)\n",
    "                folium.raster_layers.TileLayer(\n",
    "                tiles = map_id_dict['tile_fetcher'].url_format,\n",
    "                attr = 'Google Earth Engine',\n",
    "                name = name,\n",
    "                overlay = True,\n",
    "                control = True\n",
    "            ).add_to(self)\n",
    "\n",
    "        except:\n",
    "            print(\"Could not display {}\".format(name))\n",
    "\n",
    "    # Add EE drawing method to folium.\n",
    "    folium.Map.add_ee_layer = add_ee_layer\n",
    "    \n",
    "    img_collect_calc = img_collect.map(calc_YYYYMM).map(calc_NDVI).map(calc_SAVI).map(calc_EVI)\n",
    "    \n",
    "    unique_month = list(set([item['properties']['YYYYMM'] for item in img_collect_calc.getInfo()['features']]))\n",
    "    unique_month.sort()\n",
    "    \n",
    "    # Create a folium map object.\n",
    "    myMap = folium.Map(location=[center_lat, center_lon], zoom_start=8)\n",
    "    folium.GeoJson(area_of_interest_polygon, name=\"Area of Interest\").add_to(myMap)\n",
    "\n",
    "    if plot_option == 'RGB':\n",
    "        if 'Sentinel' in source:\n",
    "            visParams = {'min':0, 'max':3000}\n",
    "        elif 'Landsat' in source:\n",
    "            visParams = {'min':0, 'max':255}\n",
    "        if time_series=='no':\n",
    "            myMap.add_ee_layer(img_collect_calc.median().select(band_red, band_green, band_blue), visParams, name=source+' '+plot_option)\n",
    "        elif time_series==\"monthly\":\n",
    "            for month in unique_month:\n",
    "                myMap.add_ee_layer(img_collect_calc.filter(ee.Filter.eq('YYYYMM',month)).median().select(band_red, band_green, band_blue), visParams, name=source+' '+plot_option+' '+month)\n",
    "    elif plot_option == 'NDVI':\n",
    "        visParams = {'min':0, 'max':1, 'palette': ['red', 'yellow', 'green']}\n",
    "        if time_series=='no':\n",
    "            myMap.add_ee_layer(img_collect_calc.median().select(\"ndvi\"), visParams, name=source+' '+plot_option)\n",
    "        elif time_series==\"monthly\":\n",
    "            for month in unique_month:\n",
    "                myMap.add_ee_layer(img_collect_calc.filter(ee.Filter.eq('YYYYMM',month)).median().select(\"ndvi\"), visParams, name=source+' '+plot_option+' '+month)\n",
    "    elif plot_option == 'SAVI':\n",
    "        visParams = {'min':0, 'max':1, 'palette': ['red', 'yellow', 'green']}\n",
    "        if time_series=='no':\n",
    "            myMap.add_ee_layer(img_collect_calc.median().select(\"savi\"), visParams, name=source+' '+plot_option)\n",
    "        elif time_series==\"monthly\":\n",
    "            for month in unique_month:\n",
    "                myMap.add_ee_layer(img_collect_calc.filter(ee.Filter.eq('YYYYMM',month)).median().select(\"savi\"), visParams, name=source+' '+plot_option+' '+month)\n",
    "    elif plot_option == 'EVI':\n",
    "        visParams = {'min':0, 'max':1, 'palette': ['red', 'yellow', 'green']}\n",
    "        if time_series=='no':\n",
    "            myMap.add_ee_layer(img_collect_calc.median().select(\"evi\"), visParams, name=source+' '+plot_option)\n",
    "        elif time_series==\"monthly\":\n",
    "            for month in unique_month:\n",
    "                myMap.add_ee_layer(img_collect_calc.filter(ee.Filter.eq('YYYYMM',month)).median().select(\"evi\"), visParams, name=source+' '+plot_option+' '+month)\n",
    "\n",
    "\n",
    "\n",
    "    # Add a layer control panel to the map.\n",
    "    myMap.add_child(folium.LayerControl())\n",
    "    \n",
    "    return myMap"
   ]
  },
  {
   "cell_type": "markdown",
   "metadata": {},
   "source": [
    "Display Landsat 7 RGB satellite image for a Brazil cropland"
   ]
  },
  {
   "cell_type": "code",
   "execution_count": 21,
   "metadata": {},
   "outputs": [],
   "source": [
    "# satallite_imagery(source=\"Landsat7\", center_lat=Brazil_ex1_lat, center_lon=Brazil_ex1_lon, edge_len=Brazil_ex1_edge_len,\n",
    "#                   start_date='2018-05-01', end_date='2018-7-31',\n",
    "#                   plot_option='RGB', time_series=\"no\")"
   ]
  },
  {
   "cell_type": "markdown",
   "metadata": {},
   "source": [
    "Display Sentinel-2 RGB satellite image for a Brazil cropland (higher resolution compared to Landsat 7 image with not fainted stripes)"
   ]
  },
  {
   "cell_type": "code",
   "execution_count": 22,
   "metadata": {},
   "outputs": [],
   "source": [
    "# satallite_imagery(source=\"Sentinel2_1C\", center_lat=Brazil_ex1_lat, center_lon=Brazil_ex1_lon, edge_len=Brazil_ex1_edge_len,\n",
    "#                   start_date='2018-05-01', end_date='2018-7-31',\n",
    "#                   plot_option='RGB', time_series=\"no\")"
   ]
  },
  {
   "cell_type": "markdown",
   "metadata": {},
   "source": [
    "Display Sentinel-2 NDVI satellite image for a Brazil cropland (red means no/unhealthy vegetation and green means healthy vegetation)"
   ]
  },
  {
   "cell_type": "code",
   "execution_count": 23,
   "metadata": {},
   "outputs": [],
   "source": [
    "# satallite_imagery(source=\"Sentinel2_1C\", center_lat=Brazil_ex1_lat, center_lon=Brazil_ex1_lon, edge_len=Brazil_ex1_edge_len,\n",
    "#                   start_date='2018-05-01', end_date='2018-7-31',\n",
    "#                   plot_option='NDVI', time_series=\"no\")"
   ]
  },
  {
   "cell_type": "markdown",
   "metadata": {},
   "source": [
    "Display Sentinel-2 NDVI satellite image for IL croplands.  \n",
    "Filtering (e.g., cloud cover filter) is done at a tile level, so different tiles can have different number of images. This is the cause of red trapezoid on the map."
   ]
  },
  {
   "cell_type": "code",
   "execution_count": 24,
   "metadata": {},
   "outputs": [],
   "source": [
    "# satallite_imagery(source=\"Sentinel2_1C\", center_lat=US_IL_lat, center_lon=US_IL_lon, edge_len=US_IL_edge_len,\n",
    "#                   start_date='2018-05-01', end_date='2018-7-31',\n",
    "#                   plot_option='NDVI', time_series=\"no\")"
   ]
  },
  {
   "cell_type": "markdown",
   "metadata": {},
   "source": [
    "Display Sentinel-2 NDVI satellite image for IL croplands by month."
   ]
  },
  {
   "cell_type": "code",
   "execution_count": 25,
   "metadata": {},
   "outputs": [],
   "source": [
    "# satallite_imagery(source=\"Sentinel2_1C\", center_lat=US_IL_lat, center_lon=US_IL_lon, edge_len=US_IL_edge_len,\n",
    "#                   start_date='2018-1-01', end_date='2018-12-31',\n",
    "#                   plot_option='NDVI', time_series=\"monthly\")"
   ]
  },
  {
   "cell_type": "markdown",
   "metadata": {},
   "source": [
    "Display an NDVI example of pivot irrigation system (in Idaho)"
   ]
  },
  {
   "cell_type": "code",
   "execution_count": 27,
   "metadata": {},
   "outputs": [],
   "source": [
    "# satallite_imagery(source=\"Sentinel2_1C\", center_lat=US_ID_lat, center_lon=US_ID_lon, edge_len=US_ID_edge_len,\n",
    "#                   start_date='2018-1-01', end_date='2018-12-31',\n",
    "#                   plot_option='NDVI', time_series=\"no\")"
   ]
  },
  {
   "cell_type": "markdown",
   "metadata": {},
   "source": [
    "Display an EVI example of pivot irrigation system (in Idaho)"
   ]
  },
  {
   "cell_type": "code",
   "execution_count": 45,
   "metadata": {},
   "outputs": [],
   "source": [
    "# satallite_imagery(source=\"Sentinel2_1C\", center_lat=US_ID_lat, center_lon=US_ID_lon, edge_len=US_ID_edge_len,\n",
    "#                   start_date='2018-1-01', end_date='2018-12-31',\n",
    "#                   plot_option='EVI', time_series=\"no\")"
   ]
  },
  {
   "cell_type": "markdown",
   "metadata": {},
   "source": [
    "Display an SAVI example of pivot irrigation system (in Idaho)"
   ]
  },
  {
   "cell_type": "code",
   "execution_count": 49,
   "metadata": {},
   "outputs": [],
   "source": [
    "# satallite_imagery(source=\"Sentinel2_1C\", center_lat=US_ID_lat, center_lon=US_ID_lon, edge_len=US_ID_edge_len,\n",
    "#                   start_date='2018-1-01', end_date='2018-12-31',\n",
    "#                   plot_option='SAVI', time_series=\"no\")"
   ]
  },
  {
   "cell_type": "markdown",
   "metadata": {},
   "source": [
    "Display an NDVI example of pivot irrigation system by month (in Idaho)  \n",
    "Preliminary finding: irrigated croplands have lower NDVI in the winter and higher NDVI in the summer."
   ]
  },
  {
   "cell_type": "code",
   "execution_count": 40,
   "metadata": {},
   "outputs": [],
   "source": [
    "# satallite_imagery(source=\"Sentinel2_1C\", center_lat=US_ID_lat, center_lon=US_ID_lon, edge_len=US_ID_edge_len,\n",
    "#                   start_date='2018-1-01', end_date='2018-12-31',\n",
    "#                   plot_option='NDVI', time_series=\"monthly\")"
   ]
  },
  {
   "cell_type": "markdown",
   "metadata": {},
   "source": [
    "================================================================================================================"
   ]
  },
  {
   "cell_type": "code",
   "execution_count": 41,
   "metadata": {},
   "outputs": [
    {
     "name": "stdout",
     "output_type": "stream",
     "text": [
      "Number of images in the collection:  19\n"
     ]
    },
    {
     "data": {
      "text/html": [
       "<div style=\"width:100%;\"><div style=\"position:relative;width:100%;height:0;padding-bottom:60%;\"><iframe src=\"data:text/html;charset=utf-8;base64,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\" style=\"position:absolute;width:100%;height:100%;left:0;top:0;border:none !important;\" allowfullscreen webkitallowfullscreen mozallowfullscreen></iframe></div></div>"
      ],
      "text/plain": [
       "<folium.folium.Map at 0x7f67bd981dd8>"
      ]
     },
     "execution_count": 41,
     "metadata": {},
     "output_type": "execute_result"
    }
   ],
   "source": [
    "satallite_imagery(source=\"Sentinel2_1C\", center_lat=US_ID_lat, center_lon=US_ID_lon, edge_len=US_ID_edge_len,\n",
    "                  start_date='2018-5-01', end_date='2018-7-31',\n",
    "                  plot_option='VI', time_series=\"no\")"
   ]
  },
  {
   "cell_type": "code",
   "execution_count": null,
   "metadata": {},
   "outputs": [],
   "source": []
  },
  {
   "cell_type": "code",
   "execution_count": null,
   "metadata": {},
   "outputs": [],
   "source": []
  }
 ],
 "metadata": {
  "kernelspec": {
   "display_name": "Python 3",
   "language": "python",
   "name": "python3"
  },
  "language_info": {
   "codemirror_mode": {
    "name": "ipython",
    "version": 3
   },
   "file_extension": ".py",
   "mimetype": "text/x-python",
   "name": "python",
   "nbconvert_exporter": "python",
   "pygments_lexer": "ipython3",
   "version": "3.5.2"
  }
 },
 "nbformat": 4,
 "nbformat_minor": 4
}
