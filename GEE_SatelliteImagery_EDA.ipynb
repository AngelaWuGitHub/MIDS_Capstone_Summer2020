{
 "cells": [
  {
   "cell_type": "code",
   "execution_count": 166,
   "metadata": {},
   "outputs": [],
   "source": [
    "import ee # Google Earth Engine\n",
    "import datetime\n",
    "#import ipyleaflet\n",
    "import numpy as np\n",
    "import pandas as pd\n",
    "import matplotlib.pyplot as plt\n",
    "import folium\n",
    "import shapely\n",
    "# from shapely.geometry import MultiPolygon, Polygon\n",
    "import warnings\n",
    "from functools import reduce"
   ]
  },
  {
   "cell_type": "markdown",
   "metadata": {},
   "source": [
    "Initialize Google Earth Engine (GEE)"
   ]
  },
  {
   "cell_type": "code",
   "execution_count": 2,
   "metadata": {},
   "outputs": [],
   "source": [
    "ee.Initialize()"
   ]
  },
  {
   "cell_type": "markdown",
   "metadata": {},
   "source": [
    "Specify an area of interest"
   ]
  },
  {
   "cell_type": "code",
   "execution_count": 3,
   "metadata": {},
   "outputs": [],
   "source": [
    "# area of interest has lat, lon of (-10.883689, -44.005800)\n",
    "Brazil_ex1_lat, Brazil_ex1_lon = -10.883689, -44.005800\n",
    "Brazil_ex1_edge_len = 0.2"
   ]
  },
  {
   "cell_type": "code",
   "execution_count": 4,
   "metadata": {},
   "outputs": [],
   "source": [
    "US_IL_lat, US_IL_lon = 40.707570, -88.804750\n",
    "US_IL_edge_len = 0.2"
   ]
  },
  {
   "cell_type": "code",
   "execution_count": 160,
   "metadata": {},
   "outputs": [],
   "source": [
    "US_ID_lat, US_ID_lon = 43.771114, -116.736866\n",
    "US_ID_edge_len = 0.005"
   ]
  },
  {
   "cell_type": "code",
   "execution_count": 178,
   "metadata": {},
   "outputs": [],
   "source": [
    "def satallite_imagery(source, center_lat, center_lon, edge_len,\n",
    "                      start_date, end_date, \n",
    "                      plot_option, time_series):\n",
    "    # Sentinel-2 Level 1-C: https://developers.google.com/earth-engine/datasets/catalog/COPERNICUS_S2\n",
    "    # Sentinel-2 Level 2-A: https://developers.google.com/earth-engine/datasets/catalog/COPERNICUS_S2_SR\n",
    "    # Landsat Tier structure: https://developers.google.com/earth-engine/landsat#landsat-collection-structure\n",
    "    if source == \"Sentinel2_1C\":\n",
    "        source_loc = 'COPERNICUS/S2'\n",
    "    elif source == \"Sentinel2_2A\":\n",
    "        source_loc = 'COPERNICUS/S2_SR'\n",
    "    elif source == \"Landsat7\":\n",
    "        source_loc = 'LANDSAT/LE07/C01/T1'\n",
    "    elif source == \"Landsat8\":\n",
    "        source_loc = 'LANDSAT/LC08/C01/T1_SR'\n",
    "    else:\n",
    "        raise Exception('Invalid source of satellite imagery')\n",
    "    \n",
    "    # Specify area of interest (one for ee.Geometry, one for shapely)\n",
    "    area_of_interest_ee = ee.Geometry.Polygon([[center_lon-edge_len/2, center_lat-edge_len/2], \n",
    "                           [center_lon-edge_len/2, center_lat+edge_len/2], \n",
    "                           [center_lon+edge_len/2, center_lat+edge_len/2], \n",
    "                           [center_lon+edge_len/2, center_lat-edge_len/2]])\n",
    "    \n",
    "    area_of_interest_shapely = shapely.geometry.Polygon([[center_lon-edge_len/2, center_lat-edge_len/2], \n",
    "                           [center_lon-edge_len/2, center_lat+edge_len/2], \n",
    "                           [center_lon+edge_len/2, center_lat+edge_len/2], \n",
    "                           [center_lon+edge_len/2, center_lat-edge_len/2]])\n",
    "    \n",
    "    # Create image collection that contains the area of interest\n",
    "    img_collect = (ee.ImageCollection(source_loc)\n",
    "                 .filterDate(start_date, end_date)\n",
    "                 .filterBounds(area_of_interest_ee))\n",
    "    \n",
    "    # Remove tiles with high cloud coverage\n",
    "    if 'Sentinel' in source:\n",
    "        # Remove image that's too small (likely to be partial image)\n",
    "        # Size of a full image: 1,276,131,371; size of a partial image: 276,598,191\n",
    "        img_collect = img_collect.filterMetadata(\"CLOUDY_PIXEL_PERCENTAGE\",\"less_than\",20) \n",
    "#                                 .filter(ee.Filter.gt('system:asset_size', 1200000000))\n",
    "        img_collect_no_partial = img_collect.filter(ee.Filter.gt('system:asset_size', 1200000000))\n",
    "    elif 'Landsat' in source:\n",
    "        img_collect = img_collect.filter(ee.Filter.lt('CLOUD_COVER', 3))\n",
    "    \n",
    "    assert (img_collect.size().getInfo()>0), \"No valid image\"\n",
    "    print(\"Total number of images in the collection: \", img_collect.size().getInfo())\n",
    "        \n",
    "    if 'Sentinel' in source:\n",
    "        # Extract tile information from each image\n",
    "        # Note: tiles can overlap a little bit\n",
    "        unique_tiles = set([item['properties']['MGRS_TILE'] for item in img_collect.getInfo()['features']])\n",
    "        if len(unique_tiles) > 1:\n",
    "            warnings.warn('Multiple tiles are selected. Proceed with caution.')\n",
    "            print('Number of tiles selected: ', len(unique_tiles))\n",
    "        if img_collect_no_partial.size().getInfo() < img_collect.size().getInfo():\n",
    "            warnings.warn('There are partial images in the collection. Proceed with caution.')\n",
    "            print('Number of partial images: ', img_collect.size().getInfo()-img_collect_no_partial.size().getInfo())\n",
    "        \n",
    "    if 'Sentinel' in source:\n",
    "        # Reference: https://www.satimagingcorp.com/satellite-sensors/other-satellite-sensors/sentinel-2a/\n",
    "        band_blue = 'B2' #10m\n",
    "        band_green = 'B3' #10m\n",
    "        band_red = \"B4\"  #10m\n",
    "        band_nir = 'B8'  #10m\n",
    "    # Reference: https://landsat.gsfc.nasa.gov/landsat-data-continuity-mission/\n",
    "    elif 'Landsat7' in source:\n",
    "        # Reference: https://www.usgs.gov/land-resources/nli/landsat/landsat-7?qt-science_support_page_related_con=0#qt-science_support_page_related_con\n",
    "        band_blue = 'B1' #30m\n",
    "        band_green = 'B2' #30m\n",
    "        band_red = \"B3\"  #30m\n",
    "        band_nir = 'B4'  #30m\n",
    "    elif 'Landsat8' in source:\n",
    "        # Reference: https://www.usgs.gov/faqs/what-are-best-landsat-spectral-bands-use-my-research?qt-news_science_products=0#qt-news_science_products\n",
    "        band_blue = 'B2' #30m\n",
    "        band_green = 'B3' #30m\n",
    "        band_red = \"B4\"  #30m\n",
    "        band_nir = 'B5'  #30m    \n",
    "    \n",
    "    def calc_NDVI(img):\n",
    "        ndvi = ee.Image(img.normalizedDifference([band_nir, band_red])).rename([\"ndvi\"]).copyProperties(img, img.propertyNames())\n",
    "        composite = img.addBands(ndvi)\n",
    "        return composite\n",
    "    \n",
    "    # SAVI = ((NIR – Red) / (NIR + Red + L)) x (1 + L)\n",
    "    def calc_SAVI(img):\n",
    "        \"\"\"A function to compute Soil Adjusted Vegetation Index.\"\"\"\n",
    "        savi =  ee.Image(img.expression(\n",
    "            '(1 + L) * float(nir - red)/ (nir + red + L)',\n",
    "            {\n",
    "                'nir': img.select(band_nir),\n",
    "                'red': img.select(band_red),\n",
    "                'L': 0.5\n",
    "            })).rename([\"savi\"]).copyProperties(img, img.propertyNames())\n",
    "        composite = img.addBands(savi)\n",
    "        return composite\n",
    "\n",
    "    # EVI = 2.5 * ((NIR – Red) / ((NIR) + (C1 * Red) – (C2 * Blue) + L))\n",
    "    #     C1=6, C2=7.5, and L=1\n",
    "    def calc_EVI(img):\n",
    "        \"\"\"A function to compute Soil Adjusted Vegetation Index.\"\"\"\n",
    "        evi = ee.Image(img.expression(\n",
    "          '(2.5) * float(nir - red)/ ((nir) + (C1*red) - (C2*blue) + L)',\n",
    "          {   \n",
    "              'nir': img.select(band_nir),\n",
    "              'red': img.select(band_red),\n",
    "              'blue': img.select(band_blue),\n",
    "              'L': 0.2,\n",
    "              'C1': 6,\n",
    "              'C2': 7.5\n",
    "          })).rename([\"evi\"]).copyProperties(img, img.propertyNames())\n",
    "        composite = img.addBands(evi)\n",
    "        return composite\n",
    "    \n",
    "    def calc_YYYYMM(img):\n",
    "        return img.set('YYYYMM', img.date().format(\"YYYYMM\"))\n",
    "    \n",
    "    def add_ee_layer(self, ee_object, vis_params, name):\n",
    "        try:    \n",
    "            if isinstance(ee_object, ee.image.Image):    \n",
    "                map_id_dict = ee.Image(ee_object).getMapId(vis_params)\n",
    "                folium.raster_layers.TileLayer(\n",
    "                    tiles = map_id_dict['tile_fetcher'].url_format,\n",
    "                    attr = 'Google Earth Engine',\n",
    "                    name = name,\n",
    "                    overlay = True,\n",
    "                    control = True\n",
    "                    ).add_to(self)\n",
    "            elif isinstance(ee_object, ee.imagecollection.ImageCollection):    \n",
    "                ee_object_new = ee_object.median()\n",
    "                map_id_dict = ee.Image(ee_object_new).getMapId(vis_params)\n",
    "                folium.raster_layers.TileLayer(\n",
    "                    tiles = map_id_dict['tile_fetcher'].url_format,\n",
    "                    attr = 'Google Earth Engine',\n",
    "                    name = name,\n",
    "                    overlay = True,\n",
    "                    control = True\n",
    "                    ).add_to(self)\n",
    "            elif isinstance(ee_object, ee.geometry.Geometry):    \n",
    "                folium.GeoJson(\n",
    "                        data = ee_object.getInfo(),\n",
    "                        name = name,\n",
    "                        overlay = True,\n",
    "                        control = True\n",
    "                    ).add_to(self)\n",
    "            elif isinstance(ee_object, ee.featurecollection.FeatureCollection):  \n",
    "                ee_object_new = ee.Image().paint(ee_object, 0, 2)\n",
    "                map_id_dict = ee.Image(ee_object_new).getMapId(vis_params)\n",
    "                folium.raster_layers.TileLayer(\n",
    "                        tiles = map_id_dict['tile_fetcher'].url_format,\n",
    "                        attr = 'Google Earth Engine',\n",
    "                        name = name,\n",
    "                        overlay = True,\n",
    "                        control = True\n",
    "                    ).add_to(self)\n",
    "\n",
    "        except:\n",
    "            print(\"Could not display {}\".format(name))\n",
    "\n",
    "    # Add EE drawing method to folium.\n",
    "    folium.Map.add_ee_layer = add_ee_layer\n",
    "    \n",
    "    img_collect_calc = img_collect.map(calc_YYYYMM).map(calc_NDVI).map(calc_SAVI).map(calc_EVI)\n",
    "    \n",
    "    unique_month = list(set([item['properties']['YYYYMM'] for item in img_collect_calc.getInfo()['features']]))\n",
    "    unique_month.sort()\n",
    "    \n",
    "    img_calc_month_dict = dict()\n",
    "    temp_dict = dict()\n",
    "    for month in unique_month:\n",
    "        img_calc_month_dict[month] = img_collect_calc.filter(ee.Filter.eq('YYYYMM',month)).median()\n",
    "        img_calc_month2 = img_calc_month_dict[month].addBands(ee.Image.pixelLonLat())\n",
    "        data_month_lst = img_calc_month2.reduceRegion(reducer=ee.Reducer.toList(), \\\n",
    "                                                             geometry=area_of_interest_ee, maxPixels=1e13, scale=50)\n",
    "        lat_series = pd.Series(np.array((ee.Array(data_month_lst.get(\"latitude\")).getInfo())), name=\"lat\")\n",
    "        lon_series = pd.Series(np.array((ee.Array(data_month_lst.get(\"longitude\")).getInfo())), name=\"lon\")\n",
    "        ndvi_series = pd.Series(np.array((ee.Array(data_month_lst.get(\"ndvi\")).getInfo())), name=month+'_NDVI')\n",
    "#         savi_series = pd.Series(np.array((ee.Array(data_month_lst.get(\"savi\")).getInfo())), name=month+'_SAVI')\n",
    "#         evi_series = pd.Series(np.array((ee.Array(data_month_lst.get(\"evi\")).getInfo())), name=month+'_EVI')\n",
    "#         temp_dict[month] = pd.concat([lat_series, lon_series, ndvi_series, savi_series, evi_series], axis=1)\n",
    "        temp_dict[month] = pd.concat([lat_series, lon_series, ndvi_series], axis=1)\n",
    "    \n",
    "    df_lst = list(temp_dict.values())\n",
    "    if plot_option == 'no':\n",
    "        return reduce(lambda left, right: pd.merge(left,right,on=['lat', 'lon']), df_lst)\n",
    "    \n",
    "    if plot_option != 'no':\n",
    "        # Create a folium map object.\n",
    "        myMap = folium.Map(location=[center_lat, center_lon], zoom_start=8)\n",
    "        # Add the box around the area of interest\n",
    "        folium.GeoJson(area_of_interest_shapely, name=\"Area of Interest\").add_to(myMap)\n",
    "\n",
    "        if plot_option == 'RGB':\n",
    "            if 'Sentinel' in source:\n",
    "                visParams = {'min':0, 'max':3000}\n",
    "            elif 'Landsat' in source:\n",
    "                visParams = {'min':0, 'max':255}\n",
    "            if time_series=='no':\n",
    "                myMap.add_ee_layer(img_collect_calc.median().select(band_red, band_green, band_blue), visParams, name=source+' '+plot_option)\n",
    "            elif time_series==\"monthly\":\n",
    "                for month in unique_month:\n",
    "                    myMap.add_ee_layer(img_calc_month_dict[month].select(band_red, band_green, band_blue), visParams, name=source+' '+plot_option+' '+month)\n",
    "        elif plot_option == 'NDVI':\n",
    "            visParams = {'min':0, 'max':1, 'palette': ['red', 'yellow', 'green']}\n",
    "            if time_series=='no':\n",
    "                myMap.add_ee_layer(img_collect_calc.select(\"ndvi\"), visParams, name=source+' '+plot_option)\n",
    "            elif time_series==\"monthly\":\n",
    "                for month in unique_month:\n",
    "                    myMap.add_ee_layer(img_calc_month_dict[month].select(\"ndvi\"), visParams, name=source+' '+plot_option+' '+month)\n",
    "        elif plot_option == 'SAVI':\n",
    "            visParams = {'min':0, 'max':1, 'palette': ['red', 'yellow', 'green']}\n",
    "            if time_series=='no':\n",
    "                myMap.add_ee_layer(img_collect_calc.median().select(\"savi\"), visParams, name=source+' '+plot_option)\n",
    "            elif time_series==\"monthly\":\n",
    "                for month in unique_month:\n",
    "                    myMap.add_ee_layer(img_calc_month_dict[month].select(\"savi\"), visParams, name=source+' '+plot_option+' '+month)\n",
    "        elif plot_option == 'EVI':\n",
    "            visParams = {'min':0, 'max':1, 'palette': ['red', 'yellow', 'green']}\n",
    "            if time_series=='no':\n",
    "                myMap.add_ee_layer(img_collect_calc.median().select(\"evi\"), visParams, name=source+' '+plot_option)\n",
    "            elif time_series==\"monthly\":\n",
    "                for month in unique_month:\n",
    "                    myMap.add_ee_layer(img_calc_month_dict[month].select(\"evi\"), visParams, name=source+' '+plot_option+' '+month)\n",
    "\n",
    "        # Add a layer control panel to the map.\n",
    "        myMap.add_child(folium.LayerControl())\n",
    "\n",
    "        return myMap"
   ]
  },
  {
   "cell_type": "markdown",
   "metadata": {},
   "source": [
    "Display Landsat 7 RGB satellite image for a Brazil cropland"
   ]
  },
  {
   "cell_type": "code",
   "execution_count": 111,
   "metadata": {},
   "outputs": [],
   "source": [
    "# satallite_imagery(source=\"Landsat7\", center_lat=Brazil_ex1_lat, center_lon=Brazil_ex1_lon, edge_len=Brazil_ex1_edge_len,\n",
    "#                   start_date='2018-05-01', end_date='2018-7-31',\n",
    "#                   plot_option='RGB', time_series=\"no\")"
   ]
  },
  {
   "cell_type": "markdown",
   "metadata": {},
   "source": [
    "Display Sentinel-2 RGB satellite image for a Brazil cropland (higher resolution compared to Landsat 7 image with not fainted stripes)"
   ]
  },
  {
   "cell_type": "code",
   "execution_count": 113,
   "metadata": {},
   "outputs": [],
   "source": [
    "# satallite_imagery(source=\"Sentinel2_1C\", center_lat=Brazil_ex1_lat, center_lon=Brazil_ex1_lon, edge_len=Brazil_ex1_edge_len,\n",
    "#                   start_date='2018-05-01', end_date='2018-7-31',\n",
    "#                   plot_option='RGB', time_series=\"no\")"
   ]
  },
  {
   "cell_type": "markdown",
   "metadata": {},
   "source": [
    "Display Sentinel-2 NDVI satellite image for a Brazil cropland (red means no/unhealthy vegetation and green means healthy vegetation)"
   ]
  },
  {
   "cell_type": "code",
   "execution_count": 130,
   "metadata": {},
   "outputs": [],
   "source": [
    "# satallite_imagery(source=\"Sentinel2_1C\", center_lat=Brazil_ex1_lat, center_lon=Brazil_ex1_lon, edge_len=Brazil_ex1_edge_len,\n",
    "#                   start_date='2018-05-01', end_date='2018-5-10',\n",
    "#                   plot_option='NDVI', time_series=\"no\")"
   ]
  },
  {
   "cell_type": "markdown",
   "metadata": {},
   "source": [
    "Display Sentinel-2 NDVI satellite image for IL croplands.  \n",
    "Filtering (e.g., cloud cover filter) is done at a tile level, so different tiles can have different number of images. This is the cause of red trapezoid on the map."
   ]
  },
  {
   "cell_type": "code",
   "execution_count": 182,
   "metadata": {},
   "outputs": [],
   "source": [
    "# satallite_imagery(source=\"Sentinel2_1C\", center_lat=US_IL_lat, center_lon=US_IL_lon, edge_len=US_IL_edge_len,\n",
    "#                   start_date='2018-05-01', end_date='2018-7-31',\n",
    "#                   plot_option='NDVI', time_series=\"no\")"
   ]
  },
  {
   "cell_type": "markdown",
   "metadata": {},
   "source": [
    "Display Sentinel-2 NDVI satellite image for IL croplands by month."
   ]
  },
  {
   "cell_type": "code",
   "execution_count": 143,
   "metadata": {},
   "outputs": [],
   "source": [
    "# satallite_imagery(source=\"Sentinel2_1C\", center_lat=US_IL_lat, center_lon=US_IL_lon, edge_len=US_IL_edge_len,\n",
    "#                   start_date='2018-1-01', end_date='2018-12-31',\n",
    "#                   plot_option='NDVI', time_series=\"monthly\")"
   ]
  },
  {
   "cell_type": "markdown",
   "metadata": {},
   "source": [
    "Display an NDVI example of pivot irrigation system (in Idaho)"
   ]
  },
  {
   "cell_type": "code",
   "execution_count": 27,
   "metadata": {},
   "outputs": [],
   "source": [
    "# satallite_imagery(source=\"Sentinel2_1C\", center_lat=US_ID_lat, center_lon=US_ID_lon, edge_len=US_ID_edge_len,\n",
    "#                   start_date='2018-1-01', end_date='2018-12-31',\n",
    "#                   plot_option='NDVI', time_series=\"no\")"
   ]
  },
  {
   "cell_type": "markdown",
   "metadata": {},
   "source": [
    "Display an EVI example of pivot irrigation system (in Idaho)"
   ]
  },
  {
   "cell_type": "code",
   "execution_count": 45,
   "metadata": {},
   "outputs": [],
   "source": [
    "# satallite_imagery(source=\"Sentinel2_1C\", center_lat=US_ID_lat, center_lon=US_ID_lon, edge_len=US_ID_edge_len,\n",
    "#                   start_date='2018-1-01', end_date='2018-12-31',\n",
    "#                   plot_option='EVI', time_series=\"no\")"
   ]
  },
  {
   "cell_type": "markdown",
   "metadata": {},
   "source": [
    "Display an SAVI example of pivot irrigation system (in Idaho)"
   ]
  },
  {
   "cell_type": "code",
   "execution_count": 49,
   "metadata": {},
   "outputs": [],
   "source": [
    "# satallite_imagery(source=\"Sentinel2_1C\", center_lat=US_ID_lat, center_lon=US_ID_lon, edge_len=US_ID_edge_len,\n",
    "#                   start_date='2018-1-01', end_date='2018-12-31',\n",
    "#                   plot_option='SAVI', time_series=\"no\")"
   ]
  },
  {
   "cell_type": "markdown",
   "metadata": {},
   "source": [
    "Display an NDVI example of pivot irrigation system by month (in Idaho)  \n",
    "Preliminary finding: irrigated croplands have lower NDVI in the winter and higher NDVI in the summer."
   ]
  },
  {
   "cell_type": "code",
   "execution_count": 40,
   "metadata": {},
   "outputs": [],
   "source": [
    "# satallite_imagery(source=\"Sentinel2_1C\", center_lat=US_ID_lat, center_lon=US_ID_lon, edge_len=US_ID_edge_len,\n",
    "#                   start_date='2018-1-01', end_date='2018-12-31',\n",
    "#                   plot_option='NDVI', time_series=\"monthly\")"
   ]
  },
  {
   "cell_type": "markdown",
   "metadata": {},
   "source": [
    "================================================================================================================"
   ]
  },
  {
   "cell_type": "code",
   "execution_count": 179,
   "metadata": {},
   "outputs": [
    {
     "name": "stdout",
     "output_type": "stream",
     "text": [
      "Total number of images in the collection:  27\n"
     ]
    }
   ],
   "source": [
    "test_df = satallite_imagery(source=\"Sentinel2_1C\", center_lat=US_ID_lat, center_lon=US_ID_lon, edge_len=US_ID_edge_len,\n",
    "                  start_date='2018-1-01', end_date='2018-12-31',\n",
    "                  plot_option='no', time_series=\"monthly\")"
   ]
  },
  {
   "cell_type": "code",
   "execution_count": 180,
   "metadata": {},
   "outputs": [],
   "source": [
    "test_df.to_csv('temp2.csv')"
   ]
  },
  {
   "cell_type": "code",
   "execution_count": 171,
   "metadata": {},
   "outputs": [
    {
     "data": {
      "text/html": [
       "<div>\n",
       "<style scoped>\n",
       "    .dataframe tbody tr th:only-of-type {\n",
       "        vertical-align: middle;\n",
       "    }\n",
       "\n",
       "    .dataframe tbody tr th {\n",
       "        vertical-align: top;\n",
       "    }\n",
       "\n",
       "    .dataframe thead th {\n",
       "        text-align: right;\n",
       "    }\n",
       "</style>\n",
       "<table border=\"1\" class=\"dataframe\">\n",
       "  <thead>\n",
       "    <tr style=\"text-align: right;\">\n",
       "      <th></th>\n",
       "      <th>lat</th>\n",
       "      <th>lon</th>\n",
       "      <th>201805_NDVI</th>\n",
       "      <th>201805_SAVI</th>\n",
       "      <th>201805_EVI</th>\n",
       "      <th>201807_NDVI</th>\n",
       "      <th>201807_SAVI</th>\n",
       "      <th>201807_EVI</th>\n",
       "      <th>201806_NDVI</th>\n",
       "      <th>201806_SAVI</th>\n",
       "      <th>201806_EVI</th>\n",
       "    </tr>\n",
       "  </thead>\n",
       "  <tbody>\n",
       "    <tr>\n",
       "      <th>0</th>\n",
       "      <td>43.768661</td>\n",
       "      <td>-116.739350</td>\n",
       "      <td>0.176445</td>\n",
       "      <td>0.264642</td>\n",
       "      <td>0.561106</td>\n",
       "      <td>0.653170</td>\n",
       "      <td>0.979619</td>\n",
       "      <td>-3.501948</td>\n",
       "      <td>0.407697</td>\n",
       "      <td>0.611480</td>\n",
       "      <td>2.686295</td>\n",
       "    </tr>\n",
       "    <tr>\n",
       "      <th>1</th>\n",
       "      <td>43.768661</td>\n",
       "      <td>-116.739260</td>\n",
       "      <td>0.172219</td>\n",
       "      <td>0.258304</td>\n",
       "      <td>0.530505</td>\n",
       "      <td>0.662800</td>\n",
       "      <td>0.994062</td>\n",
       "      <td>-2.991320</td>\n",
       "      <td>0.400778</td>\n",
       "      <td>0.601102</td>\n",
       "      <td>2.707461</td>\n",
       "    </tr>\n",
       "    <tr>\n",
       "      <th>2</th>\n",
       "      <td>43.768661</td>\n",
       "      <td>-116.739170</td>\n",
       "      <td>0.166754</td>\n",
       "      <td>0.250107</td>\n",
       "      <td>0.514179</td>\n",
       "      <td>0.647084</td>\n",
       "      <td>0.970498</td>\n",
       "      <td>-2.342274</td>\n",
       "      <td>0.388256</td>\n",
       "      <td>0.582321</td>\n",
       "      <td>2.303018</td>\n",
       "    </tr>\n",
       "    <tr>\n",
       "      <th>3</th>\n",
       "      <td>43.768661</td>\n",
       "      <td>-116.739081</td>\n",
       "      <td>0.165201</td>\n",
       "      <td>0.247778</td>\n",
       "      <td>0.498756</td>\n",
       "      <td>0.615602</td>\n",
       "      <td>0.923282</td>\n",
       "      <td>-4.086213</td>\n",
       "      <td>0.381168</td>\n",
       "      <td>0.571690</td>\n",
       "      <td>2.409745</td>\n",
       "    </tr>\n",
       "    <tr>\n",
       "      <th>4</th>\n",
       "      <td>43.768661</td>\n",
       "      <td>-116.738991</td>\n",
       "      <td>0.165201</td>\n",
       "      <td>0.247778</td>\n",
       "      <td>0.498756</td>\n",
       "      <td>0.615602</td>\n",
       "      <td>0.923282</td>\n",
       "      <td>-4.086213</td>\n",
       "      <td>0.381168</td>\n",
       "      <td>0.571690</td>\n",
       "      <td>2.409745</td>\n",
       "    </tr>\n",
       "  </tbody>\n",
       "</table>\n",
       "</div>"
      ],
      "text/plain": [
       "         lat         lon  201805_NDVI  201805_SAVI  201805_EVI  201807_NDVI  \\\n",
       "0  43.768661 -116.739350     0.176445     0.264642    0.561106     0.653170   \n",
       "1  43.768661 -116.739260     0.172219     0.258304    0.530505     0.662800   \n",
       "2  43.768661 -116.739170     0.166754     0.250107    0.514179     0.647084   \n",
       "3  43.768661 -116.739081     0.165201     0.247778    0.498756     0.615602   \n",
       "4  43.768661 -116.738991     0.165201     0.247778    0.498756     0.615602   \n",
       "\n",
       "   201807_SAVI  201807_EVI  201806_NDVI  201806_SAVI  201806_EVI  \n",
       "0     0.979619   -3.501948     0.407697     0.611480    2.686295  \n",
       "1     0.994062   -2.991320     0.400778     0.601102    2.707461  \n",
       "2     0.970498   -2.342274     0.388256     0.582321    2.303018  \n",
       "3     0.923282   -4.086213     0.381168     0.571690    2.409745  \n",
       "4     0.923282   -4.086213     0.381168     0.571690    2.409745  "
      ]
     },
     "execution_count": 171,
     "metadata": {},
     "output_type": "execute_result"
    }
   ],
   "source": [
    "test_df.head()"
   ]
  },
  {
   "cell_type": "code",
   "execution_count": null,
   "metadata": {},
   "outputs": [],
   "source": []
  }
 ],
 "metadata": {
  "kernelspec": {
   "display_name": "Python 3",
   "language": "python",
   "name": "python3"
  },
  "language_info": {
   "codemirror_mode": {
    "name": "ipython",
    "version": 3
   },
   "file_extension": ".py",
   "mimetype": "text/x-python",
   "name": "python",
   "nbconvert_exporter": "python",
   "pygments_lexer": "ipython3",
   "version": "3.5.2"
  }
 },
 "nbformat": 4,
 "nbformat_minor": 4
}
