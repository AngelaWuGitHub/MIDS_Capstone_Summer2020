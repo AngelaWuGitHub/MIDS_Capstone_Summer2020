{
 "cells": [
  {
   "cell_type": "code",
   "execution_count": 1,
   "metadata": {},
   "outputs": [],
   "source": [
    "import ee # Google Earth Engine\n",
    "import datetime\n",
    "#import ipyleaflet\n",
    "import numpy as np\n",
    "import pandas as pd\n",
    "import matplotlib.pyplot as plt\n",
    "import folium\n",
    "# from shapely.geometry import MultiPolygon, Polygon\n",
    "from shapely.geometry import box\n",
    "import warnings\n",
    "from functools import reduce"
   ]
  },
  {
   "cell_type": "markdown",
   "metadata": {},
   "source": [
    "Initialize Google Earth Engine (GEE)"
   ]
  },
  {
   "cell_type": "code",
   "execution_count": 2,
   "metadata": {},
   "outputs": [],
   "source": [
    "ee.Initialize()"
   ]
  },
  {
   "cell_type": "markdown",
   "metadata": {},
   "source": [
    "Specify an area of interest"
   ]
  },
  {
   "cell_type": "code",
   "execution_count": 3,
   "metadata": {},
   "outputs": [],
   "source": [
    "# area of interest has lat, lon of (-10.883689, -44.005800)\n",
    "Brazil_ex1_lat, Brazil_ex1_lon = -10.883689, -44.005800\n",
    "Brazil_ex1_edge_len = 0.2"
   ]
  },
  {
   "cell_type": "code",
   "execution_count": 4,
   "metadata": {},
   "outputs": [],
   "source": [
    "US_IL_lat, US_IL_lon = 40.707570, -88.804750\n",
    "US_IL_edge_len = 0.2"
   ]
  },
  {
   "cell_type": "code",
   "execution_count": 5,
   "metadata": {},
   "outputs": [],
   "source": [
    "US_ID_lat, US_ID_lon = 43.771114, -116.736866\n",
    "US_ID_edge_len = 0.005"
   ]
  },
  {
   "cell_type": "code",
   "execution_count": 38,
   "metadata": {},
   "outputs": [],
   "source": [
    "India_1_lat, India_1_lon = 23.967052, 72.400000\n",
    "India_1_edge_len = 0.005"
   ]
  },
  {
   "cell_type": "markdown",
   "metadata": {},
   "source": [
    "Define the function to plot satellite images or pull satellite image data"
   ]
  },
  {
   "cell_type": "code",
   "execution_count": 24,
   "metadata": {},
   "outputs": [],
   "source": [
    "def satellite_imagery(source, center_lat, center_lon, edge_len,\n",
    "                      start_date, end_date, \n",
    "                      plot_option, time_series):\n",
    "    # Sentinel-2 Level 1-C: https://developers.google.com/earth-engine/datasets/catalog/COPERNICUS_S2\n",
    "    # Sentinel-2 Level 2-A: https://developers.google.com/earth-engine/datasets/catalog/COPERNICUS_S2_SR\n",
    "    # Landsat Tier structure: https://developers.google.com/earth-engine/landsat#landsat-collection-structure\n",
    "    if source == \"Sentinel2_1C\":\n",
    "        source_loc = 'COPERNICUS/S2'\n",
    "    elif source == \"Sentinel2_2A\":\n",
    "        source_loc = 'COPERNICUS/S2_SR'\n",
    "    elif source == \"Landsat7\":\n",
    "        source_loc = 'LANDSAT/LE07/C01/T1'\n",
    "    elif source == \"Landsat8\":\n",
    "        source_loc = 'LANDSAT/LC08/C01/T1_SR'\n",
    "#     elif source == \"Modis\":\n",
    "#         source_loc = 'MODIS/006/MOD13A2'\n",
    "    else:\n",
    "        raise Exception('Invalid source of satellite imagery')\n",
    "    \n",
    "    # Specify area of interest (one for ee.Geometry, one for shapely)\n",
    "#     area_of_interest_ee = ee.Geometry.Polygon([[center_lon-edge_len/2, center_lat-edge_len/2], \n",
    "#                            [center_lon-edge_len/2, center_lat+edge_len/2], \n",
    "#                            [center_lon+edge_len/2, center_lat+edge_len/2], \n",
    "#                            [center_lon+edge_len/2, center_lat-edge_len/2]])\n",
    "    area_of_interest_ee = ee.Geometry.Rectangle([center_lon-edge_len/2, center_lat-edge_len/2, center_lon+edge_len/2, center_lat+edge_len/2])\n",
    "    \n",
    "#     area_of_interest_shapely = Polygon([[center_lon-edge_len/2, center_lat-edge_len/2], \n",
    "#                            [center_lon-edge_len/2, center_lat+edge_len/2], \n",
    "#                            [center_lon+edge_len/2, center_lat+edge_len/2], \n",
    "#                            [center_lon+edge_len/2, center_lat-edge_len/2]])\n",
    "    area_of_interest_shapely = box(center_lon-edge_len/2, center_lat-edge_len/2, center_lon+edge_len/2, center_lat+edge_len/2)\n",
    "    \n",
    "    # Create image collection that contains the area of interest\n",
    "    img_collect = (ee.ImageCollection(source_loc)\n",
    "                 .filterDate(start_date, end_date)\n",
    "                 .filterBounds(area_of_interest_ee))\n",
    "    \n",
    "    # Remove tiles with high cloud coverage\n",
    "    if 'Sentinel' in source:\n",
    "        # Remove image that's too small (likely to be partial image)\n",
    "        # Size of a full image: 1,276,131,371; size of a partial image: 276,598,191\n",
    "        img_collect = img_collect.filterMetadata(\"CLOUDY_PIXEL_PERCENTAGE\",\"less_than\",20) \n",
    "#                                 .filter(ee.Filter.gt('system:asset_size', 1200000000))\n",
    "        img_collect_no_partial = img_collect.filter(ee.Filter.gt('system:asset_size', 1200000000))\n",
    "    elif 'Landsat' in source:\n",
    "        img_collect = img_collect.filter(ee.Filter.lt('CLOUD_COVER', 3))\n",
    "    \n",
    "    assert (img_collect.size().getInfo()>0), \"No valid image\"\n",
    "    print(\"Total number of images in the collection: \", img_collect.size().getInfo())\n",
    "        \n",
    "    if 'Sentinel' in source:\n",
    "        # Extract tile information from each image\n",
    "        # Note: tiles can overlap a little bit\n",
    "        unique_tiles = set([item['properties']['MGRS_TILE'] for item in img_collect.getInfo()['features']])\n",
    "        if len(unique_tiles) > 1:\n",
    "            warnings.warn('Multiple tiles are selected. Proceed with caution.')\n",
    "            print('Number of tiles selected: ', len(unique_tiles))\n",
    "        if img_collect_no_partial.size().getInfo() < img_collect.size().getInfo():\n",
    "            warnings.warn('There are partial images in the collection. Proceed with caution.')\n",
    "            print('Number of partial images: ', img_collect.size().getInfo()-img_collect_no_partial.size().getInfo())\n",
    "        \n",
    "    if 'Sentinel' in source:\n",
    "        # Reference: https://www.satimagingcorp.com/satellite-sensors/other-satellite-sensors/sentinel-2a/\n",
    "        band_blue = 'B2' #10m\n",
    "        band_green = 'B3' #10m\n",
    "        band_red = \"B4\"  #10m\n",
    "        band_nir = 'B8'  #10m\n",
    "    # Reference: https://landsat.gsfc.nasa.gov/landsat-data-continuity-mission/\n",
    "    elif 'Landsat7' in source:\n",
    "        # Reference: https://www.usgs.gov/land-resources/nli/landsat/landsat-7?qt-science_support_page_related_con=0#qt-science_support_page_related_con\n",
    "        band_blue = 'B1' #30m\n",
    "        band_green = 'B2' #30m\n",
    "        band_red = \"B3\"  #30m\n",
    "        band_nir = 'B4'  #30m\n",
    "    elif 'Landsat8' in source:\n",
    "        # Reference: https://www.usgs.gov/faqs/what-are-best-landsat-spectral-bands-use-my-research?qt-news_science_products=0#qt-news_science_products\n",
    "        band_blue = 'B2' #30m\n",
    "        band_green = 'B3' #30m\n",
    "        band_red = \"B4\"  #30m\n",
    "        band_nir = 'B5'  #30m\n",
    "    \n",
    "    def calc_NDVI(img):\n",
    "        ndvi = ee.Image(img.normalizedDifference([band_nir, band_red])).rename([\"ndvi\"]).copyProperties(img, img.propertyNames())\n",
    "        composite = img.addBands(ndvi)\n",
    "        return composite\n",
    "    \n",
    "    # SAVI = ((NIR – Red) / (NIR + Red + L)) x (1 + L)\n",
    "    def calc_SAVI(img):\n",
    "        \"\"\"A function to compute Soil Adjusted Vegetation Index.\"\"\"\n",
    "        savi =  ee.Image(img.expression(\n",
    "            '(1 + L) * float(nir - red)/ (nir + red + L)',\n",
    "            {\n",
    "                'nir': img.select(band_nir),\n",
    "                'red': img.select(band_red),\n",
    "                'L': 0.5\n",
    "            })).rename([\"savi\"]).copyProperties(img, img.propertyNames())\n",
    "        composite = img.addBands(savi)\n",
    "        return composite\n",
    "\n",
    "    # EVI = 2.5 * ((NIR – Red) / ((NIR) + (C1 * Red) – (C2 * Blue) + L))\n",
    "    #     C1=6, C2=7.5, and L=1\n",
    "    def calc_EVI(img):\n",
    "        \"\"\"A function to compute Soil Adjusted Vegetation Index.\"\"\"\n",
    "        evi = ee.Image(img.expression(\n",
    "          '(2.5) * float(nir - red)/ ((nir) + (C1*red) - (C2*blue) + L)',\n",
    "          {   \n",
    "              'nir': img.select(band_nir),\n",
    "              'red': img.select(band_red),\n",
    "              'blue': img.select(band_blue),\n",
    "              'L': 0.2,\n",
    "              'C1': 6,\n",
    "              'C2': 7.5\n",
    "          })).rename([\"evi\"]).copyProperties(img, img.propertyNames())\n",
    "        composite = img.addBands(evi)\n",
    "        return composite\n",
    "    \n",
    "    def calc_YYYYMM(img):\n",
    "        return img.set('YYYYMM', img.date().format(\"YYYYMM\"))\n",
    "    \n",
    "    def add_ee_layer(self, ee_object, vis_params, name):\n",
    "        try:    \n",
    "            if isinstance(ee_object, ee.image.Image):    \n",
    "                map_id_dict = ee.Image(ee_object).getMapId(vis_params)\n",
    "                folium.raster_layers.TileLayer(\n",
    "                    tiles = map_id_dict['tile_fetcher'].url_format,\n",
    "                    attr = 'Google Earth Engine',\n",
    "                    name = name,\n",
    "                    overlay = True,\n",
    "                    control = True\n",
    "                    ).add_to(self)\n",
    "            elif isinstance(ee_object, ee.imagecollection.ImageCollection):    \n",
    "                ee_object_new = ee_object.median()\n",
    "                map_id_dict = ee.Image(ee_object_new).getMapId(vis_params)\n",
    "                folium.raster_layers.TileLayer(\n",
    "                    tiles = map_id_dict['tile_fetcher'].url_format,\n",
    "                    attr = 'Google Earth Engine',\n",
    "                    name = name,\n",
    "                    overlay = True,\n",
    "                    control = True\n",
    "                    ).add_to(self)\n",
    "            elif isinstance(ee_object, ee.geometry.Geometry):    \n",
    "                folium.GeoJson(\n",
    "                        data = ee_object.getInfo(),\n",
    "                        name = name,\n",
    "                        overlay = True,\n",
    "                        control = True\n",
    "                    ).add_to(self)\n",
    "            elif isinstance(ee_object, ee.featurecollection.FeatureCollection):  \n",
    "                ee_object_new = ee.Image().paint(ee_object, 0, 2)\n",
    "                map_id_dict = ee.Image(ee_object_new).getMapId(vis_params)\n",
    "                folium.raster_layers.TileLayer(\n",
    "                        tiles = map_id_dict['tile_fetcher'].url_format,\n",
    "                        attr = 'Google Earth Engine',\n",
    "                        name = name,\n",
    "                        overlay = True,\n",
    "                        control = True\n",
    "                    ).add_to(self)\n",
    "\n",
    "        except:\n",
    "            print(\"Could not display {}\".format(name))\n",
    "\n",
    "    # Add EE drawing method to folium.\n",
    "    folium.Map.add_ee_layer = add_ee_layer\n",
    "    \n",
    "    img_collect_calc = img_collect.map(calc_YYYYMM).map(calc_NDVI).map(calc_SAVI).map(calc_EVI)\n",
    "    \n",
    "    unique_month = list(set([item['properties']['YYYYMM'] for item in img_collect_calc.getInfo()['features']]))\n",
    "    unique_month.sort()\n",
    "    \n",
    "    if len(unique_month) > 0:\n",
    "        warnings.warn('There are null values in the output DataFrame. Proceed with caution.')\n",
    "    \n",
    "    img_calc_month_dict = dict()\n",
    "    temp_dict = dict()\n",
    "    for month in unique_month:\n",
    "        img_calc_month_dict[month] = img_collect_calc.filter(ee.Filter.eq('YYYYMM',month)).median()\n",
    "        img_calc_month2 = img_calc_month_dict[month].addBands(ee.Image.pixelLonLat())\n",
    "        data_month_lst = img_calc_month2.reduceRegion(reducer=ee.Reducer.toList(), \\\n",
    "                                                             geometry=area_of_interest_ee, maxPixels=1e13, scale=10)\n",
    "        lat_series = pd.Series(np.array((ee.Array(data_month_lst.get(\"latitude\")).getInfo())), name=\"lat\")\n",
    "        lon_series = pd.Series(np.array((ee.Array(data_month_lst.get(\"longitude\")).getInfo())), name=\"lon\")\n",
    "        ndvi_series = pd.Series(np.array((ee.Array(data_month_lst.get(\"ndvi\")).getInfo())), name=month+'_NDVI')\n",
    "        savi_series = pd.Series(np.array((ee.Array(data_month_lst.get(\"savi\")).getInfo())), name=month+'_SAVI')\n",
    "        evi_series = pd.Series(np.array((ee.Array(data_month_lst.get(\"evi\")).getInfo())), name=month+'_EVI')\n",
    "        temp_dict[month] = pd.concat([lat_series, lon_series, ndvi_series, savi_series, evi_series], axis=1)\n",
    "    \n",
    "    df_lst = list(temp_dict.values())\n",
    "    out_df = reduce(lambda left, right: pd.merge(left,right,on=['lat', 'lon']), df_lst)\n",
    "    if plot_option == 'no':\n",
    "        # Output the column names that have null values\n",
    "        if len(out_df.columns[out_df.isnull().any()]) > 0:\n",
    "            warnings.warn('There are null values in the output DataFrame. Proceed with caution.')\n",
    "        return out_df\n",
    "    else:\n",
    "        # Create a folium map object.\n",
    "        myMap = folium.Map(location=[center_lat, center_lon], zoom_start=8)\n",
    "        # Add the box around the area of interest\n",
    "        folium.GeoJson(area_of_interest_shapely, name=\"Area of Interest\").add_to(myMap)\n",
    "\n",
    "        if plot_option == 'RGB':\n",
    "            if 'Sentinel' in source:\n",
    "                visParams = {'min':0, 'max':3000}\n",
    "            elif 'Landsat' in source:\n",
    "                visParams = {'min':0, 'max':255}\n",
    "            if time_series=='no':\n",
    "                myMap.add_ee_layer(img_collect_calc.median().select(band_red, band_green, band_blue), visParams, name=source+' '+plot_option)\n",
    "            elif time_series==\"monthly\":\n",
    "                for month in unique_month:\n",
    "                    myMap.add_ee_layer(img_calc_month_dict[month].select(band_red, band_green, band_blue), visParams, name=source+' '+plot_option+' '+month)\n",
    "        elif plot_option == 'NDVI':\n",
    "            visParams = {'min':0, 'max':1, 'palette': ['red', 'yellow', 'green']}\n",
    "            if time_series=='no':\n",
    "                myMap.add_ee_layer(img_collect_calc.select(\"ndvi\"), visParams, name=source+' '+plot_option)\n",
    "            elif time_series==\"monthly\":\n",
    "                for month in unique_month:\n",
    "                    myMap.add_ee_layer(img_calc_month_dict[month].select(\"ndvi\"), visParams, name=source+' '+plot_option+' '+month)\n",
    "        elif plot_option == 'SAVI':\n",
    "            visParams = {'min':0, 'max':1, 'palette': ['red', 'yellow', 'green']}\n",
    "            if time_series=='no':\n",
    "                myMap.add_ee_layer(img_collect_calc.median().select(\"savi\"), visParams, name=source+' '+plot_option)\n",
    "            elif time_series==\"monthly\":\n",
    "                for month in unique_month:\n",
    "                    myMap.add_ee_layer(img_calc_month_dict[month].select(\"savi\"), visParams, name=source+' '+plot_option+' '+month)\n",
    "        elif plot_option == 'EVI':\n",
    "            visParams = {'min':0, 'max':1, 'palette': ['red', 'yellow', 'green']}\n",
    "            if time_series=='no':\n",
    "                myMap.add_ee_layer(img_collect_calc.median().select(\"evi\"), visParams, name=source+' '+plot_option)\n",
    "            elif time_series==\"monthly\":\n",
    "                for month in unique_month:\n",
    "                    myMap.add_ee_layer(img_calc_month_dict[month].select(\"evi\"), visParams, name=source+' '+plot_option+' '+month)\n",
    "\n",
    "        # Add a layer control panel to the map.\n",
    "        myMap.add_child(folium.LayerControl())\n",
    "\n",
    "        return myMap"
   ]
  },
  {
   "cell_type": "markdown",
   "metadata": {},
   "source": [
    "Define a function to convert Pandas DataFrame outputted from `satellite_imagery(..., plot_option='no')` to numpy array"
   ]
  },
  {
   "cell_type": "code",
   "execution_count": 7,
   "metadata": {},
   "outputs": [],
   "source": [
    "def time_series_prep(in_df, stat_option):\n",
    "    col_lst = list(in_df.columns)\n",
    "    col_lst_select = [i for i in col_lst if stat_option in i]\n",
    "    # Rearrange the order the columns based on YYYYMM\n",
    "    col_lst_select.sort()\n",
    "    out_df = in_df[col_lst_select]\n",
    "    return out_df.to_numpy()"
   ]
  },
  {
   "cell_type": "markdown",
   "metadata": {},
   "source": [
    "Display Landsat 7 RGB satellite image for a Brazil cropland"
   ]
  },
  {
   "cell_type": "code",
   "execution_count": 111,
   "metadata": {},
   "outputs": [],
   "source": [
    "# satellite_imagery(source=\"Landsat7\", center_lat=Brazil_ex1_lat, center_lon=Brazil_ex1_lon, edge_len=Brazil_ex1_edge_len,\n",
    "#                   start_date='2018-05-01', end_date='2018-7-31',\n",
    "#                   plot_option='RGB', time_series=\"no\")"
   ]
  },
  {
   "cell_type": "markdown",
   "metadata": {},
   "source": [
    "Display Sentinel-2 RGB satellite image for a Brazil cropland (higher resolution compared to Landsat 7 image with not fainted stripes)"
   ]
  },
  {
   "cell_type": "code",
   "execution_count": 113,
   "metadata": {},
   "outputs": [],
   "source": [
    "# satellite_imagery(source=\"Sentinel2_1C\", center_lat=Brazil_ex1_lat, center_lon=Brazil_ex1_lon, edge_len=Brazil_ex1_edge_len,\n",
    "#                   start_date='2018-05-01', end_date='2018-7-31',\n",
    "#                   plot_option='RGB', time_series=\"no\")"
   ]
  },
  {
   "cell_type": "markdown",
   "metadata": {},
   "source": [
    "Display Sentinel-2 NDVI satellite image for a Brazil cropland (red means no/unhealthy vegetation and green means healthy vegetation)"
   ]
  },
  {
   "cell_type": "code",
   "execution_count": 130,
   "metadata": {},
   "outputs": [],
   "source": [
    "# satellite_imagery(source=\"Sentinel2_1C\", center_lat=Brazil_ex1_lat, center_lon=Brazil_ex1_lon, edge_len=Brazil_ex1_edge_len,\n",
    "#                   start_date='2018-05-01', end_date='2018-5-10',\n",
    "#                   plot_option='NDVI', time_series=\"no\")"
   ]
  },
  {
   "cell_type": "markdown",
   "metadata": {},
   "source": [
    "Display Sentinel-2 NDVI satellite image for IL croplands.  \n",
    "Filtering (e.g., cloud cover filter) is done at a tile level, so different tiles can have different number of images. This is the cause of red trapezoid on the map."
   ]
  },
  {
   "cell_type": "code",
   "execution_count": 182,
   "metadata": {},
   "outputs": [],
   "source": [
    "# satellite_imagery(source=\"Sentinel2_1C\", center_lat=US_IL_lat, center_lon=US_IL_lon, edge_len=US_IL_edge_len,\n",
    "#                   start_date='2018-05-01', end_date='2018-7-31',\n",
    "#                   plot_option='NDVI', time_series=\"no\")"
   ]
  },
  {
   "cell_type": "markdown",
   "metadata": {},
   "source": [
    "Display Sentinel-2 NDVI satellite image for IL croplands by month."
   ]
  },
  {
   "cell_type": "code",
   "execution_count": 143,
   "metadata": {},
   "outputs": [],
   "source": [
    "# satellite_imagery(source=\"Sentinel2_1C\", center_lat=US_IL_lat, center_lon=US_IL_lon, edge_len=US_IL_edge_len,\n",
    "#                   start_date='2018-1-01', end_date='2018-12-31',\n",
    "#                   plot_option='NDVI', time_series=\"monthly\")"
   ]
  },
  {
   "cell_type": "markdown",
   "metadata": {},
   "source": [
    "Display an NDVI example of pivot irrigation system (in Idaho)"
   ]
  },
  {
   "cell_type": "code",
   "execution_count": 27,
   "metadata": {},
   "outputs": [],
   "source": [
    "# satellite_imagery(source=\"Sentinel2_1C\", center_lat=US_ID_lat, center_lon=US_ID_lon, edge_len=US_ID_edge_len,\n",
    "#                   start_date='2018-1-01', end_date='2018-12-31',\n",
    "#                   plot_option='NDVI', time_series=\"no\")"
   ]
  },
  {
   "cell_type": "markdown",
   "metadata": {},
   "source": [
    "Display an EVI example of pivot irrigation system (in Idaho)"
   ]
  },
  {
   "cell_type": "code",
   "execution_count": 45,
   "metadata": {},
   "outputs": [],
   "source": [
    "# satellite_imagery(source=\"Sentinel2_1C\", center_lat=US_ID_lat, center_lon=US_ID_lon, edge_len=US_ID_edge_len,\n",
    "#                   start_date='2018-1-01', end_date='2018-12-31',\n",
    "#                   plot_option='EVI', time_series=\"no\")"
   ]
  },
  {
   "cell_type": "markdown",
   "metadata": {},
   "source": [
    "Display an SAVI example of pivot irrigation system (in Idaho)"
   ]
  },
  {
   "cell_type": "code",
   "execution_count": 49,
   "metadata": {},
   "outputs": [],
   "source": [
    "# satellite_imagery(source=\"Sentinel2_1C\", center_lat=US_ID_lat, center_lon=US_ID_lon, edge_len=US_ID_edge_len,\n",
    "#                   start_date='2018-1-01', end_date='2018-12-31',\n",
    "#                   plot_option='SAVI', time_series=\"no\")"
   ]
  },
  {
   "cell_type": "markdown",
   "metadata": {},
   "source": [
    "Display an NDVI example of pivot irrigation system by month (in Idaho)  \n",
    "Preliminary finding: irrigated croplands have lower NDVI in the winter and higher NDVI in the summer."
   ]
  },
  {
   "cell_type": "code",
   "execution_count": 40,
   "metadata": {},
   "outputs": [],
   "source": [
    "# satellite_imagery(source=\"Sentinel2_1C\", center_lat=US_ID_lat, center_lon=US_ID_lon, edge_len=US_ID_edge_len,\n",
    "#                   start_date='2018-1-01', end_date='2018-12-31',\n",
    "#                   plot_option='NDVI', time_series=\"monthly\")"
   ]
  },
  {
   "cell_type": "markdown",
   "metadata": {},
   "source": [
    "================================================================================================================"
   ]
  },
  {
   "cell_type": "code",
   "execution_count": 25,
   "metadata": {},
   "outputs": [
    {
     "name": "stdout",
     "output_type": "stream",
     "text": [
      "Total number of images in the collection:  27\n"
     ]
    },
    {
     "name": "stderr",
     "output_type": "stream",
     "text": [
      "/usr/local/lib/python3.5/dist-packages/ipykernel_launcher.py:171: UserWarning: There are null values in the output DataFrame. Proceed with caution.\n"
     ]
    },
    {
     "data": {
      "text/html": [
       "<div style=\"width:100%;\"><div style=\"position:relative;width:100%;height:0;padding-bottom:60%;\"><iframe src=\"data:text/html;charset=utf-8;base64,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\" style=\"position:absolute;width:100%;height:100%;left:0;top:0;border:none !important;\" allowfullscreen webkitallowfullscreen mozallowfullscreen></iframe></div></div>"
      ],
      "text/plain": [
       "<folium.folium.Map at 0x7f5fe9bd1438>"
      ]
     },
     "execution_count": 25,
     "metadata": {},
     "output_type": "execute_result"
    }
   ],
   "source": [
    "satellite_imagery(source=\"Sentinel2_1C\", center_lat=US_ID_lat, center_lon=US_ID_lon, edge_len=US_ID_edge_len,\n",
    "                  start_date='2018-1-01', end_date='2018-12-31',\n",
    "                  plot_option='NDVI', time_series=\"monthly\")"
   ]
  },
  {
   "cell_type": "code",
   "execution_count": 19,
   "metadata": {},
   "outputs": [],
   "source": [
    "# satellite_imagery(source=\"Modis\", center_lat=US_ID_lat, center_lon=US_ID_lon, edge_len=US_ID_edge_len,\n",
    "#                   start_date='2018-1-01', end_date='2018-12-31',\n",
    "#                   plot_option='NDVI', time_series=\"no\")"
   ]
  },
  {
   "cell_type": "code",
   "execution_count": 20,
   "metadata": {},
   "outputs": [
    {
     "name": "stdout",
     "output_type": "stream",
     "text": [
      "Total number of images in the collection:  27\n"
     ]
    },
    {
     "name": "stderr",
     "output_type": "stream",
     "text": [
      "/usr/local/lib/python3.5/dist-packages/ipykernel_launcher.py:167: UserWarning: There are null values in the output DataFrame. Proceed with caution.\n"
     ]
    }
   ],
   "source": [
    "ID_df = satellite_imagery(source=\"Sentinel2_1C\", center_lat=US_ID_lat, center_lon=US_ID_lon, edge_len=US_ID_edge_len,\n",
    "                  start_date='2018-1-01', end_date='2018-12-31',\n",
    "                  plot_option='no', time_series=\"monthly\")"
   ]
  },
  {
   "cell_type": "code",
   "execution_count": 21,
   "metadata": {},
   "outputs": [],
   "source": [
    "ID_df.to_csv('time_series_ID_scale10.csv')"
   ]
  },
  {
   "cell_type": "code",
   "execution_count": 22,
   "metadata": {},
   "outputs": [
    {
     "data": {
      "text/html": [
       "<div>\n",
       "<style scoped>\n",
       "    .dataframe tbody tr th:only-of-type {\n",
       "        vertical-align: middle;\n",
       "    }\n",
       "\n",
       "    .dataframe tbody tr th {\n",
       "        vertical-align: top;\n",
       "    }\n",
       "\n",
       "    .dataframe thead th {\n",
       "        text-align: right;\n",
       "    }\n",
       "</style>\n",
       "<table border=\"1\" class=\"dataframe\">\n",
       "  <thead>\n",
       "    <tr style=\"text-align: right;\">\n",
       "      <th></th>\n",
       "      <th>lat</th>\n",
       "      <th>lon</th>\n",
       "      <th>201805_NDVI</th>\n",
       "      <th>201805_SAVI</th>\n",
       "      <th>201805_EVI</th>\n",
       "      <th>201812_NDVI</th>\n",
       "      <th>201812_SAVI</th>\n",
       "      <th>201812_EVI</th>\n",
       "      <th>201801_NDVI</th>\n",
       "      <th>201801_SAVI</th>\n",
       "      <th>...</th>\n",
       "      <th>201810_EVI</th>\n",
       "      <th>201808_NDVI</th>\n",
       "      <th>201808_SAVI</th>\n",
       "      <th>201808_EVI</th>\n",
       "      <th>201809_NDVI</th>\n",
       "      <th>201809_SAVI</th>\n",
       "      <th>201809_EVI</th>\n",
       "      <th>201807_NDVI</th>\n",
       "      <th>201807_SAVI</th>\n",
       "      <th>201807_EVI</th>\n",
       "    </tr>\n",
       "  </thead>\n",
       "  <tbody>\n",
       "    <tr>\n",
       "      <th>0</th>\n",
       "      <td>43.768661</td>\n",
       "      <td>-116.739350</td>\n",
       "      <td>0.176445</td>\n",
       "      <td>0.264642</td>\n",
       "      <td>0.561106</td>\n",
       "      <td>0.110320</td>\n",
       "      <td>0.165463</td>\n",
       "      <td>1.181932</td>\n",
       "      <td>-0.014664</td>\n",
       "      <td>-0.021996</td>\n",
       "      <td>...</td>\n",
       "      <td>2.157721</td>\n",
       "      <td>0.664816</td>\n",
       "      <td>0.997105</td>\n",
       "      <td>-7.735765</td>\n",
       "      <td>0.714488</td>\n",
       "      <td>1.071605</td>\n",
       "      <td>12.477374</td>\n",
       "      <td>0.653170</td>\n",
       "      <td>0.979619</td>\n",
       "      <td>-3.501948</td>\n",
       "    </tr>\n",
       "    <tr>\n",
       "      <th>1</th>\n",
       "      <td>43.768661</td>\n",
       "      <td>-116.739260</td>\n",
       "      <td>0.172219</td>\n",
       "      <td>0.258304</td>\n",
       "      <td>0.530505</td>\n",
       "      <td>0.100356</td>\n",
       "      <td>0.150518</td>\n",
       "      <td>1.080581</td>\n",
       "      <td>-0.018005</td>\n",
       "      <td>-0.027007</td>\n",
       "      <td>...</td>\n",
       "      <td>2.201001</td>\n",
       "      <td>0.665370</td>\n",
       "      <td>0.997933</td>\n",
       "      <td>-18.304278</td>\n",
       "      <td>0.692162</td>\n",
       "      <td>1.038121</td>\n",
       "      <td>11.431691</td>\n",
       "      <td>0.662800</td>\n",
       "      <td>0.994062</td>\n",
       "      <td>-2.991320</td>\n",
       "    </tr>\n",
       "    <tr>\n",
       "      <th>2</th>\n",
       "      <td>43.768661</td>\n",
       "      <td>-116.739170</td>\n",
       "      <td>0.166754</td>\n",
       "      <td>0.250107</td>\n",
       "      <td>0.514179</td>\n",
       "      <td>0.088017</td>\n",
       "      <td>0.132011</td>\n",
       "      <td>1.120817</td>\n",
       "      <td>-0.022291</td>\n",
       "      <td>-0.033435</td>\n",
       "      <td>...</td>\n",
       "      <td>2.114196</td>\n",
       "      <td>0.660143</td>\n",
       "      <td>0.990098</td>\n",
       "      <td>-19.423686</td>\n",
       "      <td>0.702319</td>\n",
       "      <td>1.053354</td>\n",
       "      <td>10.833210</td>\n",
       "      <td>0.647084</td>\n",
       "      <td>0.970498</td>\n",
       "      <td>-2.342274</td>\n",
       "    </tr>\n",
       "    <tr>\n",
       "      <th>3</th>\n",
       "      <td>43.768661</td>\n",
       "      <td>-116.739081</td>\n",
       "      <td>0.165201</td>\n",
       "      <td>0.247778</td>\n",
       "      <td>0.498756</td>\n",
       "      <td>0.108057</td>\n",
       "      <td>0.162068</td>\n",
       "      <td>1.569025</td>\n",
       "      <td>-0.022249</td>\n",
       "      <td>-0.033372</td>\n",
       "      <td>...</td>\n",
       "      <td>1.722504</td>\n",
       "      <td>0.658597</td>\n",
       "      <td>0.987778</td>\n",
       "      <td>-6.962047</td>\n",
       "      <td>0.704748</td>\n",
       "      <td>1.056998</td>\n",
       "      <td>12.353717</td>\n",
       "      <td>0.615602</td>\n",
       "      <td>0.923282</td>\n",
       "      <td>-4.086213</td>\n",
       "    </tr>\n",
       "    <tr>\n",
       "      <th>4</th>\n",
       "      <td>43.768661</td>\n",
       "      <td>-116.738991</td>\n",
       "      <td>0.165201</td>\n",
       "      <td>0.247778</td>\n",
       "      <td>0.498756</td>\n",
       "      <td>0.108057</td>\n",
       "      <td>0.162068</td>\n",
       "      <td>1.569025</td>\n",
       "      <td>-0.022249</td>\n",
       "      <td>-0.033372</td>\n",
       "      <td>...</td>\n",
       "      <td>1.722504</td>\n",
       "      <td>0.658597</td>\n",
       "      <td>0.987778</td>\n",
       "      <td>-6.962047</td>\n",
       "      <td>0.704748</td>\n",
       "      <td>1.056998</td>\n",
       "      <td>12.353717</td>\n",
       "      <td>0.615602</td>\n",
       "      <td>0.923282</td>\n",
       "      <td>-4.086213</td>\n",
       "    </tr>\n",
       "  </tbody>\n",
       "</table>\n",
       "<p>5 rows × 35 columns</p>\n",
       "</div>"
      ],
      "text/plain": [
       "         lat         lon  201805_NDVI  201805_SAVI  201805_EVI  201812_NDVI  \\\n",
       "0  43.768661 -116.739350     0.176445     0.264642    0.561106     0.110320   \n",
       "1  43.768661 -116.739260     0.172219     0.258304    0.530505     0.100356   \n",
       "2  43.768661 -116.739170     0.166754     0.250107    0.514179     0.088017   \n",
       "3  43.768661 -116.739081     0.165201     0.247778    0.498756     0.108057   \n",
       "4  43.768661 -116.738991     0.165201     0.247778    0.498756     0.108057   \n",
       "\n",
       "   201812_SAVI  201812_EVI  201801_NDVI  201801_SAVI  ...  201810_EVI  \\\n",
       "0     0.165463    1.181932    -0.014664    -0.021996  ...    2.157721   \n",
       "1     0.150518    1.080581    -0.018005    -0.027007  ...    2.201001   \n",
       "2     0.132011    1.120817    -0.022291    -0.033435  ...    2.114196   \n",
       "3     0.162068    1.569025    -0.022249    -0.033372  ...    1.722504   \n",
       "4     0.162068    1.569025    -0.022249    -0.033372  ...    1.722504   \n",
       "\n",
       "   201808_NDVI  201808_SAVI  201808_EVI  201809_NDVI  201809_SAVI  201809_EVI  \\\n",
       "0     0.664816     0.997105   -7.735765     0.714488     1.071605   12.477374   \n",
       "1     0.665370     0.997933  -18.304278     0.692162     1.038121   11.431691   \n",
       "2     0.660143     0.990098  -19.423686     0.702319     1.053354   10.833210   \n",
       "3     0.658597     0.987778   -6.962047     0.704748     1.056998   12.353717   \n",
       "4     0.658597     0.987778   -6.962047     0.704748     1.056998   12.353717   \n",
       "\n",
       "   201807_NDVI  201807_SAVI  201807_EVI  \n",
       "0     0.653170     0.979619   -3.501948  \n",
       "1     0.662800     0.994062   -2.991320  \n",
       "2     0.647084     0.970498   -2.342274  \n",
       "3     0.615602     0.923282   -4.086213  \n",
       "4     0.615602     0.923282   -4.086213  \n",
       "\n",
       "[5 rows x 35 columns]"
      ]
     },
     "execution_count": 22,
     "metadata": {},
     "output_type": "execute_result"
    }
   ],
   "source": [
    "ID_df.head()"
   ]
  },
  {
   "cell_type": "code",
   "execution_count": 40,
   "metadata": {},
   "outputs": [
    {
     "name": "stdout",
     "output_type": "stream",
     "text": [
      "Total number of images in the collection:  94\n"
     ]
    },
    {
     "name": "stderr",
     "output_type": "stream",
     "text": [
      "/usr/local/lib/python3.5/dist-packages/ipykernel_launcher.py:56: UserWarning: Multiple tiles are selected. Proceed with caution.\n"
     ]
    },
    {
     "name": "stdout",
     "output_type": "stream",
     "text": [
      "Number of tiles selected:  2\n"
     ]
    },
    {
     "name": "stderr",
     "output_type": "stream",
     "text": [
      "/usr/local/lib/python3.5/dist-packages/ipykernel_launcher.py:59: UserWarning: There are partial images in the collection. Proceed with caution.\n"
     ]
    },
    {
     "name": "stdout",
     "output_type": "stream",
     "text": [
      "Number of partial images:  6\n"
     ]
    },
    {
     "name": "stderr",
     "output_type": "stream",
     "text": [
      "/usr/local/lib/python3.5/dist-packages/ipykernel_launcher.py:171: UserWarning: There are null values in the output DataFrame. Proceed with caution.\n"
     ]
    },
    {
     "data": {
      "text/html": [
       "<div style=\"width:100%;\"><div style=\"position:relative;width:100%;height:0;padding-bottom:60%;\"><iframe src=\"data:text/html;charset=utf-8;base64,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\" style=\"position:absolute;width:100%;height:100%;left:0;top:0;border:none !important;\" allowfullscreen webkitallowfullscreen mozallowfullscreen></iframe></div></div>"
      ],
      "text/plain": [
       "<folium.folium.Map at 0x7f5fb9559d30>"
      ]
     },
     "execution_count": 40,
     "metadata": {},
     "output_type": "execute_result"
    }
   ],
   "source": [
    "satellite_imagery(source=\"Sentinel2_1C\", center_lat=India_1_lat, center_lon=India_1_lon, edge_len=India_1_edge_len,\n",
    "                  start_date='2018-1-01', end_date='2018-12-31',\n",
    "                  plot_option='NDVI', time_series=\"monthly\")"
   ]
  }
 ],
 "metadata": {
  "kernelspec": {
   "display_name": "Python 3",
   "language": "python",
   "name": "python3"
  },
  "language_info": {
   "codemirror_mode": {
    "name": "ipython",
    "version": 3
   },
   "file_extension": ".py",
   "mimetype": "text/x-python",
   "name": "python",
   "nbconvert_exporter": "python",
   "pygments_lexer": "ipython3",
   "version": "3.5.2"
  }
 },
 "nbformat": 4,
 "nbformat_minor": 4
}
