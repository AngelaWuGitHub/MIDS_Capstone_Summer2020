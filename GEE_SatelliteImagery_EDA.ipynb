{
 "cells": [
  {
   "cell_type": "code",
   "execution_count": 3,
   "metadata": {},
   "outputs": [],
   "source": [
    "import ee # Google Earth Engine\n",
    "import datetime\n",
    "#import ipyleaflet\n",
    "import numpy as np\n",
    "import matplotlib.pyplot as plt\n",
    "import folium"
   ]
  },
  {
   "cell_type": "markdown",
   "metadata": {},
   "source": [
    "Initialize Google Earth Engine (GEE)"
   ]
  },
  {
   "cell_type": "code",
   "execution_count": 4,
   "metadata": {},
   "outputs": [],
   "source": [
    "ee.Initialize()"
   ]
  },
  {
   "cell_type": "markdown",
   "metadata": {},
   "source": [
    "Specify an area of interest"
   ]
  },
  {
   "cell_type": "code",
   "execution_count": 39,
   "metadata": {},
   "outputs": [],
   "source": [
    "# area of interest has lat, lon of (-10.883689, -44.005800)\n",
    "Brazil_ex1_lat, Brazil_ex1_lon = -10.883689, -44.005800\n",
    "Brazil_ex1_edge_len = 0.2"
   ]
  },
  {
   "cell_type": "code",
   "execution_count": 40,
   "metadata": {},
   "outputs": [],
   "source": [
    "def satallite_imagery(source, center_lat, center_lon, edge_len,\n",
    "                      start_date, end_date, \n",
    "                      plot_option):\n",
    "    # Sentinel-2 Level 1-C: https://developers.google.com/earth-engine/datasets/catalog/COPERNICUS_S2\n",
    "    # Sentinel-2 Level 2-A: https://developers.google.com/earth-engine/datasets/catalog/COPERNICUS_S2_SR\n",
    "    # Landsat Tier structure: https://developers.google.com/earth-engine/landsat#landsat-collection-structure\n",
    "    if source == \"Sentinel2_1C\":\n",
    "        source_loc = 'COPERNICUS/S2'\n",
    "    elif source == \"Sentinel2_2A\":\n",
    "        source_loc = 'COPERNICUS/S2_SR'\n",
    "    elif source == \"Landsat7\":\n",
    "        source_loc = 'LANDSAT/LE07/C01/T1'\n",
    "    elif source == \"Landsat8\":\n",
    "        source_loc = 'LANDSAT/LC08/C01/T1_SR'\n",
    "    else:\n",
    "        raise Exception('Invalid source of satellite imagery')\n",
    "        \n",
    "    area_of_interest = ee.Geometry.Polygon([[center_lon-edge_len/2, center_lat-edge_len/2], \n",
    "                           [center_lon-edge_len/2, center_lat+edge_len/2], \n",
    "                           [center_lon+edge_len/2, center_lat+edge_len/2], \n",
    "                           [center_lon+edge_len/2, center_lat-edge_len/2]])\n",
    "    \n",
    "    img_collect = (ee.ImageCollection(source_loc)\n",
    "                 .filterDate(start_date, end_date)\n",
    "                 .filterBounds(area_of_interest))\n",
    "    \n",
    "    if 'Sentinel' in source:\n",
    "        img_collect = img_collect.filterMetadata(\"CLOUDY_PIXEL_PERCENTAGE\",\"less_than\",10)\n",
    "    elif 'Landsat' in source:\n",
    "        img_collect = img_collect.filter(ee.Filter.lt('CLOUD_COVER', 3))\n",
    "    \n",
    "    assert (img_collect.size().getInfo()>0), \"No valid image\"\n",
    "    \n",
    "    print(\"Number of images in the collection: \", img_collect.size().getInfo())\n",
    "    \n",
    "    if 'Sentinel' in source:\n",
    "        # Reference: https://www.satimagingcorp.com/satellite-sensors/other-satellite-sensors/sentinel-2a/\n",
    "        band_blue = 'B2' #10m\n",
    "        band_green = 'B3' #10m\n",
    "        band_red = \"B4\"  #10m\n",
    "        band_nir = 'B8'  #10m\n",
    "    # Reference: https://landsat.gsfc.nasa.gov/landsat-data-continuity-mission/\n",
    "    elif 'Landsat7' in source:\n",
    "        # Reference: https://www.usgs.gov/land-resources/nli/landsat/landsat-7?qt-science_support_page_related_con=0#qt-science_support_page_related_con\n",
    "        band_blue = 'B1' #30m\n",
    "        band_green = 'B2' #30m\n",
    "        band_red = \"B3\"  #30m\n",
    "        band_nir = 'B4'  #30m\n",
    "    elif 'Landsat8' in source:\n",
    "        # Reference: https://www.usgs.gov/faqs/what-are-best-landsat-spectral-bands-use-my-research?qt-news_science_products=0#qt-news_science_products\n",
    "        band_blue = 'B2' #30m\n",
    "        band_green = 'B3' #30m\n",
    "        band_red = \"B4\"  #30m\n",
    "        band_nir = 'B5'  #30m    \n",
    "    \n",
    "    def calc_NDVI(img):\n",
    "        ndvi = ee.Image(img.normalizedDifference([band_nir, band_red])).rename([\"ndvi\"]).copyProperties(img, img.propertyNames())\n",
    "        composite = img.addBands(ndvi)\n",
    "        return composite\n",
    "    \n",
    "    def add_ee_layer(self, ee_object, vis_params, name):\n",
    "        try:    \n",
    "            if isinstance(ee_object, ee.image.Image):    \n",
    "                map_id_dict = ee.Image(ee_object).getMapId(vis_params)\n",
    "                folium.raster_layers.TileLayer(\n",
    "                tiles = map_id_dict['tile_fetcher'].url_format,\n",
    "                attr = 'Google Earth Engine',\n",
    "                name = name,\n",
    "                overlay = True,\n",
    "                control = True\n",
    "                ).add_to(self)\n",
    "            elif isinstance(ee_object, ee.imagecollection.ImageCollection):    \n",
    "                ee_object_new = ee_object.mosaic()\n",
    "                map_id_dict = ee.Image(ee_object_new).getMapId(vis_params)\n",
    "                folium.raster_layers.TileLayer(\n",
    "                tiles = map_id_dict['tile_fetcher'].url_format,\n",
    "                attr = 'Google Earth Engine',\n",
    "                name = name,\n",
    "                overlay = True,\n",
    "                control = True\n",
    "                ).add_to(self)\n",
    "            elif isinstance(ee_object, ee.geometry.Geometry):    \n",
    "                folium.GeoJson(\n",
    "                data = ee_object.getInfo(),\n",
    "                name = name,\n",
    "                overlay = True,\n",
    "                control = True\n",
    "            ).add_to(self)\n",
    "            elif isinstance(ee_object, ee.featurecollection.FeatureCollection):  \n",
    "                ee_object_new = ee.Image().paint(ee_object, 0, 2)\n",
    "                map_id_dict = ee.Image(ee_object_new).getMapId(vis_params)\n",
    "                folium.raster_layers.TileLayer(\n",
    "                tiles = map_id_dict['tile_fetcher'].url_format,\n",
    "                attr = 'Google Earth Engine',\n",
    "                name = name,\n",
    "                overlay = True,\n",
    "                control = True\n",
    "            ).add_to(self)\n",
    "\n",
    "        except:\n",
    "            print(\"Could not display {}\".format(name))\n",
    "\n",
    "    # Add EE drawing method to folium.\n",
    "    folium.Map.add_ee_layer = add_ee_layer\n",
    "    \n",
    "    img_display = img_collect.map(calc_NDVI).median()\n",
    "    \n",
    "    # Create a folium map object.\n",
    "    myMap = folium.Map(location=[center_lat, center_lon], zoom_start=8)\n",
    "    \n",
    "    if plot_option == 'RGB':\n",
    "        if 'Sentinel' in source:\n",
    "            visParams = {'min':0, 'max':3000}\n",
    "        elif 'Landsat' in source:\n",
    "            visParams = {'min':0, 'max':255}\n",
    "        myMap.add_ee_layer(img_display.select(band_red, band_green, band_blue), visParams, name='LANDSAT')\n",
    "    elif plot_option == 'VI':\n",
    "        visParams = {'min':0, 'max':1, 'palette': ['red', 'yellow', 'green']}\n",
    "        myMap.add_ee_layer(img_display.select(\"ndvi\"), visParams, name='LANDSAT')\n",
    "\n",
    "    # Add a layer control panel to the map.\n",
    "    myMap.add_child(folium.LayerControl())\n",
    "    \n",
    "    return myMap"
   ]
  },
  {
   "cell_type": "code",
   "execution_count": 45,
   "metadata": {},
   "outputs": [
    {
     "name": "stdout",
     "output_type": "stream",
     "text": [
      "Number of images in the collection:  124\n"
     ]
    },
    {
     "data": {
      "text/html": [
       "<div style=\"width:100%;\"><div style=\"position:relative;width:100%;height:0;padding-bottom:60%;\"><iframe src=\"data:text/html;charset=utf-8;base64,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\" style=\"position:absolute;width:100%;height:100%;left:0;top:0;border:none !important;\" allowfullscreen webkitallowfullscreen mozallowfullscreen></iframe></div></div>"
      ],
      "text/plain": [
       "<folium.folium.Map at 0x7fa5b1c5ee48>"
      ]
     },
     "execution_count": 45,
     "metadata": {},
     "output_type": "execute_result"
    }
   ],
   "source": [
    "satallite_imagery(source=\"Sentinel2_1C\", center_lat=Brazil_ex1_lat, center_lon=Brazil_ex1_lon, edge_len=Brazil_ex1_edge_len,\n",
    "                  start_date='2018-05-01', end_date='2018-7-31',\n",
    "                  plot_option='VI')"
   ]
  },
  {
   "cell_type": "code",
   "execution_count": 24,
   "metadata": {},
   "outputs": [
    {
     "ename": "NameError",
     "evalue": "name 'Brazil_ex1_area' is not defined",
     "output_type": "error",
     "traceback": [
      "\u001b[0;31m---------------------------------------------------------------------------\u001b[0m",
      "\u001b[0;31mNameError\u001b[0m                                 Traceback (most recent call last)",
      "\u001b[0;32m<ipython-input-24-ae2d4496d2a8>\u001b[0m in \u001b[0;36m<module>\u001b[0;34m\u001b[0m\n\u001b[0;32m----> 1\u001b[0;31m \u001b[0mtype\u001b[0m\u001b[0;34m(\u001b[0m\u001b[0mBrazil_ex1_area\u001b[0m\u001b[0;34m)\u001b[0m \u001b[0;34m==\u001b[0m \u001b[0mee\u001b[0m\u001b[0;34m.\u001b[0m\u001b[0mgeometry\u001b[0m\u001b[0;34m.\u001b[0m\u001b[0mGeometry\u001b[0m\u001b[0;34m\u001b[0m\u001b[0m\n\u001b[0m",
      "\u001b[0;31mNameError\u001b[0m: name 'Brazil_ex1_area' is not defined"
     ]
    }
   ],
   "source": [
    "type(Brazil_ex1_area) == ee.geometry.Geometry"
   ]
  },
  {
   "cell_type": "code",
   "execution_count": null,
   "metadata": {},
   "outputs": [],
   "source": []
  }
 ],
 "metadata": {
  "kernelspec": {
   "display_name": "Python 3",
   "language": "python",
   "name": "python3"
  },
  "language_info": {
   "codemirror_mode": {
    "name": "ipython",
    "version": 3
   },
   "file_extension": ".py",
   "mimetype": "text/x-python",
   "name": "python",
   "nbconvert_exporter": "python",
   "pygments_lexer": "ipython3",
   "version": "3.5.2"
  }
 },
 "nbformat": 4,
 "nbformat_minor": 4
}
