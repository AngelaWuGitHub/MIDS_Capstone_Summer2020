{
 "cells": [
  {
   "cell_type": "code",
   "execution_count": 1,
   "metadata": {},
   "outputs": [
    {
     "name": "stderr",
     "output_type": "stream",
     "text": [
      "Using TensorFlow backend.\n"
     ]
    }
   ],
   "source": [
    "import ee\n",
    "import geopandas\n",
    "import datetime\n",
    "import numpy as np\n",
    "import pandas as pd\n",
    "import matplotlib.pyplot as plt\n",
    "import folium\n",
    "from ast import literal_eval\n",
    "from shapely import wkt\n",
    "from shapely.geometry import box, Point, LineString, Polygon, MultiLineString\n",
    "from shapely.ops import split\n",
    "import math\n",
    "import warnings\n",
    "from matplotlib import pyplot as plt\n",
    "\n",
    "from numpy import array\n",
    "from keras.models import Sequential\n",
    "from keras.layers import LSTM, Dense, Dropout\n",
    "from keras.utils import to_categorical\n",
    "from keras.optimizers import Adam\n",
    "\n",
    "from sklearn.model_selection import train_test_split\n",
    "from sklearn.ensemble import GradientBoostingClassifier, RandomForestClassifier\n",
    "from sklearn.linear_model import LogisticRegression\n",
    "\n",
    "import pickle\n",
    "import csv"
   ]
  },
  {
   "cell_type": "code",
   "execution_count": 2,
   "metadata": {},
   "outputs": [],
   "source": [
    "# ee.Initialize()"
   ]
  },
  {
   "cell_type": "markdown",
   "metadata": {},
   "source": [
    "Read in the country boundary file and randomly selected lat/lon"
   ]
  },
  {
   "cell_type": "code",
   "execution_count": 4,
   "metadata": {},
   "outputs": [
    {
     "data": {
      "text/html": [
       "<div>\n",
       "<style scoped>\n",
       "    .dataframe tbody tr th:only-of-type {\n",
       "        vertical-align: middle;\n",
       "    }\n",
       "\n",
       "    .dataframe tbody tr th {\n",
       "        vertical-align: top;\n",
       "    }\n",
       "\n",
       "    .dataframe thead th {\n",
       "        text-align: right;\n",
       "    }\n",
       "</style>\n",
       "<table border=\"1\" class=\"dataframe\">\n",
       "  <thead>\n",
       "    <tr style=\"text-align: right;\">\n",
       "      <th></th>\n",
       "      <th>201801_EVI</th>\n",
       "      <th>201801_NDVI</th>\n",
       "      <th>201801_SAVI</th>\n",
       "      <th>201802_EVI</th>\n",
       "      <th>201802_NDVI</th>\n",
       "      <th>201802_SAVI</th>\n",
       "      <th>201803_EVI</th>\n",
       "      <th>201803_NDVI</th>\n",
       "      <th>201803_SAVI</th>\n",
       "      <th>201804_EVI</th>\n",
       "      <th>...</th>\n",
       "      <th>201811_NDVI</th>\n",
       "      <th>201811_SAVI</th>\n",
       "      <th>201812_EVI</th>\n",
       "      <th>201812_NDVI</th>\n",
       "      <th>201812_SAVI</th>\n",
       "      <th>country_segment_code</th>\n",
       "      <th>landcover</th>\n",
       "      <th>lat</th>\n",
       "      <th>lon</th>\n",
       "      <th>label</th>\n",
       "    </tr>\n",
       "  </thead>\n",
       "  <tbody>\n",
       "    <tr>\n",
       "      <th>0</th>\n",
       "      <td>-3.177990</td>\n",
       "      <td>0.434695</td>\n",
       "      <td>0.651910</td>\n",
       "      <td>-2.155830</td>\n",
       "      <td>0.143705</td>\n",
       "      <td>0.215522</td>\n",
       "      <td>0.731757</td>\n",
       "      <td>0.177798</td>\n",
       "      <td>0.266657</td>\n",
       "      <td>-1.398783</td>\n",
       "      <td>...</td>\n",
       "      <td>0.498200</td>\n",
       "      <td>0.747166</td>\n",
       "      <td>-6.618986</td>\n",
       "      <td>0.450540</td>\n",
       "      <td>0.675686</td>\n",
       "      <td>KHM_0</td>\n",
       "      <td>0</td>\n",
       "      <td>14.139</td>\n",
       "      <td>106.360</td>\n",
       "      <td>NaN</td>\n",
       "    </tr>\n",
       "    <tr>\n",
       "      <th>1</th>\n",
       "      <td>-3.201427</td>\n",
       "      <td>0.447774</td>\n",
       "      <td>0.671535</td>\n",
       "      <td>-2.412143</td>\n",
       "      <td>0.493607</td>\n",
       "      <td>0.740282</td>\n",
       "      <td>-2.939160</td>\n",
       "      <td>0.536976</td>\n",
       "      <td>0.805343</td>\n",
       "      <td>-4.702053</td>\n",
       "      <td>...</td>\n",
       "      <td>0.328143</td>\n",
       "      <td>0.492147</td>\n",
       "      <td>-1.401169</td>\n",
       "      <td>0.423077</td>\n",
       "      <td>0.634431</td>\n",
       "      <td>KHM_0</td>\n",
       "      <td>0</td>\n",
       "      <td>12.016</td>\n",
       "      <td>103.226</td>\n",
       "      <td>NaN</td>\n",
       "    </tr>\n",
       "    <tr>\n",
       "      <th>2</th>\n",
       "      <td>0.441103</td>\n",
       "      <td>0.168044</td>\n",
       "      <td>0.252025</td>\n",
       "      <td>-1.948273</td>\n",
       "      <td>0.209628</td>\n",
       "      <td>0.314393</td>\n",
       "      <td>-1.510097</td>\n",
       "      <td>0.219080</td>\n",
       "      <td>0.328573</td>\n",
       "      <td>-88.341848</td>\n",
       "      <td>...</td>\n",
       "      <td>0.523226</td>\n",
       "      <td>0.784739</td>\n",
       "      <td>37.076897</td>\n",
       "      <td>0.548827</td>\n",
       "      <td>0.823129</td>\n",
       "      <td>KHM_0</td>\n",
       "      <td>3</td>\n",
       "      <td>12.517</td>\n",
       "      <td>105.373</td>\n",
       "      <td>0.0</td>\n",
       "    </tr>\n",
       "    <tr>\n",
       "      <th>3</th>\n",
       "      <td>-4.601671</td>\n",
       "      <td>0.662005</td>\n",
       "      <td>0.992860</td>\n",
       "      <td>-2.546674</td>\n",
       "      <td>0.604884</td>\n",
       "      <td>0.907192</td>\n",
       "      <td>-3.379477</td>\n",
       "      <td>0.549187</td>\n",
       "      <td>0.823674</td>\n",
       "      <td>-4.602324</td>\n",
       "      <td>...</td>\n",
       "      <td>0.452731</td>\n",
       "      <td>0.678988</td>\n",
       "      <td>-7.432097</td>\n",
       "      <td>0.444197</td>\n",
       "      <td>0.666213</td>\n",
       "      <td>KHM_0</td>\n",
       "      <td>4</td>\n",
       "      <td>12.280</td>\n",
       "      <td>102.655</td>\n",
       "      <td>0.0</td>\n",
       "    </tr>\n",
       "    <tr>\n",
       "      <th>4</th>\n",
       "      <td>12.719153</td>\n",
       "      <td>0.246539</td>\n",
       "      <td>0.369751</td>\n",
       "      <td>-1.422424</td>\n",
       "      <td>0.223287</td>\n",
       "      <td>0.334891</td>\n",
       "      <td>0.192333</td>\n",
       "      <td>0.162724</td>\n",
       "      <td>0.244066</td>\n",
       "      <td>4.276400</td>\n",
       "      <td>...</td>\n",
       "      <td>0.568106</td>\n",
       "      <td>0.852000</td>\n",
       "      <td>-6.192888</td>\n",
       "      <td>0.456797</td>\n",
       "      <td>0.685105</td>\n",
       "      <td>KHM_0</td>\n",
       "      <td>3</td>\n",
       "      <td>10.874</td>\n",
       "      <td>104.658</td>\n",
       "      <td>0.0</td>\n",
       "    </tr>\n",
       "  </tbody>\n",
       "</table>\n",
       "<p>5 rows × 41 columns</p>\n",
       "</div>"
      ],
      "text/plain": [
       "   201801_EVI  201801_NDVI  201801_SAVI  201802_EVI  201802_NDVI  201802_SAVI  \\\n",
       "0   -3.177990     0.434695     0.651910   -2.155830     0.143705     0.215522   \n",
       "1   -3.201427     0.447774     0.671535   -2.412143     0.493607     0.740282   \n",
       "2    0.441103     0.168044     0.252025   -1.948273     0.209628     0.314393   \n",
       "3   -4.601671     0.662005     0.992860   -2.546674     0.604884     0.907192   \n",
       "4   12.719153     0.246539     0.369751   -1.422424     0.223287     0.334891   \n",
       "\n",
       "   201803_EVI  201803_NDVI  201803_SAVI  201804_EVI  ...  201811_NDVI  \\\n",
       "0    0.731757     0.177798     0.266657   -1.398783  ...     0.498200   \n",
       "1   -2.939160     0.536976     0.805343   -4.702053  ...     0.328143   \n",
       "2   -1.510097     0.219080     0.328573  -88.341848  ...     0.523226   \n",
       "3   -3.379477     0.549187     0.823674   -4.602324  ...     0.452731   \n",
       "4    0.192333     0.162724     0.244066    4.276400  ...     0.568106   \n",
       "\n",
       "   201811_SAVI  201812_EVI  201812_NDVI  201812_SAVI  country_segment_code  \\\n",
       "0     0.747166   -6.618986     0.450540     0.675686                 KHM_0   \n",
       "1     0.492147   -1.401169     0.423077     0.634431                 KHM_0   \n",
       "2     0.784739   37.076897     0.548827     0.823129                 KHM_0   \n",
       "3     0.678988   -7.432097     0.444197     0.666213                 KHM_0   \n",
       "4     0.852000   -6.192888     0.456797     0.685105                 KHM_0   \n",
       "\n",
       "   landcover     lat      lon  label  \n",
       "0          0  14.139  106.360    NaN  \n",
       "1          0  12.016  103.226    NaN  \n",
       "2          3  12.517  105.373    0.0  \n",
       "3          4  12.280  102.655    0.0  \n",
       "4          3  10.874  104.658    0.0  \n",
       "\n",
       "[5 rows x 41 columns]"
      ]
     },
     "execution_count": 4,
     "metadata": {},
     "output_type": "execute_result"
    }
   ],
   "source": [
    "# There are in total of 6 categories\n",
    "#     0: Non-croplands\n",
    "#     1: Croplands: irrigation major\n",
    "#     2: Croplands: irrigation minor\n",
    "#     3: Croplands: rainfed\n",
    "#     4: Croplands: rainfed, minor fragments\n",
    "#     5: Croplands: rainfed, rainfed, very minor fragments\n",
    "sentinel_df = pd.read_csv('../data/Sample_Sentinel_2018.csv', index_col=[0])\n",
    "sentinel_df['lat'] = sentinel_df['lat'].round(3)\n",
    "sentinel_df['lon'] = sentinel_df['lon'].round(3)\n",
    "# def create_label(row):\n",
    "#     if row['landcover'] == 0:\n",
    "#         return 0\n",
    "#     elif row['landcover'] in [1, 2]:\n",
    "#         return 1\n",
    "#     elif row['landcover'] in [3, 4, 5]:\n",
    "#         return 2\n",
    "#     else:\n",
    "#         return None\n",
    "def create_label(row):\n",
    "    if row['landcover'] == 0:\n",
    "        return None\n",
    "    elif row['landcover'] in [1, 2]:\n",
    "        return 1\n",
    "    elif row['landcover'] in [3, 4, 5]:\n",
    "        return 0\n",
    "    else:\n",
    "        return None\n",
    "sentinel_df['label'] = sentinel_df.apply(create_label, axis=1)\n",
    "sentinel_df.head()"
   ]
  },
  {
   "cell_type": "code",
   "execution_count": 4,
   "metadata": {},
   "outputs": [
    {
     "data": {
      "text/html": [
       "<div>\n",
       "<style scoped>\n",
       "    .dataframe tbody tr th:only-of-type {\n",
       "        vertical-align: middle;\n",
       "    }\n",
       "\n",
       "    .dataframe tbody tr th {\n",
       "        vertical-align: top;\n",
       "    }\n",
       "\n",
       "    .dataframe thead th {\n",
       "        text-align: right;\n",
       "    }\n",
       "</style>\n",
       "<table border=\"1\" class=\"dataframe\">\n",
       "  <thead>\n",
       "    <tr style=\"text-align: right;\">\n",
       "      <th></th>\n",
       "      <th>201801_aet</th>\n",
       "      <th>201801_def</th>\n",
       "      <th>201801_pdsi</th>\n",
       "      <th>201801_pet</th>\n",
       "      <th>201801_pr</th>\n",
       "      <th>201801_ro</th>\n",
       "      <th>201801_soil</th>\n",
       "      <th>201801_srad</th>\n",
       "      <th>201801_swe</th>\n",
       "      <th>201801_tmmn</th>\n",
       "      <th>...</th>\n",
       "      <th>201812_srad</th>\n",
       "      <th>201812_swe</th>\n",
       "      <th>201812_tmmn</th>\n",
       "      <th>201812_tmmx</th>\n",
       "      <th>201812_vap</th>\n",
       "      <th>201812_vpd</th>\n",
       "      <th>201812_vs</th>\n",
       "      <th>country_segment_code</th>\n",
       "      <th>lat</th>\n",
       "      <th>lon</th>\n",
       "    </tr>\n",
       "  </thead>\n",
       "  <tbody>\n",
       "    <tr>\n",
       "      <th>0</th>\n",
       "      <td>0.0</td>\n",
       "      <td>0.0</td>\n",
       "      <td>200.0</td>\n",
       "      <td>0.0</td>\n",
       "      <td>2.0</td>\n",
       "      <td>0.0</td>\n",
       "      <td>100.0</td>\n",
       "      <td>6.0</td>\n",
       "      <td>41.0</td>\n",
       "      <td>-406.0</td>\n",
       "      <td>...</td>\n",
       "      <td>0.0</td>\n",
       "      <td>46.0</td>\n",
       "      <td>-385.0</td>\n",
       "      <td>-324.0</td>\n",
       "      <td>46.0</td>\n",
       "      <td>-2.0</td>\n",
       "      <td>270.0</td>\n",
       "      <td>CAN_23</td>\n",
       "      <td>79.478</td>\n",
       "      <td>-86.660</td>\n",
       "    </tr>\n",
       "    <tr>\n",
       "      <th>1</th>\n",
       "      <td>0.0</td>\n",
       "      <td>0.0</td>\n",
       "      <td>320.0</td>\n",
       "      <td>0.0</td>\n",
       "      <td>2.0</td>\n",
       "      <td>0.0</td>\n",
       "      <td>246.0</td>\n",
       "      <td>5.0</td>\n",
       "      <td>37.0</td>\n",
       "      <td>-378.0</td>\n",
       "      <td>...</td>\n",
       "      <td>0.0</td>\n",
       "      <td>44.0</td>\n",
       "      <td>-356.0</td>\n",
       "      <td>-293.0</td>\n",
       "      <td>40.0</td>\n",
       "      <td>0.0</td>\n",
       "      <td>310.0</td>\n",
       "      <td>CAN_23</td>\n",
       "      <td>79.327</td>\n",
       "      <td>-87.898</td>\n",
       "    </tr>\n",
       "    <tr>\n",
       "      <th>3</th>\n",
       "      <td>780.0</td>\n",
       "      <td>0.0</td>\n",
       "      <td>220.0</td>\n",
       "      <td>780.0</td>\n",
       "      <td>120.0</td>\n",
       "      <td>42.0</td>\n",
       "      <td>1966.0</td>\n",
       "      <td>1543.0</td>\n",
       "      <td>0.0</td>\n",
       "      <td>161.0</td>\n",
       "      <td>...</td>\n",
       "      <td>1958.0</td>\n",
       "      <td>0.0</td>\n",
       "      <td>171.0</td>\n",
       "      <td>259.0</td>\n",
       "      <td>2202.0</td>\n",
       "      <td>61.0</td>\n",
       "      <td>150.0</td>\n",
       "      <td>HND_0</td>\n",
       "      <td>15.523</td>\n",
       "      <td>-88.367</td>\n",
       "    </tr>\n",
       "    <tr>\n",
       "      <th>4</th>\n",
       "      <td>611.0</td>\n",
       "      <td>329.0</td>\n",
       "      <td>150.0</td>\n",
       "      <td>940.0</td>\n",
       "      <td>26.0</td>\n",
       "      <td>1.0</td>\n",
       "      <td>1357.0</td>\n",
       "      <td>1848.0</td>\n",
       "      <td>0.0</td>\n",
       "      <td>118.0</td>\n",
       "      <td>...</td>\n",
       "      <td>2030.0</td>\n",
       "      <td>0.0</td>\n",
       "      <td>132.0</td>\n",
       "      <td>225.0</td>\n",
       "      <td>1607.0</td>\n",
       "      <td>55.0</td>\n",
       "      <td>270.0</td>\n",
       "      <td>HND_0</td>\n",
       "      <td>14.158</td>\n",
       "      <td>-87.255</td>\n",
       "    </tr>\n",
       "    <tr>\n",
       "      <th>5</th>\n",
       "      <td>670.0</td>\n",
       "      <td>684.0</td>\n",
       "      <td>-10.0</td>\n",
       "      <td>1354.0</td>\n",
       "      <td>4.0</td>\n",
       "      <td>0.0</td>\n",
       "      <td>1307.0</td>\n",
       "      <td>2091.0</td>\n",
       "      <td>0.0</td>\n",
       "      <td>158.0</td>\n",
       "      <td>...</td>\n",
       "      <td>2176.0</td>\n",
       "      <td>0.0</td>\n",
       "      <td>170.0</td>\n",
       "      <td>302.0</td>\n",
       "      <td>2044.0</td>\n",
       "      <td>113.0</td>\n",
       "      <td>210.0</td>\n",
       "      <td>HND_0</td>\n",
       "      <td>14.035</td>\n",
       "      <td>-88.304</td>\n",
       "    </tr>\n",
       "  </tbody>\n",
       "</table>\n",
       "<p>5 rows × 171 columns</p>\n",
       "</div>"
      ],
      "text/plain": [
       "   201801_aet  201801_def  201801_pdsi  201801_pet  201801_pr  201801_ro  \\\n",
       "0         0.0         0.0        200.0         0.0        2.0        0.0   \n",
       "1         0.0         0.0        320.0         0.0        2.0        0.0   \n",
       "3       780.0         0.0        220.0       780.0      120.0       42.0   \n",
       "4       611.0       329.0        150.0       940.0       26.0        1.0   \n",
       "5       670.0       684.0        -10.0      1354.0        4.0        0.0   \n",
       "\n",
       "   201801_soil  201801_srad  201801_swe  201801_tmmn  ...  201812_srad  \\\n",
       "0        100.0          6.0        41.0       -406.0  ...          0.0   \n",
       "1        246.0          5.0        37.0       -378.0  ...          0.0   \n",
       "3       1966.0       1543.0         0.0        161.0  ...       1958.0   \n",
       "4       1357.0       1848.0         0.0        118.0  ...       2030.0   \n",
       "5       1307.0       2091.0         0.0        158.0  ...       2176.0   \n",
       "\n",
       "   201812_swe  201812_tmmn  201812_tmmx  201812_vap  201812_vpd  201812_vs  \\\n",
       "0        46.0       -385.0       -324.0        46.0        -2.0      270.0   \n",
       "1        44.0       -356.0       -293.0        40.0         0.0      310.0   \n",
       "3         0.0        171.0        259.0      2202.0        61.0      150.0   \n",
       "4         0.0        132.0        225.0      1607.0        55.0      270.0   \n",
       "5         0.0        170.0        302.0      2044.0       113.0      210.0   \n",
       "\n",
       "   country_segment_code     lat     lon  \n",
       "0                CAN_23  79.478 -86.660  \n",
       "1                CAN_23  79.327 -87.898  \n",
       "3                 HND_0  15.523 -88.367  \n",
       "4                 HND_0  14.158 -87.255  \n",
       "5                 HND_0  14.035 -88.304  \n",
       "\n",
       "[5 rows x 171 columns]"
      ]
     },
     "execution_count": 4,
     "metadata": {},
     "output_type": "execute_result"
    }
   ],
   "source": [
    "climate_df = pd.read_csv('../data/Sample_TerraClimate_2018.csv', index_col=[0]).dropna()\n",
    "climate_df['lat'] = climate_df['lat'].round(3)\n",
    "climate_df['lon'] = climate_df['lon'].round(3)\n",
    "# climate_df.shape\n",
    "climate_df.head()"
   ]
  },
  {
   "cell_type": "code",
   "execution_count": 5,
   "metadata": {},
   "outputs": [
    {
     "data": {
      "text/plain": [
       "(15115, 209)"
      ]
     },
     "execution_count": 5,
     "metadata": {},
     "output_type": "execute_result"
    }
   ],
   "source": [
    "merge_raw_df = pd.merge(sentinel_df,climate_df,on=['country_segment_code', 'lat', 'lon'])\n",
    "merge_raw_df.shape"
   ]
  },
  {
   "cell_type": "code",
   "execution_count": 6,
   "metadata": {},
   "outputs": [
    {
     "data": {
      "text/plain": [
       "(8709, 209)"
      ]
     },
     "execution_count": 6,
     "metadata": {},
     "output_type": "execute_result"
    }
   ],
   "source": [
    "merge_raw_df = merge_raw_df.dropna()\n",
    "merge_raw_df.shape\n",
    "# standardize columns"
   ]
  },
  {
   "cell_type": "code",
   "execution_count": 160,
   "metadata": {},
   "outputs": [],
   "source": [
    "merge_raw_df2 = merge_raw_df.loc[:, ~(merge_raw_df.columns.str.contains('EVI') | merge_raw_df.columns.str.contains('SAVI'))]"
   ]
  },
  {
   "cell_type": "code",
   "execution_count": 161,
   "metadata": {},
   "outputs": [],
   "source": [
    "merge_standardized_df = merge_raw_df2.copy()\n",
    "feature_lst = ['NDVI', 'aet', 'def', 'pdsi', 'pet', 'pr', 'ro', 'soil', 'srad', 'swe', 'tmmn', 'tmmx', 'vap', 'vpd', 'vs']\n",
    "first_ind = 0\n",
    "feature_mean_lst = []\n",
    "feature_std_lst = []\n",
    "for feat in feature_lst:\n",
    "    temp_df = merge_raw_df.loc[:, merge_raw_df.columns.str.contains(feat)]\n",
    "    feature_mean = temp_df.mean().mean()\n",
    "    feature_mean_lst.append(feature_mean)\n",
    "    feature_std = temp_df.stack().std()\n",
    "    feature_std_lst.append(feature_std)\n",
    "    for col in list(temp_df.columns):\n",
    "        merge_standardized_df[col] = (temp_df[col]-feature_mean)/feature_std"
   ]
  },
  {
   "cell_type": "code",
   "execution_count": 167,
   "metadata": {},
   "outputs": [],
   "source": [
    "with open('Model_prep_mean.csv', 'wt') as myfile:\n",
    "    wr = csv.writer(myfile, quoting=csv.QUOTE_ALL)\n",
    "    wr.writerow(feature_mean_lst)\n",
    "with open('Model_prep_std.csv', 'wt') as myfile:\n",
    "    wr = csv.writer(myfile, quoting=csv.QUOTE_ALL)\n",
    "    wr.writerow(feature_std_lst)"
   ]
  },
  {
   "cell_type": "code",
   "execution_count": 162,
   "metadata": {},
   "outputs": [
    {
     "data": {
      "text/html": [
       "<div>\n",
       "<style scoped>\n",
       "    .dataframe tbody tr th:only-of-type {\n",
       "        vertical-align: middle;\n",
       "    }\n",
       "\n",
       "    .dataframe tbody tr th {\n",
       "        vertical-align: top;\n",
       "    }\n",
       "\n",
       "    .dataframe thead th {\n",
       "        text-align: right;\n",
       "    }\n",
       "</style>\n",
       "<table border=\"1\" class=\"dataframe\">\n",
       "  <thead>\n",
       "    <tr style=\"text-align: right;\">\n",
       "      <th></th>\n",
       "      <th>201801_NDVI</th>\n",
       "      <th>201802_NDVI</th>\n",
       "      <th>201803_NDVI</th>\n",
       "      <th>201804_NDVI</th>\n",
       "      <th>201805_NDVI</th>\n",
       "      <th>201806_NDVI</th>\n",
       "      <th>201807_NDVI</th>\n",
       "      <th>201808_NDVI</th>\n",
       "      <th>201809_NDVI</th>\n",
       "      <th>201810_NDVI</th>\n",
       "      <th>...</th>\n",
       "      <th>201812_pr</th>\n",
       "      <th>201812_ro</th>\n",
       "      <th>201812_soil</th>\n",
       "      <th>201812_srad</th>\n",
       "      <th>201812_swe</th>\n",
       "      <th>201812_tmmn</th>\n",
       "      <th>201812_tmmx</th>\n",
       "      <th>201812_vap</th>\n",
       "      <th>201812_vpd</th>\n",
       "      <th>201812_vs</th>\n",
       "    </tr>\n",
       "  </thead>\n",
       "  <tbody>\n",
       "    <tr>\n",
       "      <th>1</th>\n",
       "      <td>-0.479873</td>\n",
       "      <td>-0.282284</td>\n",
       "      <td>-0.237369</td>\n",
       "      <td>0.241782</td>\n",
       "      <td>-0.576104</td>\n",
       "      <td>-0.739452</td>\n",
       "      <td>0.302756</td>\n",
       "      <td>0.773048</td>\n",
       "      <td>1.327450</td>\n",
       "      <td>1.431351</td>\n",
       "      <td>...</td>\n",
       "      <td>-0.668115</td>\n",
       "      <td>-0.279674</td>\n",
       "      <td>5.155439</td>\n",
       "      <td>0.058329</td>\n",
       "      <td>-0.237908</td>\n",
       "      <td>1.110882</td>\n",
       "      <td>0.797531</td>\n",
       "      <td>1.768175</td>\n",
       "      <td>0.143156</td>\n",
       "      <td>-1.036179</td>\n",
       "    </tr>\n",
       "    <tr>\n",
       "      <th>2</th>\n",
       "      <td>1.867232</td>\n",
       "      <td>1.595813</td>\n",
       "      <td>1.331167</td>\n",
       "      <td>1.076423</td>\n",
       "      <td>1.717627</td>\n",
       "      <td>0.817969</td>\n",
       "      <td>-0.548237</td>\n",
       "      <td>-0.652149</td>\n",
       "      <td>0.552810</td>\n",
       "      <td>1.083482</td>\n",
       "      <td>...</td>\n",
       "      <td>-0.565213</td>\n",
       "      <td>-0.279674</td>\n",
       "      <td>2.536472</td>\n",
       "      <td>-0.196961</td>\n",
       "      <td>-0.237908</td>\n",
       "      <td>1.181342</td>\n",
       "      <td>0.928081</td>\n",
       "      <td>1.777161</td>\n",
       "      <td>0.110501</td>\n",
       "      <td>-0.592967</td>\n",
       "    </tr>\n",
       "    <tr>\n",
       "      <th>4</th>\n",
       "      <td>0.810523</td>\n",
       "      <td>0.088876</td>\n",
       "      <td>-0.461016</td>\n",
       "      <td>-0.540054</td>\n",
       "      <td>-0.138716</td>\n",
       "      <td>0.598715</td>\n",
       "      <td>-0.703709</td>\n",
       "      <td>-0.334411</td>\n",
       "      <td>1.543470</td>\n",
       "      <td>-0.401321</td>\n",
       "      <td>...</td>\n",
       "      <td>-0.513763</td>\n",
       "      <td>-0.279674</td>\n",
       "      <td>2.349510</td>\n",
       "      <td>-0.245259</td>\n",
       "      <td>-0.237908</td>\n",
       "      <td>1.198956</td>\n",
       "      <td>0.764893</td>\n",
       "      <td>1.818240</td>\n",
       "      <td>-0.357559</td>\n",
       "      <td>-1.568033</td>\n",
       "    </tr>\n",
       "    <tr>\n",
       "      <th>7</th>\n",
       "      <td>-1.350348</td>\n",
       "      <td>-0.956977</td>\n",
       "      <td>-0.573143</td>\n",
       "      <td>-1.249977</td>\n",
       "      <td>-0.901362</td>\n",
       "      <td>-1.428536</td>\n",
       "      <td>-1.897891</td>\n",
       "      <td>-2.147297</td>\n",
       "      <td>-1.455186</td>\n",
       "      <td>-3.416567</td>\n",
       "      <td>...</td>\n",
       "      <td>-0.590939</td>\n",
       "      <td>-0.279674</td>\n",
       "      <td>4.403070</td>\n",
       "      <td>0.025211</td>\n",
       "      <td>-0.237908</td>\n",
       "      <td>1.163727</td>\n",
       "      <td>0.822009</td>\n",
       "      <td>1.792566</td>\n",
       "      <td>0.154041</td>\n",
       "      <td>-1.479391</td>\n",
       "    </tr>\n",
       "    <tr>\n",
       "      <th>20</th>\n",
       "      <td>0.930570</td>\n",
       "      <td>1.503744</td>\n",
       "      <td>1.225845</td>\n",
       "      <td>1.325926</td>\n",
       "      <td>1.963657</td>\n",
       "      <td>0.911215</td>\n",
       "      <td>0.075750</td>\n",
       "      <td>1.528966</td>\n",
       "      <td>2.303226</td>\n",
       "      <td>2.188087</td>\n",
       "      <td>...</td>\n",
       "      <td>-0.333685</td>\n",
       "      <td>-0.258821</td>\n",
       "      <td>5.092113</td>\n",
       "      <td>-0.191441</td>\n",
       "      <td>-0.237908</td>\n",
       "      <td>1.216571</td>\n",
       "      <td>0.789371</td>\n",
       "      <td>1.556365</td>\n",
       "      <td>-0.270478</td>\n",
       "      <td>-1.302106</td>\n",
       "    </tr>\n",
       "  </tbody>\n",
       "</table>\n",
       "<p>5 rows × 185 columns</p>\n",
       "</div>"
      ],
      "text/plain": [
       "    201801_NDVI  201802_NDVI  201803_NDVI  201804_NDVI  201805_NDVI  \\\n",
       "1     -0.479873    -0.282284    -0.237369     0.241782    -0.576104   \n",
       "2      1.867232     1.595813     1.331167     1.076423     1.717627   \n",
       "4      0.810523     0.088876    -0.461016    -0.540054    -0.138716   \n",
       "7     -1.350348    -0.956977    -0.573143    -1.249977    -0.901362   \n",
       "20     0.930570     1.503744     1.225845     1.325926     1.963657   \n",
       "\n",
       "    201806_NDVI  201807_NDVI  201808_NDVI  201809_NDVI  201810_NDVI  ...  \\\n",
       "1     -0.739452     0.302756     0.773048     1.327450     1.431351  ...   \n",
       "2      0.817969    -0.548237    -0.652149     0.552810     1.083482  ...   \n",
       "4      0.598715    -0.703709    -0.334411     1.543470    -0.401321  ...   \n",
       "7     -1.428536    -1.897891    -2.147297    -1.455186    -3.416567  ...   \n",
       "20     0.911215     0.075750     1.528966     2.303226     2.188087  ...   \n",
       "\n",
       "    201812_pr  201812_ro 201812_soil  201812_srad  201812_swe  201812_tmmn  \\\n",
       "1   -0.668115  -0.279674    5.155439     0.058329   -0.237908     1.110882   \n",
       "2   -0.565213  -0.279674    2.536472    -0.196961   -0.237908     1.181342   \n",
       "4   -0.513763  -0.279674    2.349510    -0.245259   -0.237908     1.198956   \n",
       "7   -0.590939  -0.279674    4.403070     0.025211   -0.237908     1.163727   \n",
       "20  -0.333685  -0.258821    5.092113    -0.191441   -0.237908     1.216571   \n",
       "\n",
       "    201812_tmmx  201812_vap  201812_vpd  201812_vs  \n",
       "1      0.797531    1.768175    0.143156  -1.036179  \n",
       "2      0.928081    1.777161    0.110501  -0.592967  \n",
       "4      0.764893    1.818240   -0.357559  -1.568033  \n",
       "7      0.822009    1.792566    0.154041  -1.479391  \n",
       "20     0.789371    1.556365   -0.270478  -1.302106  \n",
       "\n",
       "[5 rows x 185 columns]"
      ]
     },
     "execution_count": 162,
     "metadata": {},
     "output_type": "execute_result"
    }
   ],
   "source": [
    "merge_standardized_df.head()"
   ]
  },
  {
   "cell_type": "code",
   "execution_count": 132,
   "metadata": {},
   "outputs": [
    {
     "data": {
      "text/plain": [
       "0.0    4523\n",
       "1.0    4186\n",
       "Name: label, dtype: int64"
      ]
     },
     "execution_count": 132,
     "metadata": {},
     "output_type": "execute_result"
    }
   ],
   "source": [
    "merge_standardized_df['label'].value_counts()"
   ]
  },
  {
   "cell_type": "markdown",
   "metadata": {},
   "source": [
    "LSTM"
   ]
  },
  {
   "cell_type": "code",
   "execution_count": 133,
   "metadata": {},
   "outputs": [],
   "source": [
    "x_columns = list(merge_standardized_df.columns)\n",
    "x_columns.remove('country_segment_code')\n",
    "x_columns.remove('landcover')\n",
    "x_columns.remove('label')\n",
    "x_columns.remove('lat')\n",
    "x_columns.remove('lon')\n",
    "x_columns.sort()"
   ]
  },
  {
   "cell_type": "code",
   "execution_count": 173,
   "metadata": {},
   "outputs": [
    {
     "data": {
      "text/plain": [
       "['201801_NDVI',\n",
       " '201801_aet',\n",
       " '201801_def',\n",
       " '201801_pdsi',\n",
       " '201801_pet',\n",
       " '201801_pr',\n",
       " '201801_ro',\n",
       " '201801_soil',\n",
       " '201801_srad',\n",
       " '201801_swe',\n",
       " '201801_tmmn',\n",
       " '201801_tmmx',\n",
       " '201801_vap',\n",
       " '201801_vpd',\n",
       " '201801_vs',\n",
       " '201802_NDVI',\n",
       " '201802_aet',\n",
       " '201802_def',\n",
       " '201802_pdsi',\n",
       " '201802_pet',\n",
       " '201802_pr',\n",
       " '201802_ro',\n",
       " '201802_soil',\n",
       " '201802_srad',\n",
       " '201802_swe',\n",
       " '201802_tmmn',\n",
       " '201802_tmmx',\n",
       " '201802_vap',\n",
       " '201802_vpd',\n",
       " '201802_vs',\n",
       " '201803_NDVI',\n",
       " '201803_aet',\n",
       " '201803_def',\n",
       " '201803_pdsi',\n",
       " '201803_pet',\n",
       " '201803_pr',\n",
       " '201803_ro',\n",
       " '201803_soil',\n",
       " '201803_srad',\n",
       " '201803_swe',\n",
       " '201803_tmmn',\n",
       " '201803_tmmx',\n",
       " '201803_vap',\n",
       " '201803_vpd',\n",
       " '201803_vs',\n",
       " '201804_NDVI',\n",
       " '201804_aet',\n",
       " '201804_def',\n",
       " '201804_pdsi',\n",
       " '201804_pet',\n",
       " '201804_pr',\n",
       " '201804_ro',\n",
       " '201804_soil',\n",
       " '201804_srad',\n",
       " '201804_swe',\n",
       " '201804_tmmn',\n",
       " '201804_tmmx',\n",
       " '201804_vap',\n",
       " '201804_vpd',\n",
       " '201804_vs',\n",
       " '201805_NDVI',\n",
       " '201805_aet',\n",
       " '201805_def',\n",
       " '201805_pdsi',\n",
       " '201805_pet',\n",
       " '201805_pr',\n",
       " '201805_ro',\n",
       " '201805_soil',\n",
       " '201805_srad',\n",
       " '201805_swe',\n",
       " '201805_tmmn',\n",
       " '201805_tmmx',\n",
       " '201805_vap',\n",
       " '201805_vpd',\n",
       " '201805_vs',\n",
       " '201806_NDVI',\n",
       " '201806_aet',\n",
       " '201806_def',\n",
       " '201806_pdsi',\n",
       " '201806_pet',\n",
       " '201806_pr',\n",
       " '201806_ro',\n",
       " '201806_soil',\n",
       " '201806_srad',\n",
       " '201806_swe',\n",
       " '201806_tmmn',\n",
       " '201806_tmmx',\n",
       " '201806_vap',\n",
       " '201806_vpd',\n",
       " '201806_vs',\n",
       " '201807_NDVI',\n",
       " '201807_aet',\n",
       " '201807_def',\n",
       " '201807_pdsi',\n",
       " '201807_pet',\n",
       " '201807_pr',\n",
       " '201807_ro',\n",
       " '201807_soil',\n",
       " '201807_srad',\n",
       " '201807_swe',\n",
       " '201807_tmmn',\n",
       " '201807_tmmx',\n",
       " '201807_vap',\n",
       " '201807_vpd',\n",
       " '201807_vs',\n",
       " '201808_NDVI',\n",
       " '201808_aet',\n",
       " '201808_def',\n",
       " '201808_pdsi',\n",
       " '201808_pet',\n",
       " '201808_pr',\n",
       " '201808_ro',\n",
       " '201808_soil',\n",
       " '201808_srad',\n",
       " '201808_swe',\n",
       " '201808_tmmn',\n",
       " '201808_tmmx',\n",
       " '201808_vap',\n",
       " '201808_vpd',\n",
       " '201808_vs',\n",
       " '201809_NDVI',\n",
       " '201809_aet',\n",
       " '201809_def',\n",
       " '201809_pdsi',\n",
       " '201809_pet',\n",
       " '201809_pr',\n",
       " '201809_ro',\n",
       " '201809_soil',\n",
       " '201809_srad',\n",
       " '201809_swe',\n",
       " '201809_tmmn',\n",
       " '201809_tmmx',\n",
       " '201809_vap',\n",
       " '201809_vpd',\n",
       " '201809_vs',\n",
       " '201810_NDVI',\n",
       " '201810_aet',\n",
       " '201810_def',\n",
       " '201810_pdsi',\n",
       " '201810_pet',\n",
       " '201810_pr',\n",
       " '201810_ro',\n",
       " '201810_soil',\n",
       " '201810_srad',\n",
       " '201810_swe',\n",
       " '201810_tmmn',\n",
       " '201810_tmmx',\n",
       " '201810_vap',\n",
       " '201810_vpd',\n",
       " '201810_vs',\n",
       " '201811_NDVI',\n",
       " '201811_aet',\n",
       " '201811_def',\n",
       " '201811_pdsi',\n",
       " '201811_pet',\n",
       " '201811_pr',\n",
       " '201811_ro',\n",
       " '201811_soil',\n",
       " '201811_srad',\n",
       " '201811_swe',\n",
       " '201811_tmmn',\n",
       " '201811_tmmx',\n",
       " '201811_vap',\n",
       " '201811_vpd',\n",
       " '201811_vs',\n",
       " '201812_NDVI',\n",
       " '201812_aet',\n",
       " '201812_def',\n",
       " '201812_pdsi',\n",
       " '201812_pet',\n",
       " '201812_pr',\n",
       " '201812_ro',\n",
       " '201812_soil',\n",
       " '201812_srad',\n",
       " '201812_swe',\n",
       " '201812_tmmn',\n",
       " '201812_tmmx',\n",
       " '201812_vap',\n",
       " '201812_vpd',\n",
       " '201812_vs']"
      ]
     },
     "execution_count": 173,
     "metadata": {},
     "output_type": "execute_result"
    }
   ],
   "source": [
    "x_columns"
   ]
  },
  {
   "cell_type": "code",
   "execution_count": 185,
   "metadata": {},
   "outputs": [],
   "source": [
    "x_df = merge_standardized_df[x_columns]\n",
    "y_df = merge_standardized_df['label']\n",
    "X_train, X_test, y_train, y_test = train_test_split(x_df.values, y_df.values, test_size=0.3, random_state=210, stratify=y_df.values)\n",
    "X_train2 = np.transpose(X_train.reshape(X_train.shape[0], 15, 12), axes=[0, 2, 1])\n",
    "X_test2 = np.transpose(X_test.reshape(X_test.shape[0], 15, 12), axes=[0, 2, 1])\n",
    "# y_01_arr = to_categorical(y_arr)"
   ]
  },
  {
   "cell_type": "code",
   "execution_count": 202,
   "metadata": {},
   "outputs": [
    {
     "name": "stdout",
     "output_type": "stream",
     "text": [
      "Model: \"sequential_25\"\n",
      "_________________________________________________________________\n",
      "Layer (type)                 Output Shape              Param #   \n",
      "=================================================================\n",
      "lstm_25 (LSTM)               (None, 50)                13200     \n",
      "_________________________________________________________________\n",
      "dropout_31 (Dropout)         (None, 50)                0         \n",
      "_________________________________________________________________\n",
      "dense_31 (Dense)             (None, 1)                 51        \n",
      "=================================================================\n",
      "Total params: 13,251\n",
      "Trainable params: 13,251\n",
      "Non-trainable params: 0\n",
      "_________________________________________________________________\n"
     ]
    }
   ],
   "source": [
    "# define model\n",
    "model = Sequential()\n",
    "# model.add(LSTM(100, activation='relu', return_sequences=True, input_shape=(12, 17)))\n",
    "# model.add(LSTM(50, activation='relu'))\n",
    "model.add(LSTM(50, activation='relu', input_shape=(12, 15)))\n",
    "model.add(Dropout(0.3))\n",
    "# model.add(Dense(20, activation='relu'))\n",
    "# model.add(Dropout(0.3))\n",
    "model.add(Dense(1, activation='sigmoid'))\n",
    "opt = Adam(learning_rate=0.001)\n",
    "model.compile(loss='binary_crossentropy', optimizer=opt, metrics=['accuracy'])\n",
    "model.summary()"
   ]
  },
  {
   "cell_type": "code",
   "execution_count": 203,
   "metadata": {
    "scrolled": true
   },
   "outputs": [
    {
     "name": "stdout",
     "output_type": "stream",
     "text": [
      "Train on 6096 samples, validate on 2613 samples\n",
      "Epoch 1/30\n",
      "6096/6096 [==============================] - 3s 477us/step - loss: 0.6861 - accuracy: 0.5520 - val_loss: 0.6699 - val_accuracy: 0.5897\n",
      "Epoch 2/30\n",
      "6096/6096 [==============================] - 3s 422us/step - loss: 0.6740 - accuracy: 0.5784 - val_loss: 0.6600 - val_accuracy: 0.6089\n",
      "Epoch 3/30\n",
      "6096/6096 [==============================] - 3s 415us/step - loss: 0.6656 - accuracy: 0.5928 - val_loss: 0.6568 - val_accuracy: 0.6051\n",
      "Epoch 4/30\n",
      "6096/6096 [==============================] - 3s 411us/step - loss: 0.6561 - accuracy: 0.6097 - val_loss: 0.6529 - val_accuracy: 0.6162\n",
      "Epoch 5/30\n",
      "6096/6096 [==============================] - 3s 417us/step - loss: 0.6492 - accuracy: 0.6186 - val_loss: 0.6464 - val_accuracy: 0.6215\n",
      "Epoch 6/30\n",
      "6096/6096 [==============================] - 3s 417us/step - loss: 0.6452 - accuracy: 0.6212 - val_loss: 0.6409 - val_accuracy: 0.6334\n",
      "Epoch 7/30\n",
      "6096/6096 [==============================] - 3s 420us/step - loss: 0.6355 - accuracy: 0.6406 - val_loss: 0.6403 - val_accuracy: 0.6250\n",
      "Epoch 8/30\n",
      "6096/6096 [==============================] - 3s 416us/step - loss: 0.6311 - accuracy: 0.6394 - val_loss: 0.6365 - val_accuracy: 0.6525\n",
      "Epoch 9/30\n",
      "6096/6096 [==============================] - 3s 431us/step - loss: 0.6226 - accuracy: 0.6429 - val_loss: 0.6333 - val_accuracy: 0.6391\n",
      "Epoch 10/30\n",
      "6096/6096 [==============================] - 3s 417us/step - loss: 0.6142 - accuracy: 0.6619 - val_loss: 0.6234 - val_accuracy: 0.6540\n",
      "Epoch 11/30\n",
      "6096/6096 [==============================] - 3s 421us/step - loss: 0.6103 - accuracy: 0.6621 - val_loss: 0.6213 - val_accuracy: 0.6621\n",
      "Epoch 12/30\n",
      "6096/6096 [==============================] - 3s 418us/step - loss: 0.6062 - accuracy: 0.6616 - val_loss: 0.6306 - val_accuracy: 0.6537\n",
      "Epoch 13/30\n",
      "6096/6096 [==============================] - 2s 408us/step - loss: 0.5964 - accuracy: 0.6739 - val_loss: 0.6248 - val_accuracy: 0.6548\n",
      "Epoch 14/30\n",
      "6096/6096 [==============================] - 2s 406us/step - loss: 0.5905 - accuracy: 0.6790 - val_loss: 0.6193 - val_accuracy: 0.6759\n",
      "Epoch 15/30\n",
      "6096/6096 [==============================] - 2s 402us/step - loss: 0.5828 - accuracy: 0.6847 - val_loss: 0.6230 - val_accuracy: 0.6625\n",
      "Epoch 16/30\n",
      "6096/6096 [==============================] - 2s 406us/step - loss: 0.5795 - accuracy: 0.6877 - val_loss: 0.6290 - val_accuracy: 0.6716\n",
      "Epoch 17/30\n",
      "6096/6096 [==============================] - 3s 423us/step - loss: 0.5726 - accuracy: 0.6903 - val_loss: 0.6288 - val_accuracy: 0.6732\n",
      "Epoch 18/30\n",
      "6096/6096 [==============================] - 2s 390us/step - loss: 0.5639 - accuracy: 0.6972 - val_loss: 0.6129 - val_accuracy: 0.6831\n",
      "Epoch 19/30\n",
      "6096/6096 [==============================] - 2s 382us/step - loss: 0.5613 - accuracy: 0.7059 - val_loss: 0.6113 - val_accuracy: 0.6766\n",
      "Epoch 20/30\n",
      "6096/6096 [==============================] - 2s 381us/step - loss: 0.5522 - accuracy: 0.7087 - val_loss: 0.6174 - val_accuracy: 0.6847\n",
      "Epoch 21/30\n",
      "6096/6096 [==============================] - 2s 383us/step - loss: 0.5437 - accuracy: 0.7136 - val_loss: 0.6498 - val_accuracy: 0.6544\n",
      "Epoch 22/30\n",
      "6096/6096 [==============================] - 2s 381us/step - loss: 0.5447 - accuracy: 0.7131 - val_loss: 0.6130 - val_accuracy: 0.6808\n",
      "Epoch 23/30\n",
      "6096/6096 [==============================] - 2s 387us/step - loss: 0.5305 - accuracy: 0.7238 - val_loss: 0.6308 - val_accuracy: 0.6843\n",
      "Epoch 24/30\n",
      "6096/6096 [==============================] - 2s 382us/step - loss: 0.5271 - accuracy: 0.7228 - val_loss: 0.6142 - val_accuracy: 0.6862\n",
      "Epoch 25/30\n",
      "6096/6096 [==============================] - 2s 382us/step - loss: 0.5192 - accuracy: 0.7308 - val_loss: 0.6357 - val_accuracy: 0.6824\n",
      "Epoch 26/30\n",
      "6096/6096 [==============================] - 2s 388us/step - loss: 0.5126 - accuracy: 0.7303 - val_loss: 0.6419 - val_accuracy: 0.6816\n",
      "Epoch 27/30\n",
      "6096/6096 [==============================] - 2s 381us/step - loss: 0.5115 - accuracy: 0.7365 - val_loss: 0.6349 - val_accuracy: 0.6797\n",
      "Epoch 28/30\n",
      "6096/6096 [==============================] - 2s 383us/step - loss: 0.5027 - accuracy: 0.7448 - val_loss: 0.6512 - val_accuracy: 0.6747\n",
      "Epoch 29/30\n",
      "6096/6096 [==============================] - 2s 384us/step - loss: 0.4925 - accuracy: 0.7487 - val_loss: 0.6602 - val_accuracy: 0.6862\n",
      "Epoch 30/30\n",
      "6096/6096 [==============================] - 2s 385us/step - loss: 0.4853 - accuracy: 0.7492 - val_loss: 0.6653 - val_accuracy: 0.6912\n"
     ]
    }
   ],
   "source": [
    "history = model.fit(X_train2, y_train, validation_data=(X_test2, y_test), epochs=30, batch_size=16)"
   ]
  },
  {
   "cell_type": "code",
   "execution_count": 204,
   "metadata": {},
   "outputs": [
    {
     "data": {
      "image/png": "[encoded data removed]",
      "text/plain": [
       "<Figure size 432x288 with 1 Axes>"
      ]
     },
     "metadata": {
      "needs_background": "light"
     },
     "output_type": "display_data"
    }
   ],
   "source": [
    "plt.plot(history.history['loss'])\n",
    "plt.plot(history.history['val_loss'])\n",
    "plt.title('model loss')\n",
    "plt.ylabel('loss')\n",
    "plt.xlabel('epoch')\n",
    "plt.legend(['train', 'val'], loc='upper left')\n",
    "plt.show()"
   ]
  },
  {
   "cell_type": "code",
   "execution_count": 205,
   "metadata": {},
   "outputs": [
    {
     "data": {
      "image/png": "[encoded data removed]",
      "text/plain": [
       "<Figure size 432x288 with 1 Axes>"
      ]
     },
     "metadata": {
      "needs_background": "light"
     },
     "output_type": "display_data"
    }
   ],
   "source": [
    "plt.plot(history.history['accuracy'])\n",
    "plt.plot(history.history['val_accuracy'])\n",
    "plt.title('model accuracy')\n",
    "plt.ylabel('accuracy')\n",
    "plt.xlabel('epoch')\n",
    "plt.legend(['train', 'val'], loc='upper left')\n",
    "plt.show()"
   ]
  },
  {
   "cell_type": "code",
   "execution_count": null,
   "metadata": {},
   "outputs": [],
   "source": [
    "# model.save('Model_LSTM.h5')"
   ]
  },
  {
   "cell_type": "code",
   "execution_count": null,
   "metadata": {},
   "outputs": [],
   "source": [
    "predictions = model.predict(x_arr[:3])"
   ]
  },
  {
   "cell_type": "markdown",
   "metadata": {},
   "source": [
    "GBM"
   ]
  },
  {
   "cell_type": "code",
   "execution_count": 168,
   "metadata": {},
   "outputs": [
    {
     "data": {
      "text/plain": [
       "0.6754688097971681"
      ]
     },
     "execution_count": 168,
     "metadata": {},
     "output_type": "execute_result"
    }
   ],
   "source": [
    "clf = GradientBoostingClassifier(random_state=0)\n",
    "clf.fit(X_train, y_train)\n",
    "clf.score(X_test, y_test)"
   ]
  },
  {
   "cell_type": "code",
   "execution_count": 169,
   "metadata": {},
   "outputs": [
    {
     "data": {
      "text/plain": [
       "array([1., 0.])"
      ]
     },
     "execution_count": 169,
     "metadata": {},
     "output_type": "execute_result"
    }
   ],
   "source": [
    "clf.predict(X_test[:2])"
   ]
  },
  {
   "cell_type": "code",
   "execution_count": 170,
   "metadata": {},
   "outputs": [
    {
     "name": "stdout",
     "output_type": "stream",
     "text": [
      "Test score: 67.55 %\n"
     ]
    }
   ],
   "source": [
    "# Save to file in the current working directory\n",
    "pkl_filename = \"Model_GBM.pkl\"\n",
    "with open(pkl_filename, 'wb') as file:\n",
    "    pickle.dump(clf, file)\n",
    "\n",
    "# Load from file\n",
    "with open(pkl_filename, 'rb') as file:\n",
    "    pickle_model = pickle.load(file)\n",
    "    \n",
    "# Calculate the accuracy score and predict target values\n",
    "score = pickle_model.score(X_test, y_test)\n",
    "print(\"Test score: {0:.2f} %\".format(100 * score))\n",
    "# Ypredict = pickle_model.predict(X_test)"
   ]
  },
  {
   "cell_type": "markdown",
   "metadata": {},
   "source": [
    "Random Forest"
   ]
  },
  {
   "cell_type": "code",
   "execution_count": 153,
   "metadata": {},
   "outputs": [
    {
     "name": "stdout",
     "output_type": "stream",
     "text": [
      "0.8987860892388452\n",
      "0.7129735935706085\n"
     ]
    }
   ],
   "source": [
    "clf = RandomForestClassifier(max_depth=20, criterion=\"entropy\", min_samples_split=10, min_samples_leaf=5, \n",
    "                             max_samples=0.5, max_features=10, n_estimators=100, random_state=0)\n",
    "# clf = RandomForestClassifier(max_depth=20, criterion=\"entropy\", min_samples_split=10, min_samples_leaf=5, \n",
    "#                              random_state=0)\n",
    "clf.fit(X_train, y_train)\n",
    "print(clf.score(X_train, y_train))\n",
    "print(clf.score(X_test, y_test))"
   ]
  },
  {
   "cell_type": "code",
   "execution_count": 154,
   "metadata": {},
   "outputs": [
    {
     "data": {
      "text/plain": [
       "array([0., 0.])"
      ]
     },
     "execution_count": 154,
     "metadata": {},
     "output_type": "execute_result"
    }
   ],
   "source": [
    "clf.predict(X_test[:2])"
   ]
  },
  {
   "cell_type": "code",
   "execution_count": 155,
   "metadata": {},
   "outputs": [
    {
     "name": "stdout",
     "output_type": "stream",
     "text": [
      "Test score: 71.30 %\n"
     ]
    }
   ],
   "source": [
    "# Save to file in the current working directory\n",
    "pkl_filename = \"Model_RF.pkl\"\n",
    "with open(pkl_filename, 'wb') as file:\n",
    "    pickle.dump(clf, file)\n",
    "\n",
    "# Load from file\n",
    "with open(pkl_filename, 'rb') as file:\n",
    "    pickle_model = pickle.load(file)\n",
    "    \n",
    "# Calculate the accuracy score and predict target values\n",
    "score = pickle_model.score(X_test, y_test)\n",
    "print(\"Test score: {0:.2f} %\".format(100 * score))\n",
    "# Ypredict = pickle_model.predict(X_test)"
   ]
  },
  {
   "cell_type": "markdown",
   "metadata": {},
   "source": [
    "Logistic Regression"
   ]
  },
  {
   "cell_type": "code",
   "execution_count": 41,
   "metadata": {},
   "outputs": [
    {
     "name": "stderr",
     "output_type": "stream",
     "text": [
      "/usr/local/lib/python3.5/dist-packages/sklearn/linear_model/_logistic.py:940: ConvergenceWarning: lbfgs failed to converge (status=1):\n",
      "STOP: TOTAL NO. of ITERATIONS REACHED LIMIT.\n",
      "\n",
      "Increase the number of iterations (max_iter) or scale the data as shown in:\n",
      "    https://scikit-learn.org/stable/modules/preprocessing.html\n",
      "Please also refer to the documentation for alternative solver options:\n",
      "    https://scikit-learn.org/stable/modules/linear_model.html#logistic-regression\n",
      "  extra_warning_msg=_LOGISTIC_SOLVER_CONVERGENCE_MSG)\n"
     ]
    },
    {
     "data": {
      "text/plain": [
       "0.6410256410256411"
      ]
     },
     "execution_count": 41,
     "metadata": {},
     "output_type": "execute_result"
    }
   ],
   "source": [
    "clf = LogisticRegression(random_state=0)\n",
    "clf.fit(X_train, y_train)\n",
    "clf.score(X_test, y_test)"
   ]
  },
  {
   "cell_type": "code",
   "execution_count": 42,
   "metadata": {},
   "outputs": [
    {
     "data": {
      "text/plain": [
       "array([0., 1.])"
      ]
     },
     "execution_count": 42,
     "metadata": {},
     "output_type": "execute_result"
    }
   ],
   "source": [
    "clf.predict(X_test[:2])"
   ]
  },
  {
   "cell_type": "code",
   "execution_count": null,
   "metadata": {},
   "outputs": [],
   "source": []
  },
  {
   "cell_type": "code",
   "execution_count": null,
   "metadata": {},
   "outputs": [],
   "source": []
  }
 ],
 "metadata": {
  "kernelspec": {
   "display_name": "Python 3",
   "language": "python",
   "name": "python3"
  },
  "language_info": {
   "codemirror_mode": {
    "name": "ipython",
    "version": 3
   },
   "file_extension": ".py",
   "mimetype": "text/x-python",
   "name": "python",
   "nbconvert_exporter": "python",
   "pygments_lexer": "ipython3",
   "version": "3.5.2"
  }
 },
 "nbformat": 4,
 "nbformat_minor": 4
}
