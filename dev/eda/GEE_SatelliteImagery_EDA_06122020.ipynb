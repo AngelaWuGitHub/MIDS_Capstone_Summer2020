{
  "nbformat": 4,
  "nbformat_minor": 0,
  "metadata": {
    "kernelspec": {
      "display_name": "Python 3",
      "language": "python",
      "name": "python3"
    },
    "language_info": {
      "codemirror_mode": {
        "name": "ipython",
        "version": 3
      },
      "file_extension": ".py",
      "mimetype": "text/x-python",
      "name": "python",
      "nbconvert_exporter": "python",
      "pygments_lexer": "ipython3",
      "version": "3.5.2"
    },
    "colab": {
      "name": "GEE_SatelliteImagery_EDA_06122020.ipynb",
      "provenance": [],
      "collapsed_sections": []
    }
  },
  "cells": [
    {
      "cell_type": "code",
      "metadata": {
        "id": "jNxCzRHeA2TS",
        "colab_type": "code",
        "colab": {
          "base_uri": "https://localhost:8080/",
          "height": 479
        },
        "outputId": "2d702ca5-b78c-47e0-f20b-e771d34fff2d"
      },
      "source": [
        "!pip3 install earthengine-api "
      ],
      "execution_count": 1,
      "outputs": [
        {
          "output_type": "stream",
          "text": [
            "Requirement already satisfied: earthengine-api in /usr/local/lib/python3.6/dist-packages (0.1.224)\n",
            "Requirement already satisfied: google-api-python-client in /usr/local/lib/python3.6/dist-packages (from earthengine-api) (1.7.12)\n",
            "Requirement already satisfied: google-auth>=1.4.1 in /usr/local/lib/python3.6/dist-packages (from earthengine-api) (1.7.2)\n",
            "Requirement already satisfied: google-auth-httplib2>=0.0.3 in /usr/local/lib/python3.6/dist-packages (from earthengine-api) (0.0.3)\n",
            "Requirement already satisfied: future in /usr/local/lib/python3.6/dist-packages (from earthengine-api) (0.16.0)\n",
            "Requirement already satisfied: google-cloud-storage in /usr/local/lib/python3.6/dist-packages (from earthengine-api) (1.18.1)\n",
            "Requirement already satisfied: six in /usr/local/lib/python3.6/dist-packages (from earthengine-api) (1.12.0)\n",
            "Requirement already satisfied: httplib2shim in /usr/local/lib/python3.6/dist-packages (from earthengine-api) (0.0.3)\n",
            "Requirement already satisfied: httplib2<1dev,>=0.9.2 in /usr/local/lib/python3.6/dist-packages (from earthengine-api) (0.17.4)\n",
            "Requirement already satisfied: uritemplate<4dev,>=3.0.0 in /usr/local/lib/python3.6/dist-packages (from google-api-python-client->earthengine-api) (3.0.1)\n",
            "Requirement already satisfied: setuptools>=40.3.0 in /usr/local/lib/python3.6/dist-packages (from google-auth>=1.4.1->earthengine-api) (47.1.1)\n",
            "Requirement already satisfied: pyasn1-modules>=0.2.1 in /usr/local/lib/python3.6/dist-packages (from google-auth>=1.4.1->earthengine-api) (0.2.8)\n",
            "Requirement already satisfied: cachetools<3.2,>=2.0.0 in /usr/local/lib/python3.6/dist-packages (from google-auth>=1.4.1->earthengine-api) (3.1.1)\n",
            "Requirement already satisfied: rsa<4.1,>=3.1.4 in /usr/local/lib/python3.6/dist-packages (from google-auth>=1.4.1->earthengine-api) (4.0)\n",
            "Requirement already satisfied: google-resumable-media<0.5.0dev,>=0.3.1 in /usr/local/lib/python3.6/dist-packages (from google-cloud-storage->earthengine-api) (0.4.1)\n",
            "Requirement already satisfied: google-cloud-core<2.0dev,>=1.0.0 in /usr/local/lib/python3.6/dist-packages (from google-cloud-storage->earthengine-api) (1.0.3)\n",
            "Requirement already satisfied: urllib3 in /usr/local/lib/python3.6/dist-packages (from httplib2shim->earthengine-api) (1.24.3)\n",
            "Requirement already satisfied: certifi in /usr/local/lib/python3.6/dist-packages (from httplib2shim->earthengine-api) (2020.4.5.1)\n",
            "Requirement already satisfied: pyasn1<0.5.0,>=0.4.6 in /usr/local/lib/python3.6/dist-packages (from pyasn1-modules>=0.2.1->google-auth>=1.4.1->earthengine-api) (0.4.8)\n",
            "Requirement already satisfied: google-api-core<2.0.0dev,>=1.14.0 in /usr/local/lib/python3.6/dist-packages (from google-cloud-core<2.0dev,>=1.0.0->google-cloud-storage->earthengine-api) (1.16.0)\n",
            "Requirement already satisfied: googleapis-common-protos<2.0dev,>=1.6.0 in /usr/local/lib/python3.6/dist-packages (from google-api-core<2.0.0dev,>=1.14.0->google-cloud-core<2.0dev,>=1.0.0->google-cloud-storage->earthengine-api) (1.52.0)\n",
            "Requirement already satisfied: pytz in /usr/local/lib/python3.6/dist-packages (from google-api-core<2.0.0dev,>=1.14.0->google-cloud-core<2.0dev,>=1.0.0->google-cloud-storage->earthengine-api) (2018.9)\n",
            "Requirement already satisfied: requests<3.0.0dev,>=2.18.0 in /usr/local/lib/python3.6/dist-packages (from google-api-core<2.0.0dev,>=1.14.0->google-cloud-core<2.0dev,>=1.0.0->google-cloud-storage->earthengine-api) (2.23.0)\n",
            "Requirement already satisfied: protobuf>=3.4.0 in /usr/local/lib/python3.6/dist-packages (from google-api-core<2.0.0dev,>=1.14.0->google-cloud-core<2.0dev,>=1.0.0->google-cloud-storage->earthengine-api) (3.10.0)\n",
            "Requirement already satisfied: idna<3,>=2.5 in /usr/local/lib/python3.6/dist-packages (from requests<3.0.0dev,>=2.18.0->google-api-core<2.0.0dev,>=1.14.0->google-cloud-core<2.0dev,>=1.0.0->google-cloud-storage->earthengine-api) (2.9)\n",
            "Requirement already satisfied: chardet<4,>=3.0.2 in /usr/local/lib/python3.6/dist-packages (from requests<3.0.0dev,>=2.18.0->google-api-core<2.0.0dev,>=1.14.0->google-cloud-core<2.0dev,>=1.0.0->google-cloud-storage->earthengine-api) (3.0.4)\n"
          ],
          "name": "stdout"
        }
      ]
    },
    {
      "cell_type": "code",
      "metadata": {
        "id": "fadHzidsAvj0",
        "colab_type": "code",
        "colab": {}
      },
      "source": [
        "import ee # Google Earth Engine\n",
        "import datetime\n",
        "#import ipyleaflet\n",
        "import numpy as np\n",
        "import pandas as pd\n",
        "import matplotlib.pyplot as plt\n",
        "import folium\n",
        "# from shapely.geometry import MultiPolygon, Polygon\n",
        "from shapely.geometry import box\n",
        "import warnings\n",
        "from functools import reduce"
      ],
      "execution_count": 0,
      "outputs": []
    },
    {
      "cell_type": "markdown",
      "metadata": {
        "id": "7rBrUzWYAvka",
        "colab_type": "text"
      },
      "source": [
        "Initialize Google Earth Engine (GEE)"
      ]
    },
    {
      "cell_type": "code",
      "metadata": {
        "id": "r3FgwOvPAvkg",
        "colab_type": "code",
        "colab": {
          "base_uri": "https://localhost:8080/",
          "height": 173
        },
        "outputId": "9cd353f5-fa9f-4a16-a8ec-b43997cd6035"
      },
      "source": [
        "# Trigger the authentication flow.\n",
        "ee.Authenticate()\n",
        "\n",
        "# Initialize the library.\n",
        "ee.Initialize()"
      ],
      "execution_count": 3,
      "outputs": [
        {
          "output_type": "stream",
          "text": [
            "To authorize access needed by Earth Engine, open the following URL in a web browser and follow the instructions. If the web browser does not start automatically, please manually browse the URL below.\n",
            "\n",
            "    https://accounts.google.com/o/oauth2/auth?client_id=517222506229-vsmmajv00ul0bs7p89v5m89qs8eb9359.apps.googleusercontent.com&scope=https%3A%2F%2Fwww.googleapis.com%2Fauth%2Fearthengine+https%3A%2F%2Fwww.googleapis.com%2Fauth%2Fdevstorage.full_control&redirect_uri=urn%3Aietf%3Awg%3Aoauth%3A2.0%3Aoob&response_type=code&code_challenge=aSHR39kjZ-V4VO0AtRWn8X6suuVidhHrW5mTe6m0040&code_challenge_method=S256\n",
            "\n",
            "The authorization workflow will generate a code, which you should paste in the box below. \n",
            "Enter verification code: 4/0wE0qfi9ns4LHALRtuqjCgeg7a3EFj4FhUvJNcFPrFsi5ClF1ElK9dk\n",
            "\n",
            "Successfully saved authorization token.\n"
          ],
          "name": "stdout"
        }
      ]
    },
    {
      "cell_type": "markdown",
      "metadata": {
        "id": "gY0WJwxqAvk2",
        "colab_type": "text"
      },
      "source": [
        "Specify an area of interest"
      ]
    },
    {
      "cell_type": "code",
      "metadata": {
        "id": "owl23wFQAvk7",
        "colab_type": "code",
        "colab": {}
      },
      "source": [
        "# area of interest has lat, lon of (-10.883689, -44.005800)\n",
        "Brazil_ex1_lat, Brazil_ex1_lon = -10.883689, -44.005800\n",
        "Brazil_ex1_edge_len = 0.2"
      ],
      "execution_count": 0,
      "outputs": []
    },
    {
      "cell_type": "code",
      "metadata": {
        "id": "jVTshZ5nAvlT",
        "colab_type": "code",
        "colab": {}
      },
      "source": [
        "US_IL_lat, US_IL_lon = 40.707570, -88.804750\n",
        "US_IL_edge_len = 0.1 #0.2"
      ],
      "execution_count": 0,
      "outputs": []
    },
    {
      "cell_type": "code",
      "metadata": {
        "id": "elG8VLRcAvl8",
        "colab_type": "code",
        "colab": {}
      },
      "source": [
        "US_ID_lat, US_ID_lon = 43.771114, -116.736866\n",
        "US_ID_edge_len = 0.005"
      ],
      "execution_count": 0,
      "outputs": []
    },
    {
      "cell_type": "code",
      "metadata": {
        "id": "AuA1EiBWAvmN",
        "colab_type": "code",
        "colab": {}
      },
      "source": [
        "India_1_lat, India_1_lon = 23.96705178, 73.48219024 #23.967052, 72.400000\n",
        "India_1_edge_len = 0.005"
      ],
      "execution_count": 0,
      "outputs": []
    },
    {
      "cell_type": "markdown",
      "metadata": {
        "id": "ktDPYZzQAvmg",
        "colab_type": "text"
      },
      "source": [
        "Define the function to plot satellite images or pull satellite image data"
      ]
    },
    {
      "cell_type": "code",
      "metadata": {
        "id": "u9oXB5a7Avmo",
        "colab_type": "code",
        "colab": {}
      },
      "source": [
        "def satellite_imagery(source, center_lat, center_lon, edge_len,\n",
        "                      start_date, end_date, \n",
        "                      plot_option, time_series):\n",
        "    # Sentinel-2 Level 1-C: https://developers.google.com/earth-engine/datasets/catalog/COPERNICUS_S2\n",
        "    # Sentinel-2 Level 2-A: https://developers.google.com/earth-engine/datasets/catalog/COPERNICUS_S2_SR\n",
        "    # Landsat Tier structure: https://developers.google.com/earth-engine/landsat#landsat-collection-structure\n",
        "    if source == \"Sentinel2_1C\":\n",
        "        source_loc = 'COPERNICUS/S2'\n",
        "    elif source == \"Sentinel2_2A\":\n",
        "        source_loc = 'COPERNICUS/S2_SR'\n",
        "    elif source == \"Landsat7\":\n",
        "        source_loc = 'LANDSAT/LE07/C01/T1'\n",
        "    elif source == \"Landsat8\":\n",
        "        source_loc = 'LANDSAT/LC08/C01/T1_SR'\n",
        "    elif source == \"Modis\":\n",
        "        source_loc = 'MODIS/006/MOD13A2'\n",
        "    else:\n",
        "        raise Exception('Invalid source of satellite imagery')\n",
        "    \n",
        "    # Specify area of interest (one for ee.Geometry, one for shapely)\n",
        "    area_of_interest_ee = ee.Geometry.Rectangle([center_lon-edge_len/2, center_lat-edge_len/2, center_lon+edge_len/2, center_lat+edge_len/2])\n",
        "    area_of_interest_shapely = box(center_lon-edge_len/2, center_lat-edge_len/2, center_lon+edge_len/2, center_lat+edge_len/2)\n",
        "    \n",
        "    # Create image collection that contains the area of interest\n",
        "    img_collect = (ee.ImageCollection(source_loc)\n",
        "                .filterDate(start_date, end_date)\n",
        "                .filterBounds(area_of_interest_ee))\n",
        "        \n",
        "    # Remove tiles with high cloud coverage\n",
        "    if 'Sentinel' in source:\n",
        "        # Remove image that's too small (likely to be partial image)\n",
        "        # Size of a full image: 1,276,131,371; size of a partial image: 276,598,191\n",
        "        img_collect = img_collect.filterMetadata(\"CLOUDY_PIXEL_PERCENTAGE\",\"less_than\",20) \n",
        "#                                 .filter(ee.Filter.gt('system:asset_size', 1200000000))\n",
        "        img_collect_no_partial = img_collect.filter(ee.Filter.gt('system:asset_size', 1200000000))\n",
        "    elif 'Landsat' in source:\n",
        "        img_collect = img_collect.filter(ee.Filter.lt('CLOUD_COVER', 3))\n",
        "    \n",
        "    assert (img_collect.size().getInfo()>0), \"No valid image\"\n",
        "    print(\"Total number of images in the collection: \", img_collect.size().getInfo())\n",
        "        \n",
        "    if 'Sentinel' in source:\n",
        "        # Extract tile information from each image\n",
        "        # Note: tiles can overlap a little bit\n",
        "        unique_tiles = set([item['properties']['MGRS_TILE'] for item in img_collect.getInfo()['features']])\n",
        "        if len(unique_tiles) > 1:\n",
        "            warnings.warn('Multiple tiles are selected. Proceed with caution.')\n",
        "            print('Number of tiles selected: ', len(unique_tiles))\n",
        "        if img_collect_no_partial.size().getInfo() < img_collect.size().getInfo():\n",
        "            warnings.warn('There are partial images in the collection. Proceed with caution.')\n",
        "            print('Number of partial images: ', img_collect.size().getInfo()-img_collect_no_partial.size().getInfo())\n",
        "        \n",
        "    if 'Sentinel' in source:\n",
        "        # Reference: https://www.satimagingcorp.com/satellite-sensors/other-satellite-sensors/sentinel-2a/\n",
        "        band_blue = 'B2' #10m\n",
        "        band_green = 'B3' #10m\n",
        "        band_red = \"B4\"  #10m\n",
        "        band_nir = 'B8'  #10m\n",
        "    # Reference: https://landsat.gsfc.nasa.gov/landsat-data-continuity-mission/\n",
        "    elif 'Landsat7' in source:\n",
        "        # Reference: https://www.usgs.gov/land-resources/nli/landsat/landsat-7?qt-science_support_page_related_con=0#qt-science_support_page_related_con\n",
        "        band_blue = 'B1' #30m\n",
        "        band_green = 'B2' #30m\n",
        "        band_red = \"B3\"  #30m\n",
        "        band_nir = 'B4'  #30m\n",
        "    elif 'Landsat8' in source:\n",
        "        # Reference: https://www.usgs.gov/faqs/what-are-best-landsat-spectral-bands-use-my-research?qt-news_science_products=0#qt-news_science_products\n",
        "        band_blue = 'B2' #30m\n",
        "        band_green = 'B3' #30m\n",
        "        band_red = \"B4\"  #30m\n",
        "        band_nir = 'B5'  #30m\n",
        "    elif 'Modis' in source:\n",
        "        # Reference: https://developers.google.com/earth-engine/datasets/catalog/MODIS_006_MOD13A2\n",
        "        band_ndvi = 'NDVI' #1000m\n",
        "        band_evi = 'EVI' #1000m\n",
        "        band_blue = 'sur_refl_b03'\n",
        "        band_red = 'sur_refl_b01'\n",
        "        band_nir = 'sur_refl_b02'\n",
        "\n",
        "    def calc_NDVI(img):\n",
        "        ndvi = ee.Image(img.normalizedDifference([band_nir, band_red])).rename([\"ndvi\"]).copyProperties(img, img.propertyNames())\n",
        "        composite = img.addBands(ndvi)\n",
        "        return composite\n",
        "    \n",
        "    # SAVI = ((NIR – Red) / (NIR + Red + L)) x (1 + L)\n",
        "    def calc_SAVI(img):\n",
        "        \"\"\"A function to compute Soil Adjusted Vegetation Index.\"\"\"\n",
        "        savi =  ee.Image(img.expression(\n",
        "            '(1 + L) * float(nir - red)/ (nir + red + L)',\n",
        "            {\n",
        "                'nir': img.select(band_nir),\n",
        "                'red': img.select(band_red),\n",
        "                'L': 0.5\n",
        "            })).rename([\"savi\"]).copyProperties(img, img.propertyNames())\n",
        "        composite = img.addBands(savi)\n",
        "        return composite\n",
        "\n",
        "    # EVI = 2.5 * ((NIR – Red) / ((NIR) + (C1 * Red) – (C2 * Blue) + L))\n",
        "    #     C1=6, C2=7.5, and L=1\n",
        "    def calc_EVI(img):\n",
        "        \"\"\"A function to compute Soil Adjusted Vegetation Index.\"\"\"\n",
        "        evi = ee.Image(img.expression(\n",
        "              '(2.5) * float(nir - red)/ ((nir) + (C1*red) - (C2*blue) + L)',\n",
        "              {   \n",
        "                  'nir': img.select(band_nir),\n",
        "                  'red': img.select(band_red),\n",
        "                  'blue': img.select(band_blue),\n",
        "                  'L': 0.2,\n",
        "                  'C1': 6,\n",
        "                  'C2': 7.5\n",
        "              })).rename([\"evi\"]).copyProperties(img, img.propertyNames())\n",
        "        composite = img.addBands(evi)\n",
        "        return composite\n",
        "    \n",
        "    def calc_YYYYMM(img):\n",
        "        return img.set('YYYYMM', img.date().format(\"YYYYMM\"))\n",
        "    \n",
        "    def add_ee_layer(self, ee_object, vis_params, name):\n",
        "        try:    \n",
        "            if isinstance(ee_object, ee.image.Image):    \n",
        "                map_id_dict = ee.Image(ee_object).getMapId(vis_params)\n",
        "                if source == 'Modis':\n",
        "                    ee_object_new = ee_object_new.median().clip(area_of_interest)\n",
        "                folium.raster_layers.TileLayer(\n",
        "                    tiles = map_id_dict['tile_fetcher'].url_format,\n",
        "                    attr = 'Google Earth Engine',\n",
        "                    name = name,\n",
        "                    overlay = True,\n",
        "                    control = True\n",
        "                    ).add_to(self)\n",
        "            elif isinstance(ee_object, ee.imagecollection.ImageCollection):    \n",
        "                ee_object_new = ee_object.median()\n",
        "                if source == 'Modis':\n",
        "                    ee_object_new = ee_object_new.clip(area_of_interest)\n",
        "                map_id_dict = ee.Image(ee_object_new).getMapId(vis_params)\n",
        "                folium.raster_layers.TileLayer(\n",
        "                    tiles = map_id_dict['tile_fetcher'].url_format,\n",
        "                    attr = 'Google Earth Engine',\n",
        "                    name = name,\n",
        "                    overlay = True,\n",
        "                    control = True\n",
        "                    ).add_to(self)\n",
        "            elif isinstance(ee_object, ee.geometry.Geometry):    \n",
        "                folium.GeoJson(\n",
        "                        data = ee_object.getInfo(),\n",
        "                        name = name,\n",
        "                        overlay = True,\n",
        "                        control = True\n",
        "                    ).add_to(self)\n",
        "            elif isinstance(ee_object, ee.featurecollection.FeatureCollection):  \n",
        "                ee_object_new = ee.Image().paint(ee_object, 0, 2)\n",
        "                if source == 'Modis':\n",
        "                    ee_object_new = ee_object_new.median().clip(area_of_interest)\n",
        "                map_id_dict = ee.Image(ee_object_new).getMapId(vis_params)\n",
        "                folium.raster_layers.TileLayer(\n",
        "                        tiles = map_id_dict['tile_fetcher'].url_format,\n",
        "                        attr = 'Google Earth Engine',\n",
        "                        name = name,\n",
        "                        overlay = True,\n",
        "                        control = True\n",
        "                    ).add_to(self)\n",
        "            \n",
        "        except:\n",
        "            print(\"Could not display (Ignore if Modis) {}\".format(name))\n",
        "\n",
        "    # Add EE drawing method to folium.\n",
        "    folium.Map.add_ee_layer = add_ee_layer\n",
        "    \n",
        "    img_collect_calc = img_collect.map(calc_YYYYMM).map(calc_NDVI).map(calc_SAVI).map(calc_EVI)\n",
        "\n",
        "    unique_month = list(set([item['properties']['YYYYMM'] for item in img_collect_calc.getInfo()['features']]))\n",
        "    unique_month.sort()\n",
        "    \n",
        "    print(len(unique_month))\n",
        "    if len(unique_month) > 0:\n",
        "        warnings.warn('There are null values in the output DataFrame. Proceed with caution.')\n",
        "    \n",
        "    img_calc_month_dict = dict()\n",
        "    temp_dict = dict()\n",
        "    for month in unique_month:\n",
        "        img_calc_month_dict[month] = img_collect_calc.filter(ee.Filter.eq('YYYYMM',month)).median()\n",
        "        img_calc_month2 = img_calc_month_dict[month].addBands(ee.Image.pixelLonLat())\n",
        "        data_month_lst = img_calc_month2.reduceRegion(reducer=ee.Reducer.toList(), \\\n",
        "                                                            #  geometry=area_of_interest_ee, maxPixels=1e13, scale=10)\n",
        "                                                             geometry=area_of_interest_ee.buffer(1000), maxPixels=1e60, scale=30, tileScale = 16)\n",
        "        lat_series = pd.Series(np.array((ee.Array(data_month_lst.get(\"latitude\")).getInfo())), name=\"lat\")\n",
        "        lon_series = pd.Series(np.array((ee.Array(data_month_lst.get(\"longitude\")).getInfo())), name=\"lon\")\n",
        "        ndvi_series = pd.Series(np.array((ee.Array(data_month_lst.get(\"ndvi\")).getInfo())), name=month+'_NDVI')\n",
        "        savi_series = pd.Series(np.array((ee.Array(data_month_lst.get(\"savi\")).getInfo())), name=month+'_SAVI')\n",
        "        evi_series = pd.Series(np.array((ee.Array(data_month_lst.get(\"evi\")).getInfo())), name=month+'_EVI')\n",
        "        temp_dict[month] = pd.concat([lat_series, lon_series, ndvi_series, savi_series, evi_series], axis=1)\n",
        "    \n",
        "    df_lst = list(temp_dict.values())\n",
        "    out_df = reduce(lambda left, right: pd.merge(left,right,on=['lat', 'lon']), df_lst)\n",
        "    if plot_option == 'no':\n",
        "        # Output the column names that have null values\n",
        "        if len(out_df.columns[out_df.isnull().any()]) > 0:\n",
        "            warnings.warn('There are null values in the output DataFrame. Proceed with caution.')\n",
        "        return out_df\n",
        "    else:\n",
        "        # Create a folium map object.\n",
        "        myMap = folium.Map(location=[center_lat, center_lon], zoom_start=8)\n",
        "        if source == 'Modis':\n",
        "            ee_object_new = img_collect_calc.median()\n",
        "            bands = ['NDVI', 'EVI']\n",
        "            ee_object_new = ee_object_new.clip(area_of_interest_ee)\n",
        "            map_id_dict = ee_object_new.getMapId({'bands': ['NDVI','EVI'], 'min': 0, 'max': 3000})\n",
        "            folium.TileLayer(\n",
        "                  tiles=map_id_dict['tile_fetcher'].url_format,\n",
        "                  attr='Map Data © <a href=\"https://earthengine.google.com/\">Google Earth Engine</a>',\n",
        "                  overlay=True,\n",
        "                  name='median composite',\n",
        "                ).add_to(myMap)\n",
        "        folium.Marker(location=[center_lat, center_lon]).add_to(myMap)\n",
        " \n",
        "        # Add the box around the area of interest\n",
        "        folium.GeoJson(area_of_interest_shapely, name=\"Area of Interest\").add_to(myMap)\n",
        "\n",
        "        if plot_option == 'RGB':\n",
        "            if 'Sentinel' in source:\n",
        "                visParams = {'min':0, 'max':3000}\n",
        "            elif 'Landsat' in source:\n",
        "                visParams = {'min':0, 'max':255}\n",
        "            elif 'Modis' in source:\n",
        "                visParams = {'min':0, 'max':255}\n",
        "            if time_series=='no':\n",
        "                myMap.add_ee_layer(img_collect_calc.median().select(band_red, band_green, band_blue), visParams, name=source+' '+plot_option)\n",
        "            elif time_series==\"monthly\":\n",
        "                for month in unique_month:\n",
        "                    myMap.add_ee_layer(img_calc_month_dict[month].select(band_red, band_green, band_blue), visParams, name=source+' '+plot_option+' '+month)\n",
        "        elif plot_option == 'NDVI':\n",
        "            visParams = {'min':0, 'max':1, 'palette': ['red', 'yellow', 'green']}\n",
        "            if time_series=='no':\n",
        "                myMap.add_ee_layer(img_collect_calc.select(\"ndvi\"), visParams, name=source+' '+plot_option)\n",
        "            elif time_series==\"monthly\":\n",
        "                for month in unique_month:\n",
        "                    myMap.add_ee_layer(img_calc_month_dict[month].select(\"ndvi\"), visParams, name=source+' '+plot_option+' '+month)\n",
        "        elif plot_option == 'SAVI':\n",
        "            visParams = {'min':0, 'max':1, 'palette': ['red', 'yellow', 'green']}\n",
        "            if time_series=='no':\n",
        "                myMap.add_ee_layer(img_collect_calc.median().select(\"savi\"), visParams, name=source+' '+plot_option)\n",
        "            elif time_series==\"monthly\":\n",
        "                for month in unique_month:\n",
        "                    myMap.add_ee_layer(img_calc_month_dict[month].select(\"savi\"), visParams, name=source+' '+plot_option+' '+month)\n",
        "        elif plot_option == 'EVI':\n",
        "            visParams = {'min':0, 'max':1, 'palette': ['red', 'yellow', 'green']}\n",
        "            if time_series=='no':\n",
        "                myMap.add_ee_layer(img_collect_calc.median().select(\"evi\"), visParams, name=source+' '+plot_option)\n",
        "            elif time_series==\"monthly\":\n",
        "                for month in unique_month:\n",
        "                    myMap.add_ee_layer(img_calc_month_dict[month].select(\"evi\"), visParams, name=source+' '+plot_option+' '+month)\n",
        "\n",
        "        # Add a layer control panel to the map.\n",
        "        myMap.add_child(folium.LayerControl())\n",
        "\n",
        "        return myMap"
      ],
      "execution_count": 0,
      "outputs": []
    },
    {
      "cell_type": "code",
      "metadata": {
        "id": "uvmpRJXjfHc_",
        "colab_type": "code",
        "colab": {}
      },
      "source": [
        ""
      ],
      "execution_count": 0,
      "outputs": []
    },
    {
      "cell_type": "markdown",
      "metadata": {
        "id": "Gyc_EbrzAvm2",
        "colab_type": "text"
      },
      "source": [
        "Define a function to convert Pandas DataFrame outputted from `satellite_imagery(..., plot_option='no')` to numpy array"
      ]
    },
    {
      "cell_type": "code",
      "metadata": {
        "id": "tXsPNGIGAvm6",
        "colab_type": "code",
        "colab": {}
      },
      "source": [
        "def time_series_prep(in_df, stat_option):\n",
        "    col_lst = list(in_df.columns)\n",
        "    col_lst_select = [i for i in col_lst if stat_option in i]\n",
        "    # Rearrange the order the columns based on YYYYMM\n",
        "    col_lst_select.sort()\n",
        "    out_df = in_df[col_lst_select]\n",
        "    return out_df.to_numpy()"
      ],
      "execution_count": 0,
      "outputs": []
    },
    {
      "cell_type": "markdown",
      "metadata": {
        "id": "jqdaWK9oAvnW",
        "colab_type": "text"
      },
      "source": [
        "Display Landsat 7 RGB satellite image for a Brazil cropland"
      ]
    },
    {
      "cell_type": "code",
      "metadata": {
        "id": "EaIjhacvAvnp",
        "colab_type": "code",
        "colab": {
          "base_uri": "https://localhost:8080/",
          "height": 857
        },
        "outputId": "c47a72d7-ead6-4960-c231-fba59ac769ed"
      },
      "source": [
        "satellite_imagery(source=\"Landsat7\", center_lat=Brazil_ex1_lat, center_lon=Brazil_ex1_lon, edge_len=Brazil_ex1_edge_len,\n",
        "                  start_date='2018-05-01', end_date='2018-7-31',\n",
        "                  plot_option='RGB', time_series=\"no\")"
      ],
      "execution_count": 67,
      "outputs": [
        {
          "output_type": "stream",
          "text": [
            "Total number of images in the collection:  6\n",
            "3\n"
          ],
          "name": "stdout"
        },
        {
          "output_type": "stream",
          "text": [
            "/usr/local/lib/python3.6/dist-packages/ipykernel_launcher.py:167: UserWarning: There are null values in the output DataFrame. Proceed with caution.\n"
          ],
          "name": "stderr"
        },
        {
          "output_type": "stream",
          "text": [
            "before add_ee_layer\n",
            "after add ee_layer\n"
          ],
          "name": "stdout"
        },
        {
          "output_type": "execute_result",
          "data": {
            "text/html": [
              "<div style=\"width:100%;\"><div style=\"position:relative;width:100%;height:0;padding-bottom:60%;\"><span style=\"color:#565656\">Make this Notebook Trusted to load map: File -> Trust Notebook</span><iframe src=\"about:blank\" style=\"position:absolute;width:100%;height:100%;left:0;top:0;border:none !important;\" data-html=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 onload=\"this.contentDocument.open();this.contentDocument.write(atob(this.getAttribute('data-html')));this.contentDocument.close();\" allowfullscreen webkitallowfullscreen mozallowfullscreen></iframe></div></div>"
            ],
            "text/plain": [
              "<folium.folium.Map at 0x7f6eedbc4e10>"
            ]
          },
          "metadata": {
            "tags": []
          },
          "execution_count": 67
        }
      ]
    },
    {
      "cell_type": "markdown",
      "metadata": {
        "id": "XKwNQRG8AvpZ",
        "colab_type": "text"
      },
      "source": [
        "Display Sentinel-2 RGB satellite image for a Brazil cropland (higher resolution compared to Landsat 7 image with not fainted stripes)"
      ]
    },
    {
      "cell_type": "code",
      "metadata": {
        "id": "M_4pLn4BgBf5",
        "colab_type": "code",
        "colab": {}
      },
      "source": [
        "Brazil_ex1_lat, Brazil_ex1_lon = -10.883689, -44.005800\n",
        "Brazil_ex1_edge_len = 0.1"
      ],
      "execution_count": 0,
      "outputs": []
    },
    {
      "cell_type": "code",
      "metadata": {
        "id": "beXNXfqsAvpb",
        "colab_type": "code",
        "colab": {
          "base_uri": "https://localhost:8080/",
          "height": 925
        },
        "outputId": "10729036-ea6a-4d4c-ca85-8b0d00c4319c"
      },
      "source": [
        "satellite_imagery(source=\"Sentinel2_1C\", center_lat=Brazil_ex1_lat, center_lon=Brazil_ex1_lon, edge_len=Brazil_ex1_edge_len,\n",
        "                  start_date='2018-05-01', end_date='2018-7-31',\n",
        "                  plot_option='RGB', time_series=\"no\")"
      ],
      "execution_count": 66,
      "outputs": [
        {
          "output_type": "stream",
          "text": [
            "Total number of images in the collection:  97\n"
          ],
          "name": "stdout"
        },
        {
          "output_type": "stream",
          "text": [
            "/usr/local/lib/python3.6/dist-packages/ipykernel_launcher.py:47: UserWarning: Multiple tiles are selected. Proceed with caution.\n"
          ],
          "name": "stderr"
        },
        {
          "output_type": "stream",
          "text": [
            "Number of tiles selected:  4\n"
          ],
          "name": "stdout"
        },
        {
          "output_type": "stream",
          "text": [
            "/usr/local/lib/python3.6/dist-packages/ipykernel_launcher.py:50: UserWarning: There are partial images in the collection. Proceed with caution.\n"
          ],
          "name": "stderr"
        },
        {
          "output_type": "stream",
          "text": [
            "Number of partial images:  59\n",
            "3\n"
          ],
          "name": "stdout"
        },
        {
          "output_type": "stream",
          "text": [
            "/usr/local/lib/python3.6/dist-packages/ipykernel_launcher.py:167: UserWarning: There are null values in the output DataFrame. Proceed with caution.\n"
          ],
          "name": "stderr"
        },
        {
          "output_type": "stream",
          "text": [
            "before add_ee_layer\n",
            "after add ee_layer\n"
          ],
          "name": "stdout"
        },
        {
          "output_type": "execute_result",
          "data": {
            "text/html": [
              "<div style=\"width:100%;\"><div style=\"position:relative;width:100%;height:0;padding-bottom:60%;\"><span style=\"color:#565656\">Make this Notebook Trusted to load map: File -> Trust Notebook</span><iframe src=\"about:blank\" style=\"position:absolute;width:100%;height:100%;left:0;top:0;border:none !important;\" data-html=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 onload=\"this.contentDocument.open();this.contentDocument.write(atob(this.getAttribute('data-html')));this.contentDocument.close();\" allowfullscreen webkitallowfullscreen mozallowfullscreen></iframe></div></div>"
            ],
            "text/plain": [
              "<folium.folium.Map at 0x7f6eedc79550>"
            ]
          },
          "metadata": {
            "tags": []
          },
          "execution_count": 66
        }
      ]
    },
    {
      "cell_type": "markdown",
      "metadata": {
        "id": "FTeL6UMnAvpz",
        "colab_type": "text"
      },
      "source": [
        "Display Sentinel-2 NDVI satellite image for a Brazil cropland (red means no/unhealthy vegetation and green means healthy vegetation)"
      ]
    },
    {
      "cell_type": "code",
      "metadata": {
        "id": "gNeGCUNsAvpz",
        "colab_type": "code",
        "colab": {
          "base_uri": "https://localhost:8080/",
          "height": 891
        },
        "outputId": "ad2b82e3-3e31-4fe9-b01e-7a8324154009"
      },
      "source": [
        "satellite_imagery(source=\"Sentinel2_1C\", center_lat=Brazil_ex1_lat, center_lon=Brazil_ex1_lon, edge_len=Brazil_ex1_edge_len,\n",
        "                  start_date='2018-05-01', end_date='2018-5-10',\n",
        "                  plot_option='NDVI', time_series=\"no\")"
      ],
      "execution_count": 77,
      "outputs": [
        {
          "output_type": "stream",
          "text": [
            "Total number of images in the collection:  8\n",
            "Number of tiles selected:  4\n"
          ],
          "name": "stdout"
        },
        {
          "output_type": "stream",
          "text": [
            "/usr/local/lib/python3.6/dist-packages/ipykernel_launcher.py:52: UserWarning: Multiple tiles are selected. Proceed with caution.\n",
            "/usr/local/lib/python3.6/dist-packages/ipykernel_launcher.py:55: UserWarning: There are partial images in the collection. Proceed with caution.\n"
          ],
          "name": "stderr"
        },
        {
          "output_type": "stream",
          "text": [
            "Number of partial images:  4\n",
            "1\n"
          ],
          "name": "stdout"
        },
        {
          "output_type": "stream",
          "text": [
            "/usr/local/lib/python3.6/dist-packages/ipykernel_launcher.py:181: UserWarning: There are null values in the output DataFrame. Proceed with caution.\n"
          ],
          "name": "stderr"
        },
        {
          "output_type": "execute_result",
          "data": {
            "text/html": [
              "<div style=\"width:100%;\"><div style=\"position:relative;width:100%;height:0;padding-bottom:60%;\"><span style=\"color:#565656\">Make this Notebook Trusted to load map: File -> Trust Notebook</span><iframe src=\"about:blank\" style=\"position:absolute;width:100%;height:100%;left:0;top:0;border:none !important;\" data-html=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 onload=\"this.contentDocument.open();this.contentDocument.write(atob(this.getAttribute('data-html')));this.contentDocument.close();\" allowfullscreen webkitallowfullscreen mozallowfullscreen></iframe></div></div>"
            ],
            "text/plain": [
              "<folium.folium.Map at 0x7f6eed967320>"
            ]
          },
          "metadata": {
            "tags": []
          },
          "execution_count": 77
        }
      ]
    },
    {
      "cell_type": "markdown",
      "metadata": {
        "id": "_uGE7_qSAvqO",
        "colab_type": "text"
      },
      "source": [
        "Display Sentinel-2 NDVI satellite image for IL croplands.  \n",
        "Filtering (e.g., cloud cover filter) is done at a tile level, so different tiles can have different number of images. This is the cause of red trapezoid on the map."
      ]
    },
    {
      "cell_type": "code",
      "metadata": {
        "id": "vKOSDXJ_AvqQ",
        "colab_type": "code",
        "colab": {}
      },
      "source": [
        "# satellite_imagery(source=\"Sentinel2_1C\", center_lat=US_IL_lat, center_lon=US_IL_lon, edge_len=US_IL_edge_len,\n",
        "#                   start_date='2018-05-01', end_date='2018-7-31',\n",
        "#                   plot_option='NDVI', time_series=\"no\")"
      ],
      "execution_count": 0,
      "outputs": []
    },
    {
      "cell_type": "markdown",
      "metadata": {
        "id": "s-AqM3KCAvqh",
        "colab_type": "text"
      },
      "source": [
        "Display Sentinel-2 NDVI satellite image for IL croplands by month."
      ]
    },
    {
      "cell_type": "code",
      "metadata": {
        "id": "WAVpiUb8Avqh",
        "colab_type": "code",
        "colab": {
          "base_uri": "https://localhost:8080/",
          "height": 857
        },
        "outputId": "5921eaf2-abcc-4835-c882-a3c7832b549a"
      },
      "source": [
        "satellite_imagery(source=\"Sentinel2_1C\", center_lat=US_IL_lat, center_lon=US_IL_lon, edge_len=US_IL_edge_len,\n",
        "                  start_date='2018-1-01', end_date='2018-12-31',\n",
        "                  plot_option='NDVI', time_series=\"monthly\")"
      ],
      "execution_count": 72,
      "outputs": [
        {
          "output_type": "stream",
          "text": [
            "Total number of images in the collection:  51\n"
          ],
          "name": "stdout"
        },
        {
          "output_type": "stream",
          "text": [
            "/usr/local/lib/python3.6/dist-packages/ipykernel_launcher.py:50: UserWarning: There are partial images in the collection. Proceed with caution.\n"
          ],
          "name": "stderr"
        },
        {
          "output_type": "stream",
          "text": [
            "Number of partial images:  32\n",
            "11\n"
          ],
          "name": "stdout"
        },
        {
          "output_type": "stream",
          "text": [
            "/usr/local/lib/python3.6/dist-packages/ipykernel_launcher.py:167: UserWarning: There are null values in the output DataFrame. Proceed with caution.\n"
          ],
          "name": "stderr"
        },
        {
          "output_type": "execute_result",
          "data": {
            "text/html": [
              "<div style=\"width:100%;\"><div style=\"position:relative;width:100%;height:0;padding-bottom:60%;\"><span style=\"color:#565656\">Make this Notebook Trusted to load map: File -> Trust Notebook</span><iframe src=\"about:blank\" style=\"position:absolute;width:100%;height:100%;left:0;top:0;border:none !important;\" data-html=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 onload=\"this.contentDocument.open();this.contentDocument.write(atob(this.getAttribute('data-html')));this.contentDocument.close();\" allowfullscreen webkitallowfullscreen mozallowfullscreen></iframe></div></div>"
            ],
            "text/plain": [
              "<folium.folium.Map at 0x7f6eecbbac88>"
            ]
          },
          "metadata": {
            "tags": []
          },
          "execution_count": 72
        }
      ]
    },
    {
      "cell_type": "markdown",
      "metadata": {
        "id": "zr27rRxkAvqq",
        "colab_type": "text"
      },
      "source": [
        "Display an NDVI example of pivot irrigation system (in Idaho)"
      ]
    },
    {
      "cell_type": "code",
      "metadata": {
        "id": "QzGvqcWLAvqu",
        "colab_type": "code",
        "colab": {}
      },
      "source": [
        "# satellite_imagery(source=\"Sentinel2_1C\", center_lat=US_ID_lat, center_lon=US_ID_lon, edge_len=US_ID_edge_len,\n",
        "#                   start_date='2018-1-01', end_date='2018-12-31',\n",
        "#                   plot_option='NDVI', time_series=\"no\")"
      ],
      "execution_count": 0,
      "outputs": []
    },
    {
      "cell_type": "markdown",
      "metadata": {
        "id": "oAnzLcSLAvq3",
        "colab_type": "text"
      },
      "source": [
        "Display an EVI example of pivot irrigation system (in Idaho)"
      ]
    },
    {
      "cell_type": "code",
      "metadata": {
        "id": "hRaBsV_jAvq6",
        "colab_type": "code",
        "colab": {}
      },
      "source": [
        "# satellite_imagery(source=\"Sentinel2_1C\", center_lat=US_ID_lat, center_lon=US_ID_lon, edge_len=US_ID_edge_len,\n",
        "#                   start_date='2018-1-01', end_date='2018-12-31',\n",
        "#                   plot_option='EVI', time_series=\"no\")"
      ],
      "execution_count": 0,
      "outputs": []
    },
    {
      "cell_type": "markdown",
      "metadata": {
        "id": "P03q1VxRAvrH",
        "colab_type": "text"
      },
      "source": [
        "Display an SAVI example of pivot irrigation system (in Idaho)"
      ]
    },
    {
      "cell_type": "code",
      "metadata": {
        "id": "Lon3O9mmAvrI",
        "colab_type": "code",
        "colab": {}
      },
      "source": [
        "# satellite_imagery(source=\"Sentinel2_1C\", center_lat=US_ID_lat, center_lon=US_ID_lon, edge_len=US_ID_edge_len,\n",
        "#                   start_date='2018-1-01', end_date='2018-12-31',\n",
        "#                   plot_option='SAVI', time_series=\"no\")"
      ],
      "execution_count": 0,
      "outputs": []
    },
    {
      "cell_type": "markdown",
      "metadata": {
        "id": "SDfi8MkhAvrS",
        "colab_type": "text"
      },
      "source": [
        "Display an NDVI example of pivot irrigation system by month (in Idaho)  \n",
        "Preliminary finding: irrigated croplands have lower NDVI in the winter and higher NDVI in the summer."
      ]
    },
    {
      "cell_type": "code",
      "metadata": {
        "id": "qJ1mkN6KAvrV",
        "colab_type": "code",
        "colab": {}
      },
      "source": [
        "# satellite_imagery(source=\"Sentinel2_1C\", center_lat=US_ID_lat, center_lon=US_ID_lon, edge_len=US_ID_edge_len,\n",
        "#                   start_date='2018-1-01', end_date='2018-12-31',\n",
        "#                   plot_option='NDVI', time_series=\"monthly\")"
      ],
      "execution_count": 0,
      "outputs": []
    },
    {
      "cell_type": "markdown",
      "metadata": {
        "id": "hz1JAqDvAvre",
        "colab_type": "text"
      },
      "source": [
        "================================================================================================================"
      ]
    },
    {
      "cell_type": "code",
      "metadata": {
        "id": "mneyrgloAvrf",
        "colab_type": "code",
        "colab": {
          "base_uri": "https://localhost:8080/",
          "height": 806
        },
        "outputId": "44529669-c632-4632-b8b2-792911ebd3e4"
      },
      "source": [
        "satellite_imagery(source=\"Sentinel2_1C\", center_lat=US_ID_lat, center_lon=US_ID_lon, edge_len=US_ID_edge_len,\n",
        "                  start_date='2018-1-01', end_date='2018-12-31',\n",
        "                  plot_option='NDVI', time_series=\"monthly\")"
      ],
      "execution_count": 13,
      "outputs": [
        {
          "output_type": "stream",
          "text": [
            "Total number of images in the collection:  27\n"
          ],
          "name": "stdout"
        },
        {
          "output_type": "stream",
          "text": [
            "/usr/local/lib/python3.6/dist-packages/ipykernel_launcher.py:171: UserWarning: There are null values in the output DataFrame. Proceed with caution.\n"
          ],
          "name": "stderr"
        },
        {
          "output_type": "execute_result",
          "data": {
            "text/html": [
              "<div style=\"width:100%;\"><div style=\"position:relative;width:100%;height:0;padding-bottom:60%;\"><span style=\"color:#565656\">Make this Notebook Trusted to load map: File -> Trust Notebook</span><iframe src=\"about:blank\" style=\"position:absolute;width:100%;height:100%;left:0;top:0;border:none !important;\" data-html=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 onload=\"this.contentDocument.open();this.contentDocument.write(atob(this.getAttribute('data-html')));this.contentDocument.close();\" allowfullscreen webkitallowfullscreen mozallowfullscreen></iframe></div></div>"
            ],
            "text/plain": [
              "<folium.folium.Map at 0x7fba1ba92320>"
            ]
          },
          "metadata": {
            "tags": []
          },
          "execution_count": 13
        }
      ]
    },
    {
      "cell_type": "code",
      "metadata": {
        "id": "mcmOWE3HAvrs",
        "colab_type": "code",
        "colab": {}
      },
      "source": [
        "# satellite_imagery(source=\"Modis\", center_lat=US_ID_lat, center_lon=US_ID_lon, edge_len=US_ID_edge_len,\n",
        "#                   start_date='2018-1-01', end_date='2018-12-31',\n",
        "#                   plot_option='NDVI', time_series=\"no\")"
      ],
      "execution_count": 0,
      "outputs": []
    },
    {
      "cell_type": "code",
      "metadata": {
        "id": "2K3hbFtVAvsE",
        "colab_type": "code",
        "colab": {},
        "outputId": "b70300db-72cf-4b65-e1dd-9094641af9b9"
      },
      "source": [
        "ID_df = satellite_imagery(source=\"Sentinel2_1C\", center_lat=US_ID_lat, center_lon=US_ID_lon, edge_len=US_ID_edge_len,\n",
        "                  start_date='2018-1-01', end_date='2018-12-31',\n",
        "                  plot_option='no', time_series=\"monthly\")"
      ],
      "execution_count": 0,
      "outputs": [
        {
          "output_type": "stream",
          "text": [
            "Total number of images in the collection:  27\n"
          ],
          "name": "stdout"
        },
        {
          "output_type": "stream",
          "text": [
            "/usr/local/lib/python3.5/dist-packages/ipykernel_launcher.py:167: UserWarning: There are null values in the output DataFrame. Proceed with caution.\n"
          ],
          "name": "stderr"
        }
      ]
    },
    {
      "cell_type": "code",
      "metadata": {
        "id": "L8TIDTLiAvsN",
        "colab_type": "code",
        "colab": {}
      },
      "source": [
        "ID_df.to_csv('time_series_ID_scale10.csv')"
      ],
      "execution_count": 0,
      "outputs": []
    },
    {
      "cell_type": "code",
      "metadata": {
        "id": "EfLBtjO-AvsU",
        "colab_type": "code",
        "colab": {},
        "outputId": "bfcc0afd-2f7a-4e77-915f-8086a36100e9"
      },
      "source": [
        "ID_df.head()"
      ],
      "execution_count": 0,
      "outputs": [
        {
          "output_type": "execute_result",
          "data": {
            "text/html": [
              "<div>\n",
              "<style scoped>\n",
              "    .dataframe tbody tr th:only-of-type {\n",
              "        vertical-align: middle;\n",
              "    }\n",
              "\n",
              "    .dataframe tbody tr th {\n",
              "        vertical-align: top;\n",
              "    }\n",
              "\n",
              "    .dataframe thead th {\n",
              "        text-align: right;\n",
              "    }\n",
              "</style>\n",
              "<table border=\"1\" class=\"dataframe\">\n",
              "  <thead>\n",
              "    <tr style=\"text-align: right;\">\n",
              "      <th></th>\n",
              "      <th>lat</th>\n",
              "      <th>lon</th>\n",
              "      <th>201805_NDVI</th>\n",
              "      <th>201805_SAVI</th>\n",
              "      <th>201805_EVI</th>\n",
              "      <th>201812_NDVI</th>\n",
              "      <th>201812_SAVI</th>\n",
              "      <th>201812_EVI</th>\n",
              "      <th>201801_NDVI</th>\n",
              "      <th>201801_SAVI</th>\n",
              "      <th>...</th>\n",
              "      <th>201810_EVI</th>\n",
              "      <th>201808_NDVI</th>\n",
              "      <th>201808_SAVI</th>\n",
              "      <th>201808_EVI</th>\n",
              "      <th>201809_NDVI</th>\n",
              "      <th>201809_SAVI</th>\n",
              "      <th>201809_EVI</th>\n",
              "      <th>201807_NDVI</th>\n",
              "      <th>201807_SAVI</th>\n",
              "      <th>201807_EVI</th>\n",
              "    </tr>\n",
              "  </thead>\n",
              "  <tbody>\n",
              "    <tr>\n",
              "      <th>0</th>\n",
              "      <td>43.768661</td>\n",
              "      <td>-116.739350</td>\n",
              "      <td>0.176445</td>\n",
              "      <td>0.264642</td>\n",
              "      <td>0.561106</td>\n",
              "      <td>0.110320</td>\n",
              "      <td>0.165463</td>\n",
              "      <td>1.181932</td>\n",
              "      <td>-0.014664</td>\n",
              "      <td>-0.021996</td>\n",
              "      <td>...</td>\n",
              "      <td>2.157721</td>\n",
              "      <td>0.664816</td>\n",
              "      <td>0.997105</td>\n",
              "      <td>-7.735765</td>\n",
              "      <td>0.714488</td>\n",
              "      <td>1.071605</td>\n",
              "      <td>12.477374</td>\n",
              "      <td>0.653170</td>\n",
              "      <td>0.979619</td>\n",
              "      <td>-3.501948</td>\n",
              "    </tr>\n",
              "    <tr>\n",
              "      <th>1</th>\n",
              "      <td>43.768661</td>\n",
              "      <td>-116.739260</td>\n",
              "      <td>0.172219</td>\n",
              "      <td>0.258304</td>\n",
              "      <td>0.530505</td>\n",
              "      <td>0.100356</td>\n",
              "      <td>0.150518</td>\n",
              "      <td>1.080581</td>\n",
              "      <td>-0.018005</td>\n",
              "      <td>-0.027007</td>\n",
              "      <td>...</td>\n",
              "      <td>2.201001</td>\n",
              "      <td>0.665370</td>\n",
              "      <td>0.997933</td>\n",
              "      <td>-18.304278</td>\n",
              "      <td>0.692162</td>\n",
              "      <td>1.038121</td>\n",
              "      <td>11.431691</td>\n",
              "      <td>0.662800</td>\n",
              "      <td>0.994062</td>\n",
              "      <td>-2.991320</td>\n",
              "    </tr>\n",
              "    <tr>\n",
              "      <th>2</th>\n",
              "      <td>43.768661</td>\n",
              "      <td>-116.739170</td>\n",
              "      <td>0.166754</td>\n",
              "      <td>0.250107</td>\n",
              "      <td>0.514179</td>\n",
              "      <td>0.088017</td>\n",
              "      <td>0.132011</td>\n",
              "      <td>1.120817</td>\n",
              "      <td>-0.022291</td>\n",
              "      <td>-0.033435</td>\n",
              "      <td>...</td>\n",
              "      <td>2.114196</td>\n",
              "      <td>0.660143</td>\n",
              "      <td>0.990098</td>\n",
              "      <td>-19.423686</td>\n",
              "      <td>0.702319</td>\n",
              "      <td>1.053354</td>\n",
              "      <td>10.833210</td>\n",
              "      <td>0.647084</td>\n",
              "      <td>0.970498</td>\n",
              "      <td>-2.342274</td>\n",
              "    </tr>\n",
              "    <tr>\n",
              "      <th>3</th>\n",
              "      <td>43.768661</td>\n",
              "      <td>-116.739081</td>\n",
              "      <td>0.165201</td>\n",
              "      <td>0.247778</td>\n",
              "      <td>0.498756</td>\n",
              "      <td>0.108057</td>\n",
              "      <td>0.162068</td>\n",
              "      <td>1.569025</td>\n",
              "      <td>-0.022249</td>\n",
              "      <td>-0.033372</td>\n",
              "      <td>...</td>\n",
              "      <td>1.722504</td>\n",
              "      <td>0.658597</td>\n",
              "      <td>0.987778</td>\n",
              "      <td>-6.962047</td>\n",
              "      <td>0.704748</td>\n",
              "      <td>1.056998</td>\n",
              "      <td>12.353717</td>\n",
              "      <td>0.615602</td>\n",
              "      <td>0.923282</td>\n",
              "      <td>-4.086213</td>\n",
              "    </tr>\n",
              "    <tr>\n",
              "      <th>4</th>\n",
              "      <td>43.768661</td>\n",
              "      <td>-116.738991</td>\n",
              "      <td>0.165201</td>\n",
              "      <td>0.247778</td>\n",
              "      <td>0.498756</td>\n",
              "      <td>0.108057</td>\n",
              "      <td>0.162068</td>\n",
              "      <td>1.569025</td>\n",
              "      <td>-0.022249</td>\n",
              "      <td>-0.033372</td>\n",
              "      <td>...</td>\n",
              "      <td>1.722504</td>\n",
              "      <td>0.658597</td>\n",
              "      <td>0.987778</td>\n",
              "      <td>-6.962047</td>\n",
              "      <td>0.704748</td>\n",
              "      <td>1.056998</td>\n",
              "      <td>12.353717</td>\n",
              "      <td>0.615602</td>\n",
              "      <td>0.923282</td>\n",
              "      <td>-4.086213</td>\n",
              "    </tr>\n",
              "  </tbody>\n",
              "</table>\n",
              "<p>5 rows × 35 columns</p>\n",
              "</div>"
            ],
            "text/plain": [
              "         lat         lon  201805_NDVI  201805_SAVI  201805_EVI  201812_NDVI  \\\n",
              "0  43.768661 -116.739350     0.176445     0.264642    0.561106     0.110320   \n",
              "1  43.768661 -116.739260     0.172219     0.258304    0.530505     0.100356   \n",
              "2  43.768661 -116.739170     0.166754     0.250107    0.514179     0.088017   \n",
              "3  43.768661 -116.739081     0.165201     0.247778    0.498756     0.108057   \n",
              "4  43.768661 -116.738991     0.165201     0.247778    0.498756     0.108057   \n",
              "\n",
              "   201812_SAVI  201812_EVI  201801_NDVI  201801_SAVI  ...  201810_EVI  \\\n",
              "0     0.165463    1.181932    -0.014664    -0.021996  ...    2.157721   \n",
              "1     0.150518    1.080581    -0.018005    -0.027007  ...    2.201001   \n",
              "2     0.132011    1.120817    -0.022291    -0.033435  ...    2.114196   \n",
              "3     0.162068    1.569025    -0.022249    -0.033372  ...    1.722504   \n",
              "4     0.162068    1.569025    -0.022249    -0.033372  ...    1.722504   \n",
              "\n",
              "   201808_NDVI  201808_SAVI  201808_EVI  201809_NDVI  201809_SAVI  201809_EVI  \\\n",
              "0     0.664816     0.997105   -7.735765     0.714488     1.071605   12.477374   \n",
              "1     0.665370     0.997933  -18.304278     0.692162     1.038121   11.431691   \n",
              "2     0.660143     0.990098  -19.423686     0.702319     1.053354   10.833210   \n",
              "3     0.658597     0.987778   -6.962047     0.704748     1.056998   12.353717   \n",
              "4     0.658597     0.987778   -6.962047     0.704748     1.056998   12.353717   \n",
              "\n",
              "   201807_NDVI  201807_SAVI  201807_EVI  \n",
              "0     0.653170     0.979619   -3.501948  \n",
              "1     0.662800     0.994062   -2.991320  \n",
              "2     0.647084     0.970498   -2.342274  \n",
              "3     0.615602     0.923282   -4.086213  \n",
              "4     0.615602     0.923282   -4.086213  \n",
              "\n",
              "[5 rows x 35 columns]"
            ]
          },
          "metadata": {
            "tags": []
          },
          "execution_count": 22
        }
      ]
    },
    {
      "cell_type": "code",
      "metadata": {
        "id": "tQJGA_vPAvsg",
        "colab_type": "code",
        "colab": {
          "base_uri": "https://localhost:8080/",
          "height": 840
        },
        "outputId": "acd2a42d-4262-40d0-9b5f-b5ac528a7366"
      },
      "source": [
        "satellite_imagery(source=\"Sentinel2_1C\", center_lat=India_1_lat, center_lon=India_1_lon, edge_len=India_1_edge_len,\n",
        "                  start_date='2018-1-01', end_date='2018-12-31',\n",
        "                  plot_option='NDVI', time_series=\"monthly\")"
      ],
      "execution_count": 14,
      "outputs": [
        {
          "output_type": "stream",
          "text": [
            "Total number of images in the collection:  49\n"
          ],
          "name": "stdout"
        },
        {
          "output_type": "stream",
          "text": [
            "/usr/local/lib/python3.6/dist-packages/ipykernel_launcher.py:59: UserWarning: There are partial images in the collection. Proceed with caution.\n"
          ],
          "name": "stderr"
        },
        {
          "output_type": "stream",
          "text": [
            "Number of partial images:  2\n"
          ],
          "name": "stdout"
        },
        {
          "output_type": "stream",
          "text": [
            "/usr/local/lib/python3.6/dist-packages/ipykernel_launcher.py:171: UserWarning: There are null values in the output DataFrame. Proceed with caution.\n"
          ],
          "name": "stderr"
        },
        {
          "output_type": "execute_result",
          "data": {
            "text/html": [
              "<div style=\"width:100%;\"><div style=\"position:relative;width:100%;height:0;padding-bottom:60%;\"><span style=\"color:#565656\">Make this Notebook Trusted to load map: File -> Trust Notebook</span><iframe src=\"about:blank\" style=\"position:absolute;width:100%;height:100%;left:0;top:0;border:none !important;\" data-html=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 onload=\"this.contentDocument.open();this.contentDocument.write(atob(this.getAttribute('data-html')));this.contentDocument.close();\" allowfullscreen webkitallowfullscreen mozallowfullscreen></iframe></div></div>"
            ],
            "text/plain": [
              "<folium.folium.Map at 0x7fba1bb34fd0>"
            ]
          },
          "metadata": {
            "tags": []
          },
          "execution_count": 14
        }
      ]
    },
    {
      "cell_type": "code",
      "metadata": {
        "id": "SdmNDUziAvsp",
        "colab_type": "code",
        "colab": {},
        "outputId": "47d0f274-8099-4751-c083-ef3a80ca2198"
      },
      "source": [
        "India_df = satellite_imagery(source=\"Sentinel2_1C\", center_lat=India_1_lat, center_lon=India_1_lon, edge_len=India_1_edge_len,\n",
        "                  start_date='2018-1-01', end_date='2018-12-31',\n",
        "                  plot_option='no', time_series=\"monthly\")\n",
        "India_df.to_csv('time_series_India_scale10.csv')"
      ],
      "execution_count": 0,
      "outputs": [
        {
          "output_type": "stream",
          "text": [
            "Total number of images in the collection:  94\n"
          ],
          "name": "stdout"
        },
        {
          "output_type": "stream",
          "text": [
            "/usr/local/lib/python3.5/dist-packages/ipykernel_launcher.py:56: UserWarning: Multiple tiles are selected. Proceed with caution.\n"
          ],
          "name": "stderr"
        },
        {
          "output_type": "stream",
          "text": [
            "Number of tiles selected:  2\n"
          ],
          "name": "stdout"
        },
        {
          "output_type": "stream",
          "text": [
            "/usr/local/lib/python3.5/dist-packages/ipykernel_launcher.py:59: UserWarning: There are partial images in the collection. Proceed with caution.\n"
          ],
          "name": "stderr"
        },
        {
          "output_type": "stream",
          "text": [
            "Number of partial images:  6\n"
          ],
          "name": "stdout"
        },
        {
          "output_type": "stream",
          "text": [
            "/usr/local/lib/python3.5/dist-packages/ipykernel_launcher.py:171: UserWarning: There are null values in the output DataFrame. Proceed with caution.\n"
          ],
          "name": "stderr"
        }
      ]
    },
    {
      "cell_type": "code",
      "metadata": {
        "id": "DUyxud70Avs6",
        "colab_type": "code",
        "colab": {}
      },
      "source": [
        ""
      ],
      "execution_count": 0,
      "outputs": []
    },
    {
      "cell_type": "markdown",
      "metadata": {
        "id": "2dkakPPiluko",
        "colab_type": "text"
      },
      "source": [
        "Display Modis NDVI"
      ]
    },
    {
      "cell_type": "code",
      "metadata": {
        "id": "NWF4DuO0l9Hu",
        "colab_type": "code",
        "colab": {
          "base_uri": "https://localhost:8080/",
          "height": 840
        },
        "outputId": "83866cca-fde9-4691-d93c-f08b3452d651"
      },
      "source": [
        "satellite_imagery(source=\"Modis\", center_lat=Brazil_ex1_lat, center_lon=Brazil_ex1_lon, edge_len=Brazil_ex1_edge_len,\n",
        "                  start_date='2018-05-01', end_date='2018-5-10',\n",
        "                  plot_option='NDVI', time_series=\"no\")"
      ],
      "execution_count": 55,
      "outputs": [
        {
          "output_type": "stream",
          "text": [
            "Total number of images in the collection:  1\n",
            "1\n"
          ],
          "name": "stdout"
        },
        {
          "output_type": "stream",
          "text": [
            "/usr/local/lib/python3.6/dist-packages/ipykernel_launcher.py:176: UserWarning: There are null values in the output DataFrame. Proceed with caution.\n"
          ],
          "name": "stderr"
        },
        {
          "output_type": "stream",
          "text": [
            "Could not display (Ignore if Modis) Modis NDVI\n"
          ],
          "name": "stdout"
        },
        {
          "output_type": "execute_result",
          "data": {
            "text/html": [
              "<div style=\"width:100%;\"><div style=\"position:relative;width:100%;height:0;padding-bottom:60%;\"><span style=\"color:#565656\">Make this Notebook Trusted to load map: File -> Trust Notebook</span><iframe src=\"about:blank\" style=\"position:absolute;width:100%;height:100%;left:0;top:0;border:none !important;\" data-html=PCFET0NUWVBFIGh0bWw+CjxoZWFkPiAgICAKICAgIDxtZXRhIGh0dHAtZXF1aXY9ImNvbnRlbnQtdHlwZSIgY29udGVudD0idGV4dC9odG1sOyBjaGFyc2V0PVVURi04IiAvPgogICAgPHNjcmlwdD5MX1BSRUZFUl9DQU5WQVM9ZmFsc2U7IExfTk9fVE9VQ0g9ZmFsc2U7IExfRElTQUJMRV8zRD1mYWxzZTs8L3NjcmlwdD4KICAgIDxzY3JpcHQgc3JjPSJodHRwczovL2Nkbi5qc2RlbGl2ci5uZXQvbnBtL2xlYWZsZXRAMS40LjAvZGlzdC9sZWFmbGV0LmpzIj48L3NjcmlwdD4KICAgIDxzY3JpcHQgc3JjPSJodHRwczovL2NvZGUuanF1ZXJ5LmNvbS9qcXVlcnktMS4xMi40Lm1pbi5qcyI+PC9zY3JpcHQ+CiAgICA8c2NyaXB0IHNyYz0iaHR0cHM6Ly9tYXhjZG4uYm9vdHN0cmFwY2RuLmNvbS9ib290c3RyYXAvMy4yLjAvanMvYm9vdHN0cmFwLm1pbi5qcyI+PC9zY3JpcHQ+CiAgICA8c2NyaXB0IHNyYz0iaHR0cHM6Ly9jZG5qcy5jbG91ZGZsYXJlLmNvbS9hamF4L2xpYnMvTGVhZmxldC5hd2Vzb21lLW1hcmtlcnMvMi4wLjIvbGVhZmxldC5hd2Vzb21lLW1hcmtlcnMuanMiPjwvc2NyaXB0PgogICAgPGxpbmsgcmVsPSJzdHlsZXNoZWV0IiBocmVmPSJodHRwczovL2Nkbi5qc2RlbGl2ci5uZXQvbnBtL2xlYWZsZXRAMS40LjAvZGlzdC9sZWFmbGV0LmNzcyIvPgogICAgPGxpbmsgcmVsPSJzdHlsZXNoZWV0IiBocmVmPSJodHRwczovL21heGNkbi5ib290c3RyYXBjZG4uY29tL2Jvb3RzdHJhcC8zLjIuMC9jc3MvYm9vdHN0cmFwLm1pbi5jc3MiLz4KICAgIDxsaW5rIHJlbD0ic3R5bGVzaGVldCIgaHJlZj0iaHR0cHM6Ly9tYXhjZG4uYm9vdHN0cmFwY2RuLmNvbS9ib290c3RyYXAvMy4yLjAvY3NzL2Jvb3RzdHJhcC10aGVtZS5taW4uY3NzIi8+CiAgICA8bGluayByZWw9InN0eWxlc2hlZXQiIGhyZWY9Imh0dHBzOi8vbWF4Y2RuLmJvb3RzdHJhcGNkbi5jb20vZm9udC1hd2Vzb21lLzQuNi4zL2Nzcy9mb250LWF3ZXNvbWUubWluLmNzcyIvPgogICAgPGxpbmsgcmVsPSJzdHlsZXNoZWV0IiBocmVmPSJodHRwczovL2NkbmpzLmNsb3VkZmxhcmUuY29tL2FqYXgvbGlicy9MZWFmbGV0LmF3ZXNvbWUtbWFya2Vycy8yLjAuMi9sZWFmbGV0LmF3ZXNvbWUtbWFya2Vycy5jc3MiLz4KICAgIDxsaW5rIHJlbD0ic3R5bGVzaGVldCIgaHJlZj0iaHR0cHM6Ly9yYXdjZG4uZ2l0aGFjay5jb20vcHl0aG9uLXZpc3VhbGl6YXRpb24vZm9saXVtL21hc3Rlci9mb2xpdW0vdGVtcGxhdGVzL2xlYWZsZXQuYXdlc29tZS5yb3RhdGUuY3NzIi8+CiAgICA8c3R5bGU+aHRtbCwgYm9keSB7d2lkdGg6IDEwMCU7aGVpZ2h0OiAxMDAlO21hcmdpbjogMDtwYWRkaW5nOiAwO308L3N0eWxlPgogICAgPHN0eWxlPiNtYXAge3Bvc2l0aW9uOmFic29sdXRlO3RvcDowO2JvdHRvbTowO3JpZ2h0OjA7bGVmdDowO308L3N0eWxlPgogICAgCiAgICA8bWV0YSBuYW1lPSJ2aWV3cG9ydCIgY29udGVudD0id2lkdGg9ZGV2aWNlLXdpZHRoLAogICAgICAgIGluaXRpYWwtc2NhbGU9MS4wLCBtYXhpbXVtLXNjYWxlPTEuMCwgdXNlci1zY2FsYWJsZT1ubyIgLz4KICAgIDxzdHlsZT4jbWFwXzIzNzU4NmE5OWViZDQ2NWJhZTJjYjI4MjY4NzdkOTZjIHsKICAgICAgICBwb3NpdGlvbjogcmVsYXRpdmU7CiAgICAgICAgd2lkdGg6IDEwMC4wJTsKICAgICAgICBoZWlnaHQ6IDEwMC4wJTsKICAgICAgICBsZWZ0OiAwLjAlOwogICAgICAgIHRvcDogMC4wJTsKICAgICAgICB9CiAgICA8L3N0eWxlPgo8L2hlYWQ+Cjxib2R5PiAgICAKICAgIAogICAgPGRpdiBjbGFzcz0iZm9saXVtLW1hcCIgaWQ9Im1hcF8yMzc1ODZhOTllYmQ0NjViYWUyY2IyODI2ODc3ZDk2YyIgPjwvZGl2Pgo8L2JvZHk+CjxzY3JpcHQ+ICAgIAogICAgCiAgICAKICAgICAgICB2YXIgYm91bmRzID0gbnVsbDsKICAgIAoKICAgIHZhciBtYXBfMjM3NTg2YTk5ZWJkNDY1YmFlMmNiMjgyNjg3N2Q5NmMgPSBMLm1hcCgKICAgICAgICAnbWFwXzIzNzU4NmE5OWViZDQ2NWJhZTJjYjI4MjY4NzdkOTZjJywgewogICAgICAgIGNlbnRlcjogWy0xMC44ODM2ODksIC00NC4wMDU4XSwKICAgICAgICB6b29tOiA4LAogICAgICAgIG1heEJvdW5kczogYm91bmRzLAogICAgICAgIGxheWVyczogW10sCiAgICAgICAgd29ybGRDb3B5SnVtcDogZmFsc2UsCiAgICAgICAgY3JzOiBMLkNSUy5FUFNHMzg1NywKICAgICAgICB6b29tQ29udHJvbDogdHJ1ZSwKICAgICAgICB9KTsKCgogICAgCiAgICB2YXIgdGlsZV9sYXllcl8xZDViNWI4ZmEwMjY0ZmY3ODYzOWZmOTYyNzdmMjRlNiA9IEwudGlsZUxheWVyKAogICAgICAgICdodHRwczovL3tzfS50aWxlLm9wZW5zdHJlZXRtYXAub3JnL3t6fS97eH0ve3l9LnBuZycsCiAgICAgICAgewogICAgICAgICJhdHRyaWJ1dGlvbiI6IG51bGwsCiAgICAgICAgImRldGVjdFJldGluYSI6IGZhbHNlLAogICAgICAgICJtYXhOYXRpdmVab29tIjogMTgsCiAgICAgICAgIm1heFpvb20iOiAxOCwKICAgICAgICAibWluWm9vbSI6IDAsCiAgICAgICAgIm5vV3JhcCI6IGZhbHNlLAogICAgICAgICJvcGFjaXR5IjogMSwKICAgICAgICAic3ViZG9tYWlucyI6ICJhYmMiLAogICAgICAgICJ0bXMiOiBmYWxzZQp9KS5hZGRUbyhtYXBfMjM3NTg2YTk5ZWJkNDY1YmFlMmNiMjgyNjg3N2Q5NmMpOwogICAgdmFyIHRpbGVfbGF5ZXJfZDQ0M2I2MjhlYWFjNDQxNDg4N2IwYWZiZWVjZDU1YTcgPSBMLnRpbGVMYXllcigKICAgICAgICAnaHR0cHM6Ly9lYXJ0aGVuZ2luZS5nb29nbGVhcGlzLmNvbS92MWFscGhhL3Byb2plY3RzL2VhcnRoZW5naW5lLWxlZ2FjeS9tYXBzLzdmM2FhMTBlZDRjMDA4ZTkxNWI1ZjNjOTlmZTNmOWYzLTdkMmI5ZDMxMmE2ZWM4ZjQ3YTdkNDU0OGY2YTFkZTY5L3RpbGVzL3t6fS97eH0ve3l9JywKICAgICAgICB7CiAgICAgICAgImF0dHJpYnV0aW9uIjogIk1hcCBEYXRhIFx1MDBhOSA8YSBocmVmPVwiaHR0cHM6Ly9lYXJ0aGVuZ2luZS5nb29nbGUuY29tL1wiPkdvb2dsZSBFYXJ0aCBFbmdpbmU8L2E+IiwKICAgICAgICAiZGV0ZWN0UmV0aW5hIjogZmFsc2UsCiAgICAgICAgIm1heE5hdGl2ZVpvb20iOiAxOCwKICAgICAgICAibWF4Wm9vbSI6IDE4LAogICAgICAgICJtaW5ab29tIjogMCwKICAgICAgICAibm9XcmFwIjogZmFsc2UsCiAgICAgICAgIm9wYWNpdHkiOiAxLAogICAgICAgICJzdWJkb21haW5zIjogImFiYyIsCiAgICAgICAgInRtcyI6IGZhbHNlCn0pLmFkZFRvKG1hcF8yMzc1ODZhOTllYmQ0NjViYWUyY2IyODI2ODc3ZDk2Yyk7CiAgICAKICAgICAgICB2YXIgbWFya2VyXzdjYzkwYTliOWFjNjQ3MzQ5MzViNTE1MDcwMmNjOTM3ID0gTC5tYXJrZXIoCiAgICAgICAgICAgIFstMTAuODgzNjg5LCAtNDQuMDA1OF0sCiAgICAgICAgICAgIHsKICAgICAgICAgICAgICAgIGljb246IG5ldyBMLkljb24uRGVmYXVsdCgpLAogICAgICAgICAgICAgICAgfQogICAgICAgICAgICApLmFkZFRvKG1hcF8yMzc1ODZhOTllYmQ0NjViYWUyY2IyODI2ODc3ZDk2Yyk7CiAgICAgICAgCiAgICAKICAgICAgICB2YXIgZ2VvX2pzb25fZTIyZDJjYzcyMDI1NDY0NmJmYmY1MWI3OTNiMjJjYjAgPSBMLmdlb0pzb24oCiAgICAgICAgICAgIHsiZmVhdHVyZXMiOiBbeyJnZW9tZXRyeSI6IHsiY29vcmRpbmF0ZXMiOiBbW1stNDMuOTA1OCwgLTEwLjk4MzY4OV0sIFstNDMuOTA1OCwgLTEwLjc4MzY4OV0sIFstNDQuMTA1OCwgLTEwLjc4MzY4OV0sIFstNDQuMTA1OCwgLTEwLjk4MzY4OV0sIFstNDMuOTA1OCwgLTEwLjk4MzY4OV1dXSwgInR5cGUiOiAiUG9seWdvbiJ9LCAicHJvcGVydGllcyI6IHsiaGlnaGxpZ2h0Ijoge30sICJzdHlsZSI6IHt9fSwgInR5cGUiOiAiRmVhdHVyZSJ9XSwgInR5cGUiOiAiRmVhdHVyZUNvbGxlY3Rpb24ifSwKICAgICAgICAgICAgewogICAgICAgICAgICB9CiAgICAgICAgKS5hZGRUbyhtYXBfMjM3NTg2YTk5ZWJkNDY1YmFlMmNiMjgyNjg3N2Q5NmMgKTsKICAgICAgICBnZW9fanNvbl9lMjJkMmNjNzIwMjU0NjQ2YmZiZjUxYjc5M2IyMmNiMC5zZXRTdHlsZShmdW5jdGlvbihmZWF0dXJlKSB7cmV0dXJuIGZlYXR1cmUucHJvcGVydGllcy5zdHlsZTt9KTsKICAgICAgICAKICAgIAogICAgICAgICAgICB2YXIgbGF5ZXJfY29udHJvbF9mYjEwM2Y4NjkzMDU0ZGFjYWI5MjkzMTMzMTBhNzNmMiA9IHsKICAgICAgICAgICAgICAgIGJhc2VfbGF5ZXJzIDogeyAib3BlbnN0cmVldG1hcCIgOiB0aWxlX2xheWVyXzFkNWI1YjhmYTAyNjRmZjc4NjM5ZmY5NjI3N2YyNGU2LCB9LAogICAgICAgICAgICAgICAgb3ZlcmxheXMgOiB7ICJtZWRpYW4gY29tcG9zaXRlIiA6IHRpbGVfbGF5ZXJfZDQ0M2I2MjhlYWFjNDQxNDg4N2IwYWZiZWVjZDU1YTcsIkFyZWEgb2YgSW50ZXJlc3QiIDogZ2VvX2pzb25fZTIyZDJjYzcyMDI1NDY0NmJmYmY1MWI3OTNiMjJjYjAsIH0KICAgICAgICAgICAgICAgIH07CiAgICAgICAgICAgIEwuY29udHJvbC5sYXllcnMoCiAgICAgICAgICAgICAgICBsYXllcl9jb250cm9sX2ZiMTAzZjg2OTMwNTRkYWNhYjkyOTMxMzMxMGE3M2YyLmJhc2VfbGF5ZXJzLAogICAgICAgICAgICAgICAgbGF5ZXJfY29udHJvbF9mYjEwM2Y4NjkzMDU0ZGFjYWI5MjkzMTMzMTBhNzNmMi5vdmVybGF5cywKICAgICAgICAgICAgICAgIHtwb3NpdGlvbjogJ3RvcHJpZ2h0JywKICAgICAgICAgICAgICAgICBjb2xsYXBzZWQ6IHRydWUsCiAgICAgICAgICAgICAgICAgYXV0b1pJbmRleDogdHJ1ZQogICAgICAgICAgICAgICAgfSkuYWRkVG8obWFwXzIzNzU4NmE5OWViZDQ2NWJhZTJjYjI4MjY4NzdkOTZjKTsKICAgICAgICAgICAgCiAgICAgICAgCjwvc2NyaXB0Pg== onload=\"this.contentDocument.open();this.contentDocument.write(atob(this.getAttribute('data-html')));this.contentDocument.close();\" allowfullscreen webkitallowfullscreen mozallowfullscreen></iframe></div></div>"
            ],
            "text/plain": [
              "<folium.folium.Map at 0x7ff238dd3128>"
            ]
          },
          "metadata": {
            "tags": []
          },
          "execution_count": 55
        }
      ]
    }
  ]
}