{
  "nbformat": 4,
  "nbformat_minor": 0,
  "metadata": {
    "kernelspec": {
      "display_name": "Python 3",
      "language": "python",
      "name": "python3"
    },
    "language_info": {
      "codemirror_mode": {
        "name": "ipython",
        "version": 3
      },
      "file_extension": ".py",
      "mimetype": "text/x-python",
      "name": "python",
      "nbconvert_exporter": "python",
      "pygments_lexer": "ipython3",
      "version": "3.5.2"
    },
    "colab": {
      "name": "GEE_SatelliteImagery_graphs.ipynb",
      "provenance": [],
      "collapsed_sections": []
    },
    "accelerator": "GPU"
  },
  "cells": [
    {
      "cell_type": "code",
      "metadata": {
        "id": "UyN27bUQmFQP",
        "colab_type": "code",
        "colab": {
          "base_uri": "https://localhost:8080/",
          "height": 479
        },
        "outputId": "16df2714-783a-49a5-e55d-59f5097582aa"
      },
      "source": [
        "!pip3 install earthengine-api \n"
      ],
      "execution_count": 1,
      "outputs": [
        {
          "output_type": "stream",
          "text": [
            "Requirement already satisfied: earthengine-api in /usr/local/lib/python3.6/dist-packages (0.1.226)\n",
            "Requirement already satisfied: google-api-python-client in /usr/local/lib/python3.6/dist-packages (from earthengine-api) (1.7.12)\n",
            "Requirement already satisfied: six in /usr/local/lib/python3.6/dist-packages (from earthengine-api) (1.12.0)\n",
            "Requirement already satisfied: future in /usr/local/lib/python3.6/dist-packages (from earthengine-api) (0.16.0)\n",
            "Requirement already satisfied: httplib2shim in /usr/local/lib/python3.6/dist-packages (from earthengine-api) (0.0.3)\n",
            "Requirement already satisfied: httplib2<1dev,>=0.9.2 in /usr/local/lib/python3.6/dist-packages (from earthengine-api) (0.17.4)\n",
            "Requirement already satisfied: google-cloud-storage in /usr/local/lib/python3.6/dist-packages (from earthengine-api) (1.18.1)\n",
            "Requirement already satisfied: google-auth-httplib2>=0.0.3 in /usr/local/lib/python3.6/dist-packages (from earthengine-api) (0.0.3)\n",
            "Requirement already satisfied: google-auth>=1.4.1 in /usr/local/lib/python3.6/dist-packages (from earthengine-api) (1.17.2)\n",
            "Requirement already satisfied: uritemplate<4dev,>=3.0.0 in /usr/local/lib/python3.6/dist-packages (from google-api-python-client->earthengine-api) (3.0.1)\n",
            "Requirement already satisfied: certifi in /usr/local/lib/python3.6/dist-packages (from httplib2shim->earthengine-api) (2020.6.20)\n",
            "Requirement already satisfied: urllib3 in /usr/local/lib/python3.6/dist-packages (from httplib2shim->earthengine-api) (1.24.3)\n",
            "Requirement already satisfied: google-cloud-core<2.0dev,>=1.0.0 in /usr/local/lib/python3.6/dist-packages (from google-cloud-storage->earthengine-api) (1.0.3)\n",
            "Requirement already satisfied: google-resumable-media<0.5.0dev,>=0.3.1 in /usr/local/lib/python3.6/dist-packages (from google-cloud-storage->earthengine-api) (0.4.1)\n",
            "Requirement already satisfied: cachetools<5.0,>=2.0.0 in /usr/local/lib/python3.6/dist-packages (from google-auth>=1.4.1->earthengine-api) (4.1.0)\n",
            "Requirement already satisfied: pyasn1-modules>=0.2.1 in /usr/local/lib/python3.6/dist-packages (from google-auth>=1.4.1->earthengine-api) (0.2.8)\n",
            "Requirement already satisfied: rsa<5,>=3.1.4; python_version >= \"3\" in /usr/local/lib/python3.6/dist-packages (from google-auth>=1.4.1->earthengine-api) (4.6)\n",
            "Requirement already satisfied: setuptools>=40.3.0 in /usr/local/lib/python3.6/dist-packages (from google-auth>=1.4.1->earthengine-api) (47.3.1)\n",
            "Requirement already satisfied: google-api-core<2.0.0dev,>=1.14.0 in /usr/local/lib/python3.6/dist-packages (from google-cloud-core<2.0dev,>=1.0.0->google-cloud-storage->earthengine-api) (1.16.0)\n",
            "Requirement already satisfied: pyasn1<0.5.0,>=0.4.6 in /usr/local/lib/python3.6/dist-packages (from pyasn1-modules>=0.2.1->google-auth>=1.4.1->earthengine-api) (0.4.8)\n",
            "Requirement already satisfied: protobuf>=3.4.0 in /usr/local/lib/python3.6/dist-packages (from google-api-core<2.0.0dev,>=1.14.0->google-cloud-core<2.0dev,>=1.0.0->google-cloud-storage->earthengine-api) (3.10.0)\n",
            "Requirement already satisfied: pytz in /usr/local/lib/python3.6/dist-packages (from google-api-core<2.0.0dev,>=1.14.0->google-cloud-core<2.0dev,>=1.0.0->google-cloud-storage->earthengine-api) (2018.9)\n",
            "Requirement already satisfied: requests<3.0.0dev,>=2.18.0 in /usr/local/lib/python3.6/dist-packages (from google-api-core<2.0.0dev,>=1.14.0->google-cloud-core<2.0dev,>=1.0.0->google-cloud-storage->earthengine-api) (2.23.0)\n",
            "Requirement already satisfied: googleapis-common-protos<2.0dev,>=1.6.0 in /usr/local/lib/python3.6/dist-packages (from google-api-core<2.0.0dev,>=1.14.0->google-cloud-core<2.0dev,>=1.0.0->google-cloud-storage->earthengine-api) (1.52.0)\n",
            "Requirement already satisfied: idna<3,>=2.5 in /usr/local/lib/python3.6/dist-packages (from requests<3.0.0dev,>=2.18.0->google-api-core<2.0.0dev,>=1.14.0->google-cloud-core<2.0dev,>=1.0.0->google-cloud-storage->earthengine-api) (2.9)\n",
            "Requirement already satisfied: chardet<4,>=3.0.2 in /usr/local/lib/python3.6/dist-packages (from requests<3.0.0dev,>=2.18.0->google-api-core<2.0.0dev,>=1.14.0->google-cloud-core<2.0dev,>=1.0.0->google-cloud-storage->earthengine-api) (3.0.4)\n"
          ],
          "name": "stdout"
        }
      ]
    },
    {
      "cell_type": "code",
      "metadata": {
        "id": "AaYC5Ro1lyhy",
        "colab_type": "code",
        "colab": {
          "base_uri": "https://localhost:8080/",
          "height": 71
        },
        "outputId": "80fa46e4-e194-4fbc-c454-0dff279dd2e9"
      },
      "source": [
        "import ee # Google Earth Engine\n",
        "import datetime\n",
        "\n",
        "import glob\n",
        "\n",
        "import time #sleep before screenshot\n",
        "\n",
        "import pandas as pd\n",
        "import seaborn as sns\n",
        "import matplotlib.pyplot as plt\n",
        "import numpy as np\n",
        "import json\n",
        "import folium\n",
        "from folium import plugins\n",
        "%matplotlib inline"
      ],
      "execution_count": 1,
      "outputs": [
        {
          "output_type": "stream",
          "text": [
            "/usr/local/lib/python3.6/dist-packages/statsmodels/tools/_testing.py:19: FutureWarning: pandas.util.testing is deprecated. Use the functions in the public API at pandas.testing instead.\n",
            "  import pandas.util.testing as tm\n"
          ],
          "name": "stderr"
        }
      ]
    },
    {
      "cell_type": "code",
      "metadata": {
        "id": "hRV5R80wl9-1",
        "colab_type": "code",
        "colab": {}
      },
      "source": [
        "gdrive_project_pathname = '/My Drive/w210'  #@param {type: \"string\"}"
      ],
      "execution_count": 2,
      "outputs": []
    },
    {
      "cell_type": "code",
      "metadata": {
        "id": "IyUSLFwbmAok",
        "colab_type": "code",
        "colab": {
          "base_uri": "https://localhost:8080/",
          "height": 258
        },
        "outputId": "ee901a61-8db6-4f59-b1b0-430fcba60cf9"
      },
      "source": [
        "import os.path\n",
        "from google.colab import drive\n",
        "\n",
        "# Mount the current user's Google Drive\n",
        "GOOGLE_DRIVE_MOUNT_POINT = \"/content/drive\"\n",
        "print(\"Mounting Google Drive beneath %s\" % GOOGLE_DRIVE_MOUNT_POINT)\n",
        "drive.mount(GOOGLE_DRIVE_MOUNT_POINT, force_remount = True)\n",
        "\n",
        "# Build the pathname to the project's folder residing beneath the current user's Google Drive\n",
        "if not gdrive_project_pathname.startswith(\"/\"):\n",
        "  gdrive_project_pathname = \"/\" + gdrive_project_pathname\n",
        "abs_project_pathname = GOOGLE_DRIVE_MOUNT_POINT + gdrive_project_pathname\n",
        "print(\"Project folder: %s\" % gdrive_project_pathname)\n",
        "print(\"Project folder for test_graphs: %s\" % abs_project_pathname + '/test_graphs/')\n",
        "files = glob.glob(abs_project_pathname + '/test_graphs' + '/*')\n",
        "for f in files:\n",
        "    print(f)"
      ],
      "execution_count": 3,
      "outputs": [
        {
          "output_type": "stream",
          "text": [
            "Mounting Google Drive beneath /content/drive\n",
            "Go to this URL in a browser: https://accounts.google.com/o/oauth2/auth?client_id=947318989803-6bn6qk8qdgf4n4g3pfee6491hc0brc4i.apps.googleusercontent.com&redirect_uri=urn%3aietf%3awg%3aoauth%3a2.0%3aoob&response_type=code&scope=email%20https%3a%2f%2fwww.googleapis.com%2fauth%2fdocs.test%20https%3a%2f%2fwww.googleapis.com%2fauth%2fdrive%20https%3a%2f%2fwww.googleapis.com%2fauth%2fdrive.photos.readonly%20https%3a%2f%2fwww.googleapis.com%2fauth%2fpeopleapi.readonly\n",
            "\n",
            "Enter your authorization code:\n",
            "··········\n",
            "Mounted at /content/drive\n",
            "Project folder: /My Drive/w210\n",
            "Project folder for test_graphs: /content/drive/My Drive/w210/test_graphs/\n",
            "/content/drive/My Drive/w210/test_graphs/LA Traffic.ipynb\n",
            "/content/drive/My Drive/w210/test_graphs/test_graph.html\n",
            "/content/drive/My Drive/w210/test_graphs/heatmap.html\n",
            "/content/drive/My Drive/w210/test_graphs/Week10_presentation_prediction.html\n",
            "/content/drive/My Drive/w210/test_graphs/GEE_SatelliteImagery_graphs.ipynb\n"
          ],
          "name": "stdout"
        }
      ]
    },
    {
      "cell_type": "markdown",
      "metadata": {
        "id": "tN3MLLjplyh1",
        "colab_type": "text"
      },
      "source": [
        "Initialize Google Earth Engine (GEE)"
      ]
    },
    {
      "cell_type": "code",
      "metadata": {
        "id": "t6ehWI63lyh2",
        "colab_type": "code",
        "colab": {
          "base_uri": "https://localhost:8080/",
          "height": 494
        },
        "outputId": "cf7649ea-e451-4b44-eac0-642e8dfac48e"
      },
      "source": [
        "# Trigger the authentication flow.\n",
        "# ee.Authenticate()\n",
        "\n",
        "# Initialize the library.\n",
        "ee.Initialize()"
      ],
      "execution_count": 4,
      "outputs": [
        {
          "output_type": "error",
          "ename": "EEException",
          "evalue": "ignored",
          "traceback": [
            "\u001b[0;31m---------------------------------------------------------------------------\u001b[0m",
            "\u001b[0;31mFileNotFoundError\u001b[0m                         Traceback (most recent call last)",
            "\u001b[0;32m/usr/local/lib/python3.6/dist-packages/ee/data.py\u001b[0m in \u001b[0;36mget_persistent_credentials\u001b[0;34m()\u001b[0m\n\u001b[1;32m    229\u001b[0m   \u001b[0;32mtry\u001b[0m\u001b[0;34m:\u001b[0m\u001b[0;34m\u001b[0m\u001b[0;34m\u001b[0m\u001b[0m\n\u001b[0;32m--> 230\u001b[0;31m     \u001b[0mtokens\u001b[0m \u001b[0;34m=\u001b[0m \u001b[0mjson\u001b[0m\u001b[0;34m.\u001b[0m\u001b[0mload\u001b[0m\u001b[0;34m(\u001b[0m\u001b[0mopen\u001b[0m\u001b[0;34m(\u001b[0m\u001b[0moauth\u001b[0m\u001b[0;34m.\u001b[0m\u001b[0mget_credentials_path\u001b[0m\u001b[0;34m(\u001b[0m\u001b[0;34m)\u001b[0m\u001b[0;34m)\u001b[0m\u001b[0;34m)\u001b[0m\u001b[0;34m\u001b[0m\u001b[0;34m\u001b[0m\u001b[0m\n\u001b[0m\u001b[1;32m    231\u001b[0m     \u001b[0mrefresh_token\u001b[0m \u001b[0;34m=\u001b[0m \u001b[0mtokens\u001b[0m\u001b[0;34m[\u001b[0m\u001b[0;34m'refresh_token'\u001b[0m\u001b[0;34m]\u001b[0m\u001b[0;34m\u001b[0m\u001b[0;34m\u001b[0m\u001b[0m\n",
            "\u001b[0;31mFileNotFoundError\u001b[0m: [Errno 2] No such file or directory: '/root/.config/earthengine/credentials'",
            "\nDuring handling of the above exception, another exception occurred:\n",
            "\u001b[0;31mEEException\u001b[0m                               Traceback (most recent call last)",
            "\u001b[0;32m<ipython-input-4-08092faf4bfe>\u001b[0m in \u001b[0;36m<module>\u001b[0;34m()\u001b[0m\n\u001b[1;32m      3\u001b[0m \u001b[0;34m\u001b[0m\u001b[0m\n\u001b[1;32m      4\u001b[0m \u001b[0;31m# Initialize the library.\u001b[0m\u001b[0;34m\u001b[0m\u001b[0;34m\u001b[0m\u001b[0;34m\u001b[0m\u001b[0m\n\u001b[0;32m----> 5\u001b[0;31m \u001b[0mee\u001b[0m\u001b[0;34m.\u001b[0m\u001b[0mInitialize\u001b[0m\u001b[0;34m(\u001b[0m\u001b[0;34m)\u001b[0m\u001b[0;34m\u001b[0m\u001b[0;34m\u001b[0m\u001b[0m\n\u001b[0m",
            "\u001b[0;32m/usr/local/lib/python3.6/dist-packages/ee/__init__.py\u001b[0m in \u001b[0;36mInitialize\u001b[0;34m(credentials, opt_url, use_cloud_api, cloud_api_key, http_transport, project)\u001b[0m\n\u001b[1;32m    112\u001b[0m   \"\"\"\n\u001b[1;32m    113\u001b[0m   \u001b[0;32mif\u001b[0m \u001b[0mcredentials\u001b[0m \u001b[0;34m==\u001b[0m \u001b[0;34m'persistent'\u001b[0m\u001b[0;34m:\u001b[0m\u001b[0;34m\u001b[0m\u001b[0;34m\u001b[0m\u001b[0m\n\u001b[0;32m--> 114\u001b[0;31m     \u001b[0mcredentials\u001b[0m \u001b[0;34m=\u001b[0m \u001b[0mdata\u001b[0m\u001b[0;34m.\u001b[0m\u001b[0mget_persistent_credentials\u001b[0m\u001b[0;34m(\u001b[0m\u001b[0;34m)\u001b[0m\u001b[0;34m\u001b[0m\u001b[0;34m\u001b[0m\u001b[0m\n\u001b[0m\u001b[1;32m    115\u001b[0m   data.initialize(\n\u001b[1;32m    116\u001b[0m       \u001b[0mcredentials\u001b[0m\u001b[0;34m=\u001b[0m\u001b[0mcredentials\u001b[0m\u001b[0;34m,\u001b[0m\u001b[0;34m\u001b[0m\u001b[0;34m\u001b[0m\u001b[0m\n",
            "\u001b[0;32m/usr/local/lib/python3.6/dist-packages/ee/data.py\u001b[0m in \u001b[0;36mget_persistent_credentials\u001b[0;34m()\u001b[0m\n\u001b[1;32m    239\u001b[0m   \u001b[0;32mexcept\u001b[0m \u001b[0mIOError\u001b[0m\u001b[0;34m:\u001b[0m\u001b[0;34m\u001b[0m\u001b[0;34m\u001b[0m\u001b[0m\n\u001b[1;32m    240\u001b[0m     raise ee_exception.EEException(\n\u001b[0;32m--> 241\u001b[0;31m         \u001b[0;34m'Please authorize access to your Earth Engine account by '\u001b[0m\u001b[0;34m\u001b[0m\u001b[0;34m\u001b[0m\u001b[0m\n\u001b[0m\u001b[1;32m    242\u001b[0m         \u001b[0;34m'running\\n\\nearthengine authenticate\\n\\nin your command line, and then '\u001b[0m\u001b[0;34m\u001b[0m\u001b[0;34m\u001b[0m\u001b[0m\n\u001b[1;32m    243\u001b[0m         'retry.')\n",
            "\u001b[0;31mEEException\u001b[0m: Please authorize access to your Earth Engine account by running\n\nearthengine authenticate\n\nin your command line, and then retry."
          ]
        }
      ]
    },
    {
      "cell_type": "markdown",
      "metadata": {
        "id": "JeHufJnClyh5",
        "colab_type": "text"
      },
      "source": [
        "Read the data"
      ]
    },
    {
      "cell_type": "code",
      "metadata": {
        "id": "If9gMedZXcrR",
        "colab_type": "code",
        "colab": {
          "base_uri": "https://localhost:8080/",
          "height": 68
        },
        "outputId": "49ba0e9e-e38d-4cb0-a445-ef302fa78329"
      },
      "source": [
        "!ls -l"
      ],
      "execution_count": 13,
      "outputs": [
        {
          "output_type": "stream",
          "text": [
            "total 8\n",
            "drwx------ 4 root root 4096 Jul  5 09:45 drive\n",
            "drwxr-xr-x 1 root root 4096 Jun 26 16:26 sample_data\n"
          ],
          "name": "stdout"
        }
      ]
    },
    {
      "cell_type": "code",
      "metadata": {
        "id": "yMNFBrDmlyh5",
        "colab_type": "code",
        "colab": {
          "base_uri": "https://localhost:8080/",
          "height": 824
        },
        "outputId": "f7f253b5-8a71-4dc0-d1ff-4c0a22a8fb36"
      },
      "source": [
        "### Read the data \n",
        "df=pd.read_csv(abs_project_pathname + \"/Angela_files/Week10_presentation_prediction.csv\")\n",
        "df.head(25)"
      ],
      "execution_count": 5,
      "outputs": [
        {
          "output_type": "execute_result",
          "data": {
            "text/html": [
              "<div>\n",
              "<style scoped>\n",
              "    .dataframe tbody tr th:only-of-type {\n",
              "        vertical-align: middle;\n",
              "    }\n",
              "\n",
              "    .dataframe tbody tr th {\n",
              "        vertical-align: top;\n",
              "    }\n",
              "\n",
              "    .dataframe thead th {\n",
              "        text-align: right;\n",
              "    }\n",
              "</style>\n",
              "<table border=\"1\" class=\"dataframe\">\n",
              "  <thead>\n",
              "    <tr style=\"text-align: right;\">\n",
              "      <th></th>\n",
              "      <th>Unnamed: 0</th>\n",
              "      <th>lat</th>\n",
              "      <th>lon</th>\n",
              "      <th>Class</th>\n",
              "    </tr>\n",
              "  </thead>\n",
              "  <tbody>\n",
              "    <tr>\n",
              "      <th>0</th>\n",
              "      <td>4</td>\n",
              "      <td>24.300192</td>\n",
              "      <td>73.371114</td>\n",
              "      <td>Rainfed</td>\n",
              "    </tr>\n",
              "    <tr>\n",
              "      <th>1</th>\n",
              "      <td>5</td>\n",
              "      <td>24.300192</td>\n",
              "      <td>73.371383</td>\n",
              "      <td>Rainfed</td>\n",
              "    </tr>\n",
              "    <tr>\n",
              "      <th>2</th>\n",
              "      <td>6</td>\n",
              "      <td>24.300192</td>\n",
              "      <td>73.371653</td>\n",
              "      <td>Rainfed</td>\n",
              "    </tr>\n",
              "    <tr>\n",
              "      <th>3</th>\n",
              "      <td>7</td>\n",
              "      <td>24.300192</td>\n",
              "      <td>73.371922</td>\n",
              "      <td>Rainfed</td>\n",
              "    </tr>\n",
              "    <tr>\n",
              "      <th>4</th>\n",
              "      <td>8</td>\n",
              "      <td>24.300192</td>\n",
              "      <td>73.372192</td>\n",
              "      <td>Rainfed</td>\n",
              "    </tr>\n",
              "    <tr>\n",
              "      <th>5</th>\n",
              "      <td>9</td>\n",
              "      <td>24.300192</td>\n",
              "      <td>73.372461</td>\n",
              "      <td>Rainfed</td>\n",
              "    </tr>\n",
              "    <tr>\n",
              "      <th>6</th>\n",
              "      <td>13</td>\n",
              "      <td>24.300192</td>\n",
              "      <td>73.373539</td>\n",
              "      <td>Rainfed</td>\n",
              "    </tr>\n",
              "    <tr>\n",
              "      <th>7</th>\n",
              "      <td>14</td>\n",
              "      <td>24.300192</td>\n",
              "      <td>73.373809</td>\n",
              "      <td>Rainfed</td>\n",
              "    </tr>\n",
              "    <tr>\n",
              "      <th>8</th>\n",
              "      <td>15</td>\n",
              "      <td>24.300192</td>\n",
              "      <td>73.374078</td>\n",
              "      <td>Rainfed</td>\n",
              "    </tr>\n",
              "    <tr>\n",
              "      <th>9</th>\n",
              "      <td>16</td>\n",
              "      <td>24.300192</td>\n",
              "      <td>73.374347</td>\n",
              "      <td>Rainfed</td>\n",
              "    </tr>\n",
              "    <tr>\n",
              "      <th>10</th>\n",
              "      <td>17</td>\n",
              "      <td>24.300192</td>\n",
              "      <td>73.374617</td>\n",
              "      <td>Rainfed</td>\n",
              "    </tr>\n",
              "    <tr>\n",
              "      <th>11</th>\n",
              "      <td>18</td>\n",
              "      <td>24.300192</td>\n",
              "      <td>73.374886</td>\n",
              "      <td>Rainfed</td>\n",
              "    </tr>\n",
              "    <tr>\n",
              "      <th>12</th>\n",
              "      <td>19</td>\n",
              "      <td>24.300192</td>\n",
              "      <td>73.375156</td>\n",
              "      <td>Irrigated</td>\n",
              "    </tr>\n",
              "    <tr>\n",
              "      <th>13</th>\n",
              "      <td>20</td>\n",
              "      <td>24.300192</td>\n",
              "      <td>73.375425</td>\n",
              "      <td>Irrigated</td>\n",
              "    </tr>\n",
              "    <tr>\n",
              "      <th>14</th>\n",
              "      <td>21</td>\n",
              "      <td>24.300192</td>\n",
              "      <td>73.375695</td>\n",
              "      <td>Irrigated</td>\n",
              "    </tr>\n",
              "    <tr>\n",
              "      <th>15</th>\n",
              "      <td>22</td>\n",
              "      <td>24.300192</td>\n",
              "      <td>73.375964</td>\n",
              "      <td>Irrigated</td>\n",
              "    </tr>\n",
              "    <tr>\n",
              "      <th>16</th>\n",
              "      <td>23</td>\n",
              "      <td>24.300192</td>\n",
              "      <td>73.376234</td>\n",
              "      <td>Rainfed</td>\n",
              "    </tr>\n",
              "    <tr>\n",
              "      <th>17</th>\n",
              "      <td>24</td>\n",
              "      <td>24.300192</td>\n",
              "      <td>73.376503</td>\n",
              "      <td>Rainfed</td>\n",
              "    </tr>\n",
              "    <tr>\n",
              "      <th>18</th>\n",
              "      <td>25</td>\n",
              "      <td>24.300192</td>\n",
              "      <td>73.376773</td>\n",
              "      <td>Rainfed</td>\n",
              "    </tr>\n",
              "    <tr>\n",
              "      <th>19</th>\n",
              "      <td>26</td>\n",
              "      <td>24.300192</td>\n",
              "      <td>73.377042</td>\n",
              "      <td>Rainfed</td>\n",
              "    </tr>\n",
              "    <tr>\n",
              "      <th>20</th>\n",
              "      <td>30</td>\n",
              "      <td>24.300192</td>\n",
              "      <td>73.378120</td>\n",
              "      <td>Rainfed</td>\n",
              "    </tr>\n",
              "    <tr>\n",
              "      <th>21</th>\n",
              "      <td>31</td>\n",
              "      <td>24.300192</td>\n",
              "      <td>73.378390</td>\n",
              "      <td>Rainfed</td>\n",
              "    </tr>\n",
              "    <tr>\n",
              "      <th>22</th>\n",
              "      <td>32</td>\n",
              "      <td>24.300192</td>\n",
              "      <td>73.378659</td>\n",
              "      <td>Irrigated</td>\n",
              "    </tr>\n",
              "    <tr>\n",
              "      <th>23</th>\n",
              "      <td>33</td>\n",
              "      <td>24.300192</td>\n",
              "      <td>73.378929</td>\n",
              "      <td>Rainfed</td>\n",
              "    </tr>\n",
              "    <tr>\n",
              "      <th>24</th>\n",
              "      <td>34</td>\n",
              "      <td>24.300192</td>\n",
              "      <td>73.379198</td>\n",
              "      <td>Rainfed</td>\n",
              "    </tr>\n",
              "  </tbody>\n",
              "</table>\n",
              "</div>"
            ],
            "text/plain": [
              "    Unnamed: 0        lat        lon      Class\n",
              "0            4  24.300192  73.371114    Rainfed\n",
              "1            5  24.300192  73.371383    Rainfed\n",
              "2            6  24.300192  73.371653    Rainfed\n",
              "3            7  24.300192  73.371922    Rainfed\n",
              "4            8  24.300192  73.372192    Rainfed\n",
              "5            9  24.300192  73.372461    Rainfed\n",
              "6           13  24.300192  73.373539    Rainfed\n",
              "7           14  24.300192  73.373809    Rainfed\n",
              "8           15  24.300192  73.374078    Rainfed\n",
              "9           16  24.300192  73.374347    Rainfed\n",
              "10          17  24.300192  73.374617    Rainfed\n",
              "11          18  24.300192  73.374886    Rainfed\n",
              "12          19  24.300192  73.375156  Irrigated\n",
              "13          20  24.300192  73.375425  Irrigated\n",
              "14          21  24.300192  73.375695  Irrigated\n",
              "15          22  24.300192  73.375964  Irrigated\n",
              "16          23  24.300192  73.376234    Rainfed\n",
              "17          24  24.300192  73.376503    Rainfed\n",
              "18          25  24.300192  73.376773    Rainfed\n",
              "19          26  24.300192  73.377042    Rainfed\n",
              "20          30  24.300192  73.378120    Rainfed\n",
              "21          31  24.300192  73.378390    Rainfed\n",
              "22          32  24.300192  73.378659  Irrigated\n",
              "23          33  24.300192  73.378929    Rainfed\n",
              "24          34  24.300192  73.379198    Rainfed"
            ]
          },
          "metadata": {
            "tags": []
          },
          "execution_count": 5
        }
      ]
    },
    {
      "cell_type": "code",
      "metadata": {
        "id": "Hy3ALkPuHFU1",
        "colab_type": "code",
        "colab": {}
      },
      "source": [
        ""
      ],
      "execution_count": null,
      "outputs": []
    },
    {
      "cell_type": "markdown",
      "metadata": {
        "id": "AuMkkBuXlyiB",
        "colab_type": "text"
      },
      "source": [
        "Define the function to plot satellite images or pull satellite image data"
      ]
    },
    {
      "cell_type": "code",
      "metadata": {
        "id": "tv5wzWgoaoeb",
        "colab_type": "code",
        "colab": {}
      },
      "source": [
        "# df['color']=df.apply(lambda row:\"Orange\" if row['GFSAD30']==1 else\n",
        "#                                   \"green\" if row['GFSAD30']==2 else\n",
        "#                                    \"grey\", axis=1)\n",
        "\n",
        "df['color']=df.apply(lambda row:\"Orange\" if row['Class']=='Irrigated' else\n",
        "                                  \"green\" if row['Class']=='Rainfed' else\n",
        "                                  \"black\" if row['Class']=='Non-cropland' else\n",
        "                                   \"grey\", axis=1)"
      ],
      "execution_count": 6,
      "outputs": []
    },
    {
      "cell_type": "code",
      "metadata": {
        "id": "4r1fdQz4cSZE",
        "colab_type": "code",
        "colab": {
          "base_uri": "https://localhost:8080/",
          "height": 419
        },
        "outputId": "edc91288-843c-4e6c-babf-4506584957b3"
      },
      "source": [
        "df"
      ],
      "execution_count": 12,
      "outputs": [
        {
          "output_type": "execute_result",
          "data": {
            "text/html": [
              "<div>\n",
              "<style scoped>\n",
              "    .dataframe tbody tr th:only-of-type {\n",
              "        vertical-align: middle;\n",
              "    }\n",
              "\n",
              "    .dataframe tbody tr th {\n",
              "        vertical-align: top;\n",
              "    }\n",
              "\n",
              "    .dataframe thead th {\n",
              "        text-align: right;\n",
              "    }\n",
              "</style>\n",
              "<table border=\"1\" class=\"dataframe\">\n",
              "  <thead>\n",
              "    <tr style=\"text-align: right;\">\n",
              "      <th></th>\n",
              "      <th>Unnamed: 0</th>\n",
              "      <th>lat</th>\n",
              "      <th>lon</th>\n",
              "      <th>Class</th>\n",
              "      <th>color</th>\n",
              "    </tr>\n",
              "  </thead>\n",
              "  <tbody>\n",
              "    <tr>\n",
              "      <th>0</th>\n",
              "      <td>4</td>\n",
              "      <td>24.300192</td>\n",
              "      <td>73.371114</td>\n",
              "      <td>Rainfed</td>\n",
              "      <td>green</td>\n",
              "    </tr>\n",
              "    <tr>\n",
              "      <th>1</th>\n",
              "      <td>5</td>\n",
              "      <td>24.300192</td>\n",
              "      <td>73.371383</td>\n",
              "      <td>Rainfed</td>\n",
              "      <td>green</td>\n",
              "    </tr>\n",
              "    <tr>\n",
              "      <th>2</th>\n",
              "      <td>6</td>\n",
              "      <td>24.300192</td>\n",
              "      <td>73.371653</td>\n",
              "      <td>Rainfed</td>\n",
              "      <td>green</td>\n",
              "    </tr>\n",
              "    <tr>\n",
              "      <th>3</th>\n",
              "      <td>7</td>\n",
              "      <td>24.300192</td>\n",
              "      <td>73.371922</td>\n",
              "      <td>Rainfed</td>\n",
              "      <td>green</td>\n",
              "    </tr>\n",
              "    <tr>\n",
              "      <th>4</th>\n",
              "      <td>8</td>\n",
              "      <td>24.300192</td>\n",
              "      <td>73.372192</td>\n",
              "      <td>Rainfed</td>\n",
              "      <td>green</td>\n",
              "    </tr>\n",
              "    <tr>\n",
              "      <th>...</th>\n",
              "      <td>...</td>\n",
              "      <td>...</td>\n",
              "      <td>...</td>\n",
              "      <td>...</td>\n",
              "      <td>...</td>\n",
              "    </tr>\n",
              "    <tr>\n",
              "      <th>137636</th>\n",
              "      <td>137636</td>\n",
              "      <td>24.399905</td>\n",
              "      <td>73.468671</td>\n",
              "      <td>Non-cropland</td>\n",
              "      <td>black</td>\n",
              "    </tr>\n",
              "    <tr>\n",
              "      <th>137637</th>\n",
              "      <td>137637</td>\n",
              "      <td>24.399905</td>\n",
              "      <td>73.468940</td>\n",
              "      <td>Non-cropland</td>\n",
              "      <td>black</td>\n",
              "    </tr>\n",
              "    <tr>\n",
              "      <th>137638</th>\n",
              "      <td>137638</td>\n",
              "      <td>24.399905</td>\n",
              "      <td>73.469210</td>\n",
              "      <td>Non-cropland</td>\n",
              "      <td>black</td>\n",
              "    </tr>\n",
              "    <tr>\n",
              "      <th>137639</th>\n",
              "      <td>137639</td>\n",
              "      <td>24.399905</td>\n",
              "      <td>73.469479</td>\n",
              "      <td>Non-cropland</td>\n",
              "      <td>black</td>\n",
              "    </tr>\n",
              "    <tr>\n",
              "      <th>137640</th>\n",
              "      <td>137640</td>\n",
              "      <td>24.399905</td>\n",
              "      <td>73.469749</td>\n",
              "      <td>Non-cropland</td>\n",
              "      <td>black</td>\n",
              "    </tr>\n",
              "  </tbody>\n",
              "</table>\n",
              "<p>137641 rows × 5 columns</p>\n",
              "</div>"
            ],
            "text/plain": [
              "        Unnamed: 0        lat        lon         Class  color\n",
              "0                4  24.300192  73.371114       Rainfed  green\n",
              "1                5  24.300192  73.371383       Rainfed  green\n",
              "2                6  24.300192  73.371653       Rainfed  green\n",
              "3                7  24.300192  73.371922       Rainfed  green\n",
              "4                8  24.300192  73.372192       Rainfed  green\n",
              "...            ...        ...        ...           ...    ...\n",
              "137636      137636  24.399905  73.468671  Non-cropland  black\n",
              "137637      137637  24.399905  73.468940  Non-cropland  black\n",
              "137638      137638  24.399905  73.469210  Non-cropland  black\n",
              "137639      137639  24.399905  73.469479  Non-cropland  black\n",
              "137640      137640  24.399905  73.469749  Non-cropland  black\n",
              "\n",
              "[137641 rows x 5 columns]"
            ]
          },
          "metadata": {
            "tags": []
          },
          "execution_count": 12
        }
      ]
    },
    {
      "cell_type": "markdown",
      "metadata": {
        "id": "jgeH6j3-ameW",
        "colab_type": "text"
      },
      "source": [
        "Create a map with latitude, longitude coordinates"
      ]
    },
    {
      "cell_type": "code",
      "metadata": {
        "id": "UrMGjQzUBTC0",
        "colab_type": "code",
        "colab": {}
      },
      "source": [
        "m=folium.Map([24.35,73.42],zoom_start=12)\n",
        "#location=location[0:2000]\n",
        "for lat,lon,color in zip(df['lat'],df['lon'],df['color']):\n",
        "     folium.Circle([lat, lon], radius = 10,\n",
        "                            color='b',\n",
        "                            fill=True,\n",
        "                            fill_opacity=0.7,\n",
        "                            fill_color=color,\n",
        "                           ).add_to(m)\n",
        "m.save(abs_project_pathname + '/test_graphs/Week10_presentation_prediction.html')"
      ],
      "execution_count": 9,
      "outputs": []
    },
    {
      "cell_type": "code",
      "metadata": {
        "id": "pp17wsM-Qy5F",
        "colab_type": "code",
        "colab": {}
      },
      "source": [
        ""
      ],
      "execution_count": 8,
      "outputs": []
    },
    {
      "cell_type": "code",
      "metadata": {
        "id": "zNh_Fwoddr5Z",
        "colab_type": "code",
        "colab": {
          "base_uri": "https://localhost:8080/",
          "height": 51
        },
        "outputId": "95607c35-666f-444a-8765-04d7eff8013f"
      },
      "source": [
        "df_data = df[['lat', 'lon']].values\n",
        "\n",
        "# plot heatmap\n",
        "m.add_child(plugins.HeatMap(df_data, radius=10))\n",
        "m.save(abs_project_pathname + '/test_graphs/heatmap.html')"
      ],
      "execution_count": 32,
      "outputs": [
        {
          "output_type": "stream",
          "text": [
            "/usr/local/lib/python3.6/dist-packages/ipykernel_launcher.py:4: FutureWarning: Method `add_children` is deprecated. Please use `add_child` instead.\n",
            "  after removing the cwd from sys.path.\n"
          ],
          "name": "stderr"
        }
      ]
    },
    {
      "cell_type": "code",
      "metadata": {
        "id": "FmoFNnOJgk4r",
        "colab_type": "code",
        "colab": {}
      },
      "source": [
        "m=folium.Map([24.35,73.42],zoom_start=11)\n",
        "for lat, lon, GFSAD30 in zip(df['lat'], df['lon'], df['GFSAD30']):\n",
        "    folium.CircleMarker(\n",
        "        [lat, lon],\n",
        "        radius=.15*GFSAD30,\n",
        "        color='b',\n",
        "        threshold_scale=[0,1,2,3],\n",
        "        fill_color=color,\n",
        "        fill=True,\n",
        "        fill_opacity=0.7\n",
        "        ).add_to(m)\n",
        "m"
      ],
      "execution_count": 35,
      "outputs": []
    }
  ]
}