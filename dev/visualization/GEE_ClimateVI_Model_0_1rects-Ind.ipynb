{
 "cells": [
  {
   "cell_type": "markdown",
   "metadata": {
    "colab_type": "text",
    "id": "RFhFV7lEwM81"
   },
   "source": [
    "Gdrive"
   ]
  },
  {
   "cell_type": "markdown",
   "metadata": {
    "colab_type": "text",
    "id": "UKd4OxF7wkAE"
   },
   "source": [
    "GEE"
   ]
  },
  {
   "cell_type": "code",
   "execution_count": 3,
   "metadata": {
    "colab": {
     "base_uri": "https://localhost:8080/",
     "height": 479
    },
    "colab_type": "code",
    "id": "lV1d8sqfvpW1",
    "outputId": "116330c2-9e5e-426b-f16d-78de3333ef11"
   },
   "outputs": [
    {
     "name": "stdout",
     "output_type": "stream",
     "text": [
      "Requirement already satisfied: earthengine-api in /usr/local/lib/python3.6/dist-packages (0.1.226)\n",
      "Requirement already satisfied: six in /usr/local/lib/python3.6/dist-packages (from earthengine-api) (1.12.0)\n",
      "Requirement already satisfied: google-api-python-client in /usr/local/lib/python3.6/dist-packages (from earthengine-api) (1.7.12)\n",
      "Requirement already satisfied: future in /usr/local/lib/python3.6/dist-packages (from earthengine-api) (0.16.0)\n",
      "Requirement already satisfied: httplib2shim in /usr/local/lib/python3.6/dist-packages (from earthengine-api) (0.0.3)\n",
      "Requirement already satisfied: google-auth>=1.4.1 in /usr/local/lib/python3.6/dist-packages (from earthengine-api) (1.17.2)\n",
      "Requirement already satisfied: google-auth-httplib2>=0.0.3 in /usr/local/lib/python3.6/dist-packages (from earthengine-api) (0.0.3)\n",
      "Requirement already satisfied: httplib2<1dev,>=0.9.2 in /usr/local/lib/python3.6/dist-packages (from earthengine-api) (0.17.4)\n",
      "Requirement already satisfied: google-cloud-storage in /usr/local/lib/python3.6/dist-packages (from earthengine-api) (1.18.1)\n",
      "Requirement already satisfied: uritemplate<4dev,>=3.0.0 in /usr/local/lib/python3.6/dist-packages (from google-api-python-client->earthengine-api) (3.0.1)\n",
      "Requirement already satisfied: urllib3 in /usr/local/lib/python3.6/dist-packages (from httplib2shim->earthengine-api) (1.24.3)\n",
      "Requirement already satisfied: certifi in /usr/local/lib/python3.6/dist-packages (from httplib2shim->earthengine-api) (2020.6.20)\n",
      "Requirement already satisfied: rsa<5,>=3.1.4; python_version >= \"3\" in /usr/local/lib/python3.6/dist-packages (from google-auth>=1.4.1->earthengine-api) (4.6)\n",
      "Requirement already satisfied: setuptools>=40.3.0 in /usr/local/lib/python3.6/dist-packages (from google-auth>=1.4.1->earthengine-api) (47.3.1)\n",
      "Requirement already satisfied: cachetools<5.0,>=2.0.0 in /usr/local/lib/python3.6/dist-packages (from google-auth>=1.4.1->earthengine-api) (4.1.0)\n",
      "Requirement already satisfied: pyasn1-modules>=0.2.1 in /usr/local/lib/python3.6/dist-packages (from google-auth>=1.4.1->earthengine-api) (0.2.8)\n",
      "Requirement already satisfied: google-cloud-core<2.0dev,>=1.0.0 in /usr/local/lib/python3.6/dist-packages (from google-cloud-storage->earthengine-api) (1.0.3)\n",
      "Requirement already satisfied: google-resumable-media<0.5.0dev,>=0.3.1 in /usr/local/lib/python3.6/dist-packages (from google-cloud-storage->earthengine-api) (0.4.1)\n",
      "Requirement already satisfied: pyasn1>=0.1.3 in /usr/local/lib/python3.6/dist-packages (from rsa<5,>=3.1.4; python_version >= \"3\"->google-auth>=1.4.1->earthengine-api) (0.4.8)\n",
      "Requirement already satisfied: google-api-core<2.0.0dev,>=1.14.0 in /usr/local/lib/python3.6/dist-packages (from google-cloud-core<2.0dev,>=1.0.0->google-cloud-storage->earthengine-api) (1.16.0)\n",
      "Requirement already satisfied: protobuf>=3.4.0 in /usr/local/lib/python3.6/dist-packages (from google-api-core<2.0.0dev,>=1.14.0->google-cloud-core<2.0dev,>=1.0.0->google-cloud-storage->earthengine-api) (3.10.0)\n",
      "Requirement already satisfied: pytz in /usr/local/lib/python3.6/dist-packages (from google-api-core<2.0.0dev,>=1.14.0->google-cloud-core<2.0dev,>=1.0.0->google-cloud-storage->earthengine-api) (2018.9)\n",
      "Requirement already satisfied: requests<3.0.0dev,>=2.18.0 in /usr/local/lib/python3.6/dist-packages (from google-api-core<2.0.0dev,>=1.14.0->google-cloud-core<2.0dev,>=1.0.0->google-cloud-storage->earthengine-api) (2.23.0)\n",
      "Requirement already satisfied: googleapis-common-protos<2.0dev,>=1.6.0 in /usr/local/lib/python3.6/dist-packages (from google-api-core<2.0.0dev,>=1.14.0->google-cloud-core<2.0dev,>=1.0.0->google-cloud-storage->earthengine-api) (1.52.0)\n",
      "Requirement already satisfied: chardet<4,>=3.0.2 in /usr/local/lib/python3.6/dist-packages (from requests<3.0.0dev,>=2.18.0->google-api-core<2.0.0dev,>=1.14.0->google-cloud-core<2.0dev,>=1.0.0->google-cloud-storage->earthengine-api) (3.0.4)\n",
      "Requirement already satisfied: idna<3,>=2.5 in /usr/local/lib/python3.6/dist-packages (from requests<3.0.0dev,>=2.18.0->google-api-core<2.0.0dev,>=1.14.0->google-cloud-core<2.0dev,>=1.0.0->google-cloud-storage->earthengine-api) (2.9)\n"
     ]
    }
   ],
   "source": [
    "!pip3 install earthengine-api "
   ]
  },
  {
   "cell_type": "code",
   "execution_count": 4,
   "metadata": {
    "colab": {
     "base_uri": "https://localhost:8080/",
     "height": 1000
    },
    "colab_type": "code",
    "id": "-mZH0vfcwyCc",
    "outputId": "266cf76c-6602-4bc0-9083-3430eb927e7b"
   },
   "outputs": [
    {
     "name": "stdout",
     "output_type": "stream",
     "text": [
      "Reading package lists... Done\n",
      "Building dependency tree       \n",
      "Reading state information... Done\n",
      "gdal-bin is already the newest version (2.2.3+dfsg-2).\n",
      "python-gdal is already the newest version (2.2.3+dfsg-2).\n",
      "python3-gdal is already the newest version (2.2.3+dfsg-2).\n",
      "The following package was automatically installed and is no longer required:\n",
      "  libnvidia-common-440\n",
      "Use 'apt autoremove' to remove it.\n",
      "0 upgraded, 0 newly installed, 0 to remove and 59 not upgraded.\n",
      "Reading package lists... Done\n",
      "Building dependency tree       \n",
      "Reading state information... Done\n",
      "The following package was automatically installed and is no longer required:\n",
      "  libnvidia-common-440\n",
      "Use 'apt autoremove' to remove it.\n",
      "The following additional packages will be installed:\n",
      "  libspatialindex-c4v5 libspatialindex-dev libspatialindex4v5\n",
      "  python3-pkg-resources\n",
      "Suggested packages:\n",
      "  python3-setuptools\n",
      "The following NEW packages will be installed:\n",
      "  libspatialindex-c4v5 libspatialindex-dev libspatialindex4v5\n",
      "  python3-pkg-resources python3-rtree\n",
      "0 upgraded, 5 newly installed, 0 to remove and 59 not upgraded.\n",
      "Need to get 671 kB of archives.\n",
      "After this operation, 3,948 kB of additional disk space will be used.\n",
      "Get:1 http://archive.ubuntu.com/ubuntu bionic/universe amd64 libspatialindex4v5 amd64 1.8.5-5 [219 kB]\n",
      "Get:2 http://archive.ubuntu.com/ubuntu bionic/universe amd64 libspatialindex-c4v5 amd64 1.8.5-5 [51.7 kB]\n",
      "Get:3 http://archive.ubuntu.com/ubuntu bionic/main amd64 python3-pkg-resources all 39.0.1-2 [98.8 kB]\n",
      "Get:4 http://archive.ubuntu.com/ubuntu bionic/universe amd64 libspatialindex-dev amd64 1.8.5-5 [285 kB]\n",
      "Get:5 http://archive.ubuntu.com/ubuntu bionic/universe amd64 python3-rtree all 0.8.3+ds-1 [16.9 kB]\n",
      "Fetched 671 kB in 1s (749 kB/s)\n",
      "Selecting previously unselected package libspatialindex4v5:amd64.\n",
      "(Reading database ... 144328 files and directories currently installed.)\n",
      "Preparing to unpack .../libspatialindex4v5_1.8.5-5_amd64.deb ...\n",
      "Unpacking libspatialindex4v5:amd64 (1.8.5-5) ...\n",
      "Selecting previously unselected package libspatialindex-c4v5:amd64.\n",
      "Preparing to unpack .../libspatialindex-c4v5_1.8.5-5_amd64.deb ...\n",
      "Unpacking libspatialindex-c4v5:amd64 (1.8.5-5) ...\n",
      "Selecting previously unselected package python3-pkg-resources.\n",
      "Preparing to unpack .../python3-pkg-resources_39.0.1-2_all.deb ...\n",
      "Unpacking python3-pkg-resources (39.0.1-2) ...\n",
      "Selecting previously unselected package libspatialindex-dev:amd64.\n",
      "Preparing to unpack .../libspatialindex-dev_1.8.5-5_amd64.deb ...\n",
      "Unpacking libspatialindex-dev:amd64 (1.8.5-5) ...\n",
      "Selecting previously unselected package python3-rtree.\n",
      "Preparing to unpack .../python3-rtree_0.8.3+ds-1_all.deb ...\n",
      "Unpacking python3-rtree (0.8.3+ds-1) ...\n",
      "Setting up libspatialindex4v5:amd64 (1.8.5-5) ...\n",
      "Setting up python3-pkg-resources (39.0.1-2) ...\n",
      "Setting up libspatialindex-c4v5:amd64 (1.8.5-5) ...\n",
      "Setting up libspatialindex-dev:amd64 (1.8.5-5) ...\n",
      "Setting up python3-rtree (0.8.3+ds-1) ...\n",
      "Processing triggers for libc-bin (2.27-3ubuntu1) ...\n",
      "/sbin/ldconfig.real: /usr/local/lib/python3.6/dist-packages/ideep4py/lib/libmkldnn.so.0 is not a symbolic link\n",
      "\n",
      "Collecting git+git://github.com/geopandas/geopandas.git\n",
      "  Cloning git://github.com/geopandas/geopandas.git to /tmp/pip-req-build-nd0laphw\n",
      "  Running command git clone -q git://github.com/geopandas/geopandas.git /tmp/pip-req-build-nd0laphw\n",
      "Requirement already satisfied: pandas>=0.23.0 in /usr/local/lib/python3.6/dist-packages (from geopandas==0.8.0+3.gb5ed1a4) (1.0.5)\n",
      "Requirement already satisfied: shapely in /usr/local/lib/python3.6/dist-packages (from geopandas==0.8.0+3.gb5ed1a4) (1.7.0)\n",
      "Collecting fiona\n",
      "\u001b[?25l  Downloading https://files.pythonhosted.org/packages/ec/20/4e63bc5c6e62df889297b382c3ccd4a7a488b00946aaaf81a118158c6f09/Fiona-1.8.13.post1-cp36-cp36m-manylinux1_x86_64.whl (14.7MB)\n",
      "\u001b[K     |████████████████████████████████| 14.7MB 310kB/s \n",
      "\u001b[?25hCollecting pyproj>=2.2.0\n",
      "\u001b[?25l  Downloading https://files.pythonhosted.org/packages/e5/c3/071e080230ac4b6c64f1a2e2f9161c9737a2bc7b683d2c90b024825000c0/pyproj-2.6.1.post1-cp36-cp36m-manylinux2010_x86_64.whl (10.9MB)\n",
      "\u001b[K     |████████████████████████████████| 10.9MB 46.2MB/s \n",
      "\u001b[?25hRequirement already satisfied: pytz>=2017.2 in /usr/local/lib/python3.6/dist-packages (from pandas>=0.23.0->geopandas==0.8.0+3.gb5ed1a4) (2018.9)\n",
      "Requirement already satisfied: numpy>=1.13.3 in /usr/local/lib/python3.6/dist-packages (from pandas>=0.23.0->geopandas==0.8.0+3.gb5ed1a4) (1.18.5)\n",
      "Requirement already satisfied: python-dateutil>=2.6.1 in /usr/local/lib/python3.6/dist-packages (from pandas>=0.23.0->geopandas==0.8.0+3.gb5ed1a4) (2.8.1)\n",
      "Collecting click-plugins>=1.0\n",
      "  Downloading https://files.pythonhosted.org/packages/e9/da/824b92d9942f4e472702488857914bdd50f73021efea15b4cad9aca8ecef/click_plugins-1.1.1-py2.py3-none-any.whl\n",
      "Collecting munch\n",
      "  Downloading https://files.pythonhosted.org/packages/cc/ab/85d8da5c9a45e072301beb37ad7f833cd344e04c817d97e0cc75681d248f/munch-2.5.0-py2.py3-none-any.whl\n",
      "Requirement already satisfied: attrs>=17 in /usr/local/lib/python3.6/dist-packages (from fiona->geopandas==0.8.0+3.gb5ed1a4) (19.3.0)\n",
      "Requirement already satisfied: six>=1.7 in /usr/local/lib/python3.6/dist-packages (from fiona->geopandas==0.8.0+3.gb5ed1a4) (1.12.0)\n",
      "Collecting cligj>=0.5\n",
      "  Downloading https://files.pythonhosted.org/packages/e4/be/30a58b4b0733850280d01f8bd132591b4668ed5c7046761098d665ac2174/cligj-0.5.0-py3-none-any.whl\n",
      "Requirement already satisfied: click<8,>=4.0 in /usr/local/lib/python3.6/dist-packages (from fiona->geopandas==0.8.0+3.gb5ed1a4) (7.1.2)\n",
      "Building wheels for collected packages: geopandas\n",
      "  Building wheel for geopandas (setup.py) ... \u001b[?25l\u001b[?25hdone\n",
      "  Created wheel for geopandas: filename=geopandas-0.8.0+3.gb5ed1a4-py2.py3-none-any.whl size=962711 sha256=3c722064b9d4b89e3b9120b8f909cf51bf0dde33fc11beb61cc76e31e0119211\n",
      "  Stored in directory: /tmp/pip-ephem-wheel-cache-_l1565l4/wheels/91/24/71/376c9c67192694168352afcccc2d264248f7e2cc6192997186\n",
      "Successfully built geopandas\n",
      "Installing collected packages: click-plugins, munch, cligj, fiona, pyproj, geopandas\n",
      "Successfully installed click-plugins-1.1.1 cligj-0.5.0 fiona-1.8.13.post1 geopandas-0.8.0+3.gb5ed1a4 munch-2.5.0 pyproj-2.6.1.post1\n",
      "Requirement already satisfied: descartes in /usr/local/lib/python3.6/dist-packages (1.1.0)\n",
      "Requirement already satisfied: matplotlib in /usr/local/lib/python3.6/dist-packages (from descartes) (3.2.2)\n",
      "Requirement already satisfied: python-dateutil>=2.1 in /usr/local/lib/python3.6/dist-packages (from matplotlib->descartes) (2.8.1)\n",
      "Requirement already satisfied: numpy>=1.11 in /usr/local/lib/python3.6/dist-packages (from matplotlib->descartes) (1.18.5)\n",
      "Requirement already satisfied: cycler>=0.10 in /usr/local/lib/python3.6/dist-packages (from matplotlib->descartes) (0.10.0)\n",
      "Requirement already satisfied: kiwisolver>=1.0.1 in /usr/local/lib/python3.6/dist-packages (from matplotlib->descartes) (1.2.0)\n",
      "Requirement already satisfied: pyparsing!=2.0.4,!=2.1.2,!=2.1.6,>=2.0.1 in /usr/local/lib/python3.6/dist-packages (from matplotlib->descartes) (2.4.7)\n",
      "Requirement already satisfied: six>=1.5 in /usr/local/lib/python3.6/dist-packages (from python-dateutil>=2.1->matplotlib->descartes) (1.12.0)\n",
      "Requirement already satisfied: folium in /usr/local/lib/python3.6/dist-packages (0.8.3)\n",
      "Requirement already satisfied: jinja2 in /usr/local/lib/python3.6/dist-packages (from folium) (2.11.2)\n",
      "Requirement already satisfied: numpy in /usr/local/lib/python3.6/dist-packages (from folium) (1.18.5)\n",
      "Requirement already satisfied: requests in /usr/local/lib/python3.6/dist-packages (from folium) (2.23.0)\n",
      "Requirement already satisfied: six in /usr/local/lib/python3.6/dist-packages (from folium) (1.12.0)\n",
      "Requirement already satisfied: branca>=0.3.0 in /usr/local/lib/python3.6/dist-packages (from folium) (0.4.1)\n",
      "Requirement already satisfied: MarkupSafe>=0.23 in /usr/local/lib/python3.6/dist-packages (from jinja2->folium) (1.1.1)\n",
      "Requirement already satisfied: urllib3!=1.25.0,!=1.25.1,<1.26,>=1.21.1 in /usr/local/lib/python3.6/dist-packages (from requests->folium) (1.24.3)\n",
      "Requirement already satisfied: certifi>=2017.4.17 in /usr/local/lib/python3.6/dist-packages (from requests->folium) (2020.6.20)\n",
      "Requirement already satisfied: chardet<4,>=3.0.2 in /usr/local/lib/python3.6/dist-packages (from requests->folium) (3.0.4)\n",
      "Requirement already satisfied: idna<3,>=2.5 in /usr/local/lib/python3.6/dist-packages (from requests->folium) (2.9)\n",
      "CPU times: user 196 ms, sys: 57.1 ms, total: 253 ms\n",
      "Wall time: 33.2 s\n"
     ]
    }
   ],
   "source": [
    "%%time \n",
    "\n",
    "# Important library for many geopython libraries\n",
    "!apt install gdal-bin python-gdal python3-gdal \n",
    "# Install rtree - Geopandas requirment\n",
    "!apt install python3-rtree \n",
    "# Install Geopandas\n",
    "!pip install git+git://github.com/geopandas/geopandas.git\n",
    "# Install descartes - Geopandas requirment\n",
    "!pip install descartes \n",
    "# Install Folium for Geographic data visualization\n",
    "!pip install folium"
   ]
  },
  {
   "cell_type": "code",
   "execution_count": 1,
   "metadata": {
    "colab": {},
    "colab_type": "code",
    "id": "NTiLfweLvkQQ"
   },
   "outputs": [],
   "source": [
    "import ee\n",
    "import geopandas\n",
    "import numpy as np\n",
    "import datetime\n",
    "import numpy as np\n",
    "import pandas as pd\n",
    "import matplotlib.pyplot as plt\n",
    "import folium\n",
    "from shapely.geometry import box\n",
    "import warnings\n",
    "from functools import reduce\n",
    "from math import sin, cos, sqrt, atan2, radians"
   ]
  },
  {
   "cell_type": "code",
   "execution_count": null,
   "metadata": {
    "colab": {
     "base_uri": "https://localhost:8080/",
     "height": 173
    },
    "colab_type": "code",
    "id": "ozE6f5oavkQV",
    "outputId": "6c11447c-42b2-4e96-caf3-00874befeb11"
   },
   "outputs": [],
   "source": [
    "# Trigger the authentication flow.\n",
    "# ee.Authenticate()\n",
    "\n",
    "# Initialize the library.\n",
    "ee.Initialize()"
   ]
  },
  {
   "cell_type": "markdown",
   "metadata": {
    "colab_type": "text",
    "id": "6IM1lKKfvkQY"
   },
   "source": [
    "Create a dictionary of countries with its boundary coordinates"
   ]
  },
  {
   "cell_type": "code",
   "execution_count": 4,
   "metadata": {
    "colab": {},
    "colab_type": "code",
    "id": "bPsmTENavkQY"
   },
   "outputs": [],
   "source": [
    "world = geopandas.read_file(geopandas.datasets.get_path('naturalearth_lowres'))\n",
    "country_polygon_dict = dict()\n",
    "for index, row in world.iterrows():\n",
    "    if 'MultiPolygon' in str(type(row['geometry'])):\n",
    "        i = 0\n",
    "        for poly in row['geometry']:\n",
    "            # Remove small area that's not needed for sampling\n",
    "            if poly.area > 5:\n",
    "                # Area is in the unit of squre degrees\n",
    "                country_polygon_dict[row['iso_a3']+'_'+str(i)] = (poly, round(poly.area*0.2))\n",
    "                i +=1 \n",
    "    # Here implies a Polygon\n",
    "    elif row['geometry'].area > 5:\n",
    "        country_polygon_dict[row['iso_a3']] = (row['geometry'], round(row['geometry'].area*0.2))"
   ]
  },
  {
   "cell_type": "code",
   "execution_count": 7,
   "metadata": {
    "colab": {
     "base_uri": "https://localhost:8080/",
     "height": 80
    },
    "colab_type": "code",
    "id": "jHDjlz9Ly6PU",
    "outputId": "04b34728-6aab-4207-daeb-3a41c3aaec13"
   },
   "outputs": [
    {
     "data": {
      "text/html": [
       "<div>\n",
       "<style scoped>\n",
       "    .dataframe tbody tr th:only-of-type {\n",
       "        vertical-align: middle;\n",
       "    }\n",
       "\n",
       "    .dataframe tbody tr th {\n",
       "        vertical-align: top;\n",
       "    }\n",
       "\n",
       "    .dataframe thead th {\n",
       "        text-align: right;\n",
       "    }\n",
       "</style>\n",
       "<table border=\"1\" class=\"dataframe\">\n",
       "  <thead>\n",
       "    <tr style=\"text-align: right;\">\n",
       "      <th></th>\n",
       "      <th>pop_est</th>\n",
       "      <th>continent</th>\n",
       "      <th>name</th>\n",
       "      <th>iso_a3</th>\n",
       "      <th>gdp_md_est</th>\n",
       "      <th>geometry</th>\n",
       "    </tr>\n",
       "  </thead>\n",
       "  <tbody>\n",
       "    <tr>\n",
       "      <td>98</td>\n",
       "      <td>1281935911</td>\n",
       "      <td>Asia</td>\n",
       "      <td>India</td>\n",
       "      <td>IND</td>\n",
       "      <td>8721000.0</td>\n",
       "      <td>POLYGON ((97.32711 28.26158, 97.40256 27.88254...</td>\n",
       "    </tr>\n",
       "  </tbody>\n",
       "</table>\n",
       "</div>"
      ],
      "text/plain": [
       "       pop_est continent   name iso_a3  gdp_md_est  \\\n",
       "98  1281935911      Asia  India    IND   8721000.0   \n",
       "\n",
       "                                             geometry  \n",
       "98  POLYGON ((97.32711 28.26158, 97.40256 27.88254...  "
      ]
     },
     "execution_count": 7,
     "metadata": {},
     "output_type": "execute_result"
    }
   ],
   "source": [
    "world[world.iso_a3 == 'IND'].head()"
   ]
  },
  {
   "cell_type": "code",
   "execution_count": 12,
   "metadata": {
    "colab": {},
    "colab_type": "code",
    "id": "UP6nAWv5vkQb"
   },
   "outputs": [
    {
     "ename": "KeyError",
     "evalue": "'-99'",
     "output_type": "error",
     "traceback": [
      "\u001b[0;31m---------------------------------------------------------------------------\u001b[0m",
      "\u001b[0;31mKeyError\u001b[0m                                  Traceback (most recent call last)",
      "\u001b[0;32m<ipython-input-12-849252fbf492>\u001b[0m in \u001b[0;36m<module>\u001b[0;34m\u001b[0m\n\u001b[1;32m      1\u001b[0m \u001b[0;31m# Remove miscellaneous countries\u001b[0m\u001b[0;34m\u001b[0m\u001b[0;34m\u001b[0m\u001b[0;34m\u001b[0m\u001b[0m\n\u001b[0;32m----> 2\u001b[0;31m \u001b[0;32mdel\u001b[0m \u001b[0mcountry_polygon_dict\u001b[0m\u001b[0;34m[\u001b[0m\u001b[0;34m'-99'\u001b[0m\u001b[0;34m]\u001b[0m\u001b[0;34m\u001b[0m\u001b[0;34m\u001b[0m\u001b[0m\n\u001b[0m\u001b[1;32m      3\u001b[0m \u001b[0;32mdel\u001b[0m \u001b[0mcountry_polygon_dict\u001b[0m\u001b[0;34m[\u001b[0m\u001b[0;34m'-99_0'\u001b[0m\u001b[0;34m]\u001b[0m\u001b[0;34m\u001b[0m\u001b[0;34m\u001b[0m\u001b[0m\n\u001b[1;32m      4\u001b[0m \u001b[0;32mdel\u001b[0m \u001b[0mcountry_polygon_dict\u001b[0m\u001b[0;34m[\u001b[0m\u001b[0;34m'-99_1'\u001b[0m\u001b[0;34m]\u001b[0m\u001b[0;34m\u001b[0m\u001b[0;34m\u001b[0m\u001b[0m\n\u001b[1;32m      5\u001b[0m \u001b[0;32mdel\u001b[0m \u001b[0mcountry_polygon_dict\u001b[0m\u001b[0;34m[\u001b[0m\u001b[0;34m'-99_2'\u001b[0m\u001b[0;34m]\u001b[0m\u001b[0;34m\u001b[0m\u001b[0;34m\u001b[0m\u001b[0m\n",
      "\u001b[0;31mKeyError\u001b[0m: '-99'"
     ]
    }
   ],
   "source": [
    "# Remove miscellaneous countries\n",
    "del country_polygon_dict['-99']\n",
    "del country_polygon_dict['-99_0']\n",
    "del country_polygon_dict['-99_1']\n",
    "del country_polygon_dict['-99_2']"
   ]
  },
  {
   "cell_type": "code",
   "execution_count": 13,
   "metadata": {
    "colab": {},
    "colab_type": "code",
    "id": "JfYzBs4NvkQd"
   },
   "outputs": [
    {
     "data": {
      "text/plain": [
       "{'TZA': (<shapely.geometry.polygon.Polygon at 0x11dca2cd0>, 15),\n",
       " 'ESH': (<shapely.geometry.polygon.Polygon at 0x11cee11d0>, 2),\n",
       " 'CAN_0': (<shapely.geometry.polygon.Polygon at 0x11dca2690>, 256),\n",
       " 'CAN_1': (<shapely.geometry.polygon.Polygon at 0x11dca23d0>, 4),\n",
       " 'CAN_2': (<shapely.geometry.polygon.Polygon at 0x11dca25d0>, 3),\n",
       " 'CAN_3': (<shapely.geometry.polygon.Polygon at 0x11dca2710>, 2),\n",
       " 'CAN_4': (<shapely.geometry.polygon.Polygon at 0x11dca2510>, 24),\n",
       " 'CAN_5': (<shapely.geometry.polygon.Polygon at 0x11dca2490>, 1),\n",
       " 'CAN_6': (<shapely.geometry.polygon.Polygon at 0x11dca2b90>, 1),\n",
       " 'CAN_7': (<shapely.geometry.polygon.Polygon at 0x11dca2f10>, 4),\n",
       " 'CAN_8': (<shapely.geometry.polygon.Polygon at 0x11dca2f90>, 3),\n",
       " 'CAN_9': (<shapely.geometry.polygon.Polygon at 0x11dca2d10>, 11),\n",
       " 'CAN_10': (<shapely.geometry.polygon.Polygon at 0x11dca2c90>, 2),\n",
       " 'CAN_11': (<shapely.geometry.polygon.Polygon at 0x11d4d8290>, 1),\n",
       " 'CAN_12': (<shapely.geometry.polygon.Polygon at 0x11dca2990>, 4),\n",
       " 'CAN_13': (<shapely.geometry.polygon.Polygon at 0x108c51b90>, 21),\n",
       " 'USA_0': (<shapely.geometry.polygon.Polygon at 0x108c4d910>, 168),\n",
       " 'USA_1': (<shapely.geometry.polygon.Polygon at 0x108c4d3d0>, 55),\n",
       " 'KAZ': (<shapely.geometry.polygon.Polygon at 0x11d730990>, 66),\n",
       " 'UZB': (<shapely.geometry.polygon.Polygon at 0x11ce02150>, 10),\n",
       " 'PNG_0': (<shapely.geometry.polygon.Polygon at 0x11dcb9290>, 7),\n",
       " 'IDN_0': (<shapely.geometry.polygon.Polygon at 0x11dcb93d0>, 7),\n",
       " 'IDN_1': (<shapely.geometry.polygon.Polygon at 0x11dcb9310>, 9),\n",
       " 'IDN_2': (<shapely.geometry.polygon.Polygon at 0x11dcb9690>, 3),\n",
       " 'IDN_3': (<shapely.geometry.polygon.Polygon at 0x11dcb9550>, 2),\n",
       " 'IDN_4': (<shapely.geometry.polygon.Polygon at 0x11dcb9610>, 7),\n",
       " 'ARG_0': (<shapely.geometry.polygon.Polygon at 0x11dcb9790>, 55),\n",
       " 'CHL_0': (<shapely.geometry.polygon.Polygon at 0x11dcb9850>, 2),\n",
       " 'CHL_1': (<shapely.geometry.polygon.Polygon at 0x11dcb9b90>, 16),\n",
       " 'COD': (<shapely.geometry.polygon.Polygon at 0x11dca6550>, 38),\n",
       " 'SOM': (<shapely.geometry.polygon.Polygon at 0x108c4d2d0>, 8),\n",
       " 'KEN': (<shapely.geometry.polygon.Polygon at 0x11dcb9150>, 10),\n",
       " 'SDN': (<shapely.geometry.polygon.Polygon at 0x11dcb9350>, 31),\n",
       " 'TCD': (<shapely.geometry.polygon.Polygon at 0x11dcb9590>, 21),\n",
       " 'RUS_0': (<shapely.geometry.polygon.Polygon at 0x11dcb9d50>, 567),\n",
       " 'RUS_1': (<shapely.geometry.polygon.Polygon at 0x11dcb9cd0>, 3),\n",
       " 'RUS_2': (<shapely.geometry.polygon.Polygon at 0x11dcb9f90>, 2),\n",
       " 'RUS_3': (<shapely.geometry.polygon.Polygon at 0x11dcb9f10>, 5),\n",
       " 'RUS_4': (<shapely.geometry.polygon.Polygon at 0x11dcb9ed0>, 2),\n",
       " 'RUS_5': (<shapely.geometry.polygon.Polygon at 0x11dcb9c90>, 5),\n",
       " 'GRL': (<shapely.geometry.polygon.Polygon at 0x11dcbb850>, 136),\n",
       " 'ZAF': (<shapely.geometry.polygon.Polygon at 0x11dcbbcd0>, 23),\n",
       " 'MEX': (<shapely.geometry.polygon.Polygon at 0x11dcad250>, 35),\n",
       " 'URY': (<shapely.geometry.polygon.Polygon at 0x11dcad450>, 3),\n",
       " 'BRA': (<shapely.geometry.polygon.Polygon at 0x11dcad690>, 142),\n",
       " 'BOL': (<shapely.geometry.polygon.Polygon at 0x11dcad8d0>, 18),\n",
       " 'PER': (<shapely.geometry.polygon.Polygon at 0x11dcadb10>, 22),\n",
       " 'COL': (<shapely.geometry.polygon.Polygon at 0x11dcadd50>, 19),\n",
       " 'PAN': (<shapely.geometry.polygon.Polygon at 0x11dcbb250>, 1),\n",
       " 'NIC': (<shapely.geometry.polygon.Polygon at 0x11dcbc450>, 2),\n",
       " 'HND': (<shapely.geometry.polygon.Polygon at 0x11dcbc690>, 2),\n",
       " 'GTM': (<shapely.geometry.polygon.Polygon at 0x11dcbcb10>, 2),\n",
       " 'VEN': (<shapely.geometry.polygon.Polygon at 0x11dcadf10>, 15),\n",
       " 'GUY': (<shapely.geometry.polygon.Polygon at 0x11dcbe250>, 3),\n",
       " 'SUR': (<shapely.geometry.polygon.Polygon at 0x11dcbe450>, 2),\n",
       " 'ECU': (<shapely.geometry.polygon.Polygon at 0x11dcbe850>, 4),\n",
       " 'CUB': (<shapely.geometry.polygon.Polygon at 0x11dcbcf10>, 2),\n",
       " 'ZWE': (<shapely.geometry.polygon.Polygon at 0x11dcbd250>, 6),\n",
       " 'BWA': (<shapely.geometry.polygon.Polygon at 0x11dcbd450>, 10),\n",
       " 'NAM': (<shapely.geometry.polygon.Polygon at 0x11dcbd690>, 14),\n",
       " 'SEN': (<shapely.geometry.polygon.Polygon at 0x11dcbd8d0>, 3),\n",
       " 'MLI': (<shapely.geometry.polygon.Polygon at 0x11dcbdb10>, 21),\n",
       " 'MRT': (<shapely.geometry.polygon.Polygon at 0x11dcbdd50>, 18),\n",
       " 'BEN': (<shapely.geometry.polygon.Polygon at 0x11dcbef10>, 2),\n",
       " 'NER': (<shapely.geometry.polygon.Polygon at 0x11dcb1250>, 20),\n",
       " 'NGA': (<shapely.geometry.polygon.Polygon at 0x11dcb1450>, 15),\n",
       " 'CMR': (<shapely.geometry.polygon.Polygon at 0x11dcb1690>, 8),\n",
       " 'TGO': (<shapely.geometry.polygon.Polygon at 0x11dcb18d0>, 1),\n",
       " 'GHA': (<shapely.geometry.polygon.Polygon at 0x11dcb1b10>, 4),\n",
       " 'CIV': (<shapely.geometry.polygon.Polygon at 0x11dcb1d50>, 5),\n",
       " 'GIN': (<shapely.geometry.polygon.Polygon at 0x11dcbdf10>, 4),\n",
       " 'LBR': (<shapely.geometry.polygon.Polygon at 0x11dcaf410>, 2),\n",
       " 'SLE': (<shapely.geometry.polygon.Polygon at 0x11dcaf650>, 1),\n",
       " 'BFA': (<shapely.geometry.polygon.Polygon at 0x11dcaf890>, 5),\n",
       " 'CAF': (<shapely.geometry.polygon.Polygon at 0x11dcafad0>, 10),\n",
       " 'COG': (<shapely.geometry.polygon.Polygon at 0x11dcafd10>, 6),\n",
       " 'GAB': (<shapely.geometry.polygon.Polygon at 0x11dcb1f10>, 4),\n",
       " 'ZMB': (<shapely.geometry.polygon.Polygon at 0x11dcb0350>, 13),\n",
       " 'MWI': (<shapely.geometry.polygon.Polygon at 0x11dcb0650>, 2),\n",
       " 'MOZ': (<shapely.geometry.polygon.Polygon at 0x11dcb0850>, 14),\n",
       " 'AGO_0': (<shapely.geometry.polygon.Polygon at 0x11dcbc410>, 21),\n",
       " 'MDG': (<shapely.geometry.polygon.Polygon at 0x11dcb3610>, 10),\n",
       " 'TUN': (<shapely.geometry.polygon.Polygon at 0x11dcb3cd0>, 3),\n",
       " 'DZA': (<shapely.geometry.polygon.Polygon at 0x11dcb0cd0>, 43),\n",
       " 'JOR': (<shapely.geometry.polygon.Polygon at 0x11dcb71d0>, 2),\n",
       " 'ARE': (<shapely.geometry.polygon.Polygon at 0x11dcb73d0>, 1),\n",
       " 'IRQ': (<shapely.geometry.polygon.Polygon at 0x11dcb7a50>, 8),\n",
       " 'OMN_0': (<shapely.geometry.polygon.Polygon at 0x11dcbc810>, 5),\n",
       " 'KHM': (<shapely.geometry.polygon.Polygon at 0x11dcb7c90>, 3),\n",
       " 'THA': (<shapely.geometry.polygon.Polygon at 0x11dcc20d0>, 9),\n",
       " 'LAO': (<shapely.geometry.polygon.Polygon at 0x11dcc2390>, 4),\n",
       " 'MMR': (<shapely.geometry.polygon.Polygon at 0x11dcc2810>, 12),\n",
       " 'VNM': (<shapely.geometry.polygon.Polygon at 0x11dcc2a50>, 6),\n",
       " 'PRK_0': (<shapely.geometry.polygon.Polygon at 0x11dcbc790>, 3),\n",
       " 'KOR': (<shapely.geometry.polygon.Polygon at 0x11dcc2ed0>, 2),\n",
       " 'MNG': (<shapely.geometry.polygon.Polygon at 0x11dcc40d0>, 36),\n",
       " 'IND': (<shapely.geometry.polygon.Polygon at 0x11dcc43d0>, 56),\n",
       " 'BGD': (<shapely.geometry.polygon.Polygon at 0x11dcc45d0>, 2),\n",
       " 'NPL': (<shapely.geometry.polygon.Polygon at 0x11dcc4a50>, 3),\n",
       " 'PAK': (<shapely.geometry.polygon.Polygon at 0x11dcc4c90>, 16),\n",
       " 'AFG': (<shapely.geometry.polygon.Polygon at 0x11dcc2c90>, 13),\n",
       " 'TJK': (<shapely.geometry.polygon.Polygon at 0x11dcc6190>, 3),\n",
       " 'KGZ': (<shapely.geometry.polygon.Polygon at 0x11dcc6390>, 4),\n",
       " 'TKM': (<shapely.geometry.polygon.Polygon at 0x11dcc65d0>, 10),\n",
       " 'IRN': (<shapely.geometry.polygon.Polygon at 0x11dcc6810>, 31),\n",
       " 'SYR': (<shapely.geometry.polygon.Polygon at 0x11dcc6a50>, 4),\n",
       " 'SWE': (<shapely.geometry.polygon.Polygon at 0x11dcc4e50>, 16),\n",
       " 'BLR': (<shapely.geometry.polygon.Polygon at 0x11dcc7190>, 6),\n",
       " 'UKR': (<shapely.geometry.polygon.Polygon at 0x11dcc7390>, 14),\n",
       " 'POL': (<shapely.geometry.polygon.Polygon at 0x11dcc75d0>, 8),\n",
       " 'AUT': (<shapely.geometry.polygon.Polygon at 0x11dcc7810>, 2),\n",
       " 'HUN': (<shapely.geometry.polygon.Polygon at 0x11dcc7a50>, 2),\n",
       " 'ROU': (<shapely.geometry.polygon.Polygon at 0x11dcc6e50>, 6),\n",
       " 'LTU': (<shapely.geometry.polygon.Polygon at 0x11dcc8190>, 2),\n",
       " 'LVA': (<shapely.geometry.polygon.Polygon at 0x11dcc8390>, 2),\n",
       " 'EST': (<shapely.geometry.polygon.Polygon at 0x11dcc85d0>, 1),\n",
       " 'DEU': (<shapely.geometry.polygon.Polygon at 0x11dcc8810>, 9),\n",
       " 'BGR': (<shapely.geometry.polygon.Polygon at 0x11dcc8a50>, 2),\n",
       " 'GRC_0': (<shapely.geometry.polygon.Polygon at 0x11dcbc890>, 3),\n",
       " 'TUR_0': (<shapely.geometry.polygon.Polygon at 0x11dcbc9d0>, 16),\n",
       " 'HRV': (<shapely.geometry.polygon.Polygon at 0x11dcc9310>, 1),\n",
       " 'CHE': (<shapely.geometry.polygon.Polygon at 0x11dcc95d0>, 1),\n",
       " 'NLD': (<shapely.geometry.polygon.Polygon at 0x11dcc9cd0>, 1),\n",
       " 'PRT': (<shapely.geometry.polygon.Polygon at 0x11dcc8c90>, 2),\n",
       " 'ESP': (<shapely.geometry.polygon.Polygon at 0x11dccc190>, 11),\n",
       " 'IRL': (<shapely.geometry.polygon.Polygon at 0x11dccc390>, 2),\n",
       " 'NZL_0': (<shapely.geometry.polygon.Polygon at 0x11dcbced0>, 3),\n",
       " 'NZL_1': (<shapely.geometry.polygon.Polygon at 0x11dcbc910>, 3),\n",
       " 'AUS_0': (<shapely.geometry.polygon.Polygon at 0x11dcbce50>, 1),\n",
       " 'AUS_1': (<shapely.geometry.polygon.Polygon at 0x11dcbcd10>, 138),\n",
       " 'LKA': (<shapely.geometry.polygon.Polygon at 0x11dcccc50>, 1),\n",
       " 'CHN_0': (<shapely.geometry.polygon.Polygon at 0x11dcbcf90>, 190),\n",
       " 'ITA_0': (<shapely.geometry.polygon.Polygon at 0x11dcbe0d0>, 6),\n",
       " 'GBR_0': (<shapely.geometry.polygon.Polygon at 0x11dca24d0>, 7),\n",
       " 'ISL': (<shapely.geometry.polygon.Polygon at 0x11dccda50>, 4),\n",
       " 'AZE_0': (<shapely.geometry.polygon.Polygon at 0x11dcbe4d0>, 2),\n",
       " 'GEO': (<shapely.geometry.polygon.Polygon at 0x11dcccc90>, 2),\n",
       " 'PHL_0': (<shapely.geometry.polygon.Polygon at 0x11dcbe490>, 2),\n",
       " 'PHL_1': (<shapely.geometry.polygon.Polygon at 0x11dcbe650>, 2),\n",
       " 'MYS_0': (<shapely.geometry.polygon.Polygon at 0x11dcbe210>, 2),\n",
       " 'MYS_1': (<shapely.geometry.polygon.Polygon at 0x11dcbe950>, 3),\n",
       " 'FIN': (<shapely.geometry.polygon.Polygon at 0x11dccfdd0>, 13),\n",
       " 'SVK': (<shapely.geometry.polygon.Polygon at 0x11dccdcd0>, 1),\n",
       " 'CZE': (<shapely.geometry.polygon.Polygon at 0x11dcd3290>, 2),\n",
       " 'ERI': (<shapely.geometry.polygon.Polygon at 0x11dcd3490>, 2),\n",
       " 'JPN_0': (<shapely.geometry.polygon.Polygon at 0x11dcbe710>, 6),\n",
       " 'JPN_1': (<shapely.geometry.polygon.Polygon at 0x11dcbecd0>, 2),\n",
       " 'PRY': (<shapely.geometry.polygon.Polygon at 0x11dcd3910>, 7),\n",
       " 'YEM': (<shapely.geometry.polygon.Polygon at 0x11dcd3b10>, 8),\n",
       " 'SAU': (<shapely.geometry.polygon.Polygon at 0x11dcd3d90>, 34),\n",
       " 'ATA_0': (<shapely.geometry.polygon.Polygon at 0x11dcbeb50>, 4),\n",
       " 'ATA_1': (<shapely.geometry.polygon.Polygon at 0x11dcbea90>, 3),\n",
       " 'ATA_2': (<shapely.geometry.polygon.Polygon at 0x11dcbed90>, 1197),\n",
       " 'MAR': (<shapely.geometry.polygon.Polygon at 0x11dcd4450>, 11),\n",
       " 'EGY': (<shapely.geometry.polygon.Polygon at 0x11dcd4990>, 18),\n",
       " 'LBY': (<shapely.geometry.polygon.Polygon at 0x11dcd4bd0>, 30),\n",
       " 'ETH': (<shapely.geometry.polygon.Polygon at 0x11dcd4e10>, 19),\n",
       " 'UGA': (<shapely.geometry.polygon.Polygon at 0x11dcd5510>, 4),\n",
       " 'BIH': (<shapely.geometry.polygon.Polygon at 0x11dcd5990>, 1),\n",
       " 'SRB': (<shapely.geometry.polygon.Polygon at 0x11dcd5dd0>, 2),\n",
       " 'SSD': (<shapely.geometry.polygon.Polygon at 0x11dcd9690>, 10)}"
      ]
     },
     "execution_count": 13,
     "metadata": {},
     "output_type": "execute_result"
    }
   ],
   "source": [
    "country_polygon_dict"
   ]
  },
  {
   "cell_type": "code",
   "execution_count": 5,
   "metadata": {
    "colab": {},
    "colab_type": "code",
    "id": "xK-nWNoZ8jlF"
   },
   "outputs": [],
   "source": [
    "def country_bounds(area_of_interest_shapely, country_code, edge_len):\n",
    "\n",
    "    return_list_coords = []\n",
    "    min_lon, min_lat, max_lon, max_lat = area_of_interest_shapely.bounds\n",
    "    dict_coords = {}\n",
    "    point_list = []\n",
    "    lat_list = []\n",
    "    lon_list = []\n",
    "    counter = 0\n",
    "    center_lon = min_lon\n",
    "    center_lat = max_lat\n",
    "    # print(center_lat,min_lat,  center_lon, max_lon)\n",
    "    while center_lon < (max_lon):\n",
    "        while center_lat > (min_lat):\n",
    "            # print(center_lat, center_lon)\n",
    "            point_list.append(counter)\n",
    "            lat_list.append(center_lat)\n",
    "            lon_list.append(center_lon)\n",
    "            counter +=1\n",
    "            center_lat -= edge_len\n",
    "        \n",
    "        center_lon += edge_len\n",
    "        center_lat = max_lat\n",
    "        \n",
    "    dict_coords['POINTS'] = point_list\n",
    "    dict_coords['Latitude'] = lat_list\n",
    "    dict_coords['Longitude'] = lon_list\n",
    "    # print(\"Total coords: \", counter)\n",
    "    df = pd.DataFrame(dict_coords)\n",
    "    gdf = geopandas.GeoDataFrame(df, geometry=geopandas.points_from_xy(df.Longitude, df.Latitude))\n",
    "    gdf.crs = \"EPSG:4326\"\n",
    "    point_within_country = geopandas.sjoin(gdf, world[world.iso_a3 == country_code], how=\"inner\", op='intersects')\n",
    "    for index, row in point_within_country.iterrows():\n",
    "      (lat, lon) = (row['Latitude'], row['Longitude'])\n",
    "      # (center_lat, center_lon) = (point_within_arg['Latitude'],\tpoint_within_arg['Longitude'])\n",
    "      return_list_coords.append((lat, lon))\n",
    "    \n",
    "    return return_list_coords"
   ]
  },
  {
   "cell_type": "code",
   "execution_count": 17,
   "metadata": {},
   "outputs": [],
   "source": [
    "test_ind = country_bounds(country_polygon_dict['IND'][0], 'IND', 0.5)"
   ]
  },
  {
   "cell_type": "code",
   "execution_count": 18,
   "metadata": {},
   "outputs": [
    {
     "data": {
      "text/plain": [
       "1107"
      ]
     },
     "execution_count": 18,
     "metadata": {},
     "output_type": "execute_result"
    }
   ],
   "source": [
    "len(test_ind)"
   ]
  },
  {
   "cell_type": "markdown",
   "metadata": {
    "colab_type": "text",
    "id": "C_-DKWOGvkQi"
   },
   "source": [
    "Pull Sentinel-2 Data"
   ]
  },
  {
   "cell_type": "code",
   "execution_count": 19,
   "metadata": {
    "colab": {},
    "colab_type": "code",
    "id": "-A-FNA4QUj-_"
   },
   "outputs": [],
   "source": [
    "def satellite_imagery_Sentinel(area_of_interest_shapely, country_code,\n",
    "                      start_date, end_date, \n",
    "                      plot_option, resolution=30):\n",
    "    \n",
    "    area_of_interest_ee = ee.Geometry.Polygon(list(area_of_interest_shapely.exterior.coords))\n",
    "\n",
    "    \n",
    "    # Create image collection that contains the area of interest\n",
    "    img_collect = (ee.ImageCollection('COPERNICUS/S2')\n",
    "                 .filterDate(start_date, end_date)\n",
    "                 .filterBounds(area_of_interest_ee)\n",
    "                    # Remove image that's too small (likely to be partial image)\n",
    "                    # Size of a full image: 1,276,131,371; size of a partial image: 276,598,191\n",
    "                 .filter(ee.Filter.gt('system:asset_size', 800000000))\n",
    "                 .filterMetadata(\"CLOUDY_PIXEL_PERCENTAGE\",\"less_than\",50))\n",
    "    \n",
    "    assert (img_collect.size().getInfo()>0), \"No valid image\"\n",
    "    print(\"Total number of images in the collection: \", img_collect.size().getInfo())\n",
    "        \n",
    "    # Extract tile information from each image\n",
    "    # Note: tiles can overlap a little bit\n",
    "    unique_tiles = set([item['properties']['MGRS_TILE'] for item in img_collect.getInfo()['features']])\n",
    "    if len(unique_tiles) > 1:\n",
    "        warnings.warn('Multiple tiles are selected. Proceed with caution.')\n",
    "        print('Number of tiles selected: ', len(unique_tiles))\n",
    "        \n",
    "    # Reference: https://www.satimagingcorp.com/satellite-sensors/other-satellite-sensors/sentinel-2a/\n",
    "    band_blue = 'B2' #10m\n",
    "    band_green = 'B3' #10m\n",
    "    band_red = \"B4\"  #10m\n",
    "    band_nir = 'B8'  #10m\n",
    "    \n",
    "    def calc_NDVI(img):\n",
    "        ndvi = ee.Image(img.normalizedDifference([band_nir, band_red])).rename([\"ndvi\"]).copyProperties(img, img.propertyNames())\n",
    "        composite = img.addBands(ndvi)\n",
    "        return composite\n",
    "    \n",
    "    # SAVI = ((NIR – Red) / (NIR + Red + L)) x (1 + L)\n",
    "    def calc_SAVI(img):\n",
    "        \"\"\"A function to compute Soil Adjusted Vegetation Index.\"\"\"\n",
    "        savi =  ee.Image(img.expression(\n",
    "            '(1 + L) * float(nir - red)/ (nir + red + L)',\n",
    "            {\n",
    "                'nir': img.select(band_nir),\n",
    "                'red': img.select(band_red),\n",
    "                'L': 0.5\n",
    "            })).rename([\"savi\"]).copyProperties(img, img.propertyNames())\n",
    "        composite = img.addBands(savi)\n",
    "        return composite\n",
    "\n",
    "    # EVI = 2.5 * ((NIR – Red) / ((NIR) + (C1 * Red) – (C2 * Blue) + L))\n",
    "    #     C1=6, C2=7.5, and L=1\n",
    "    def calc_EVI(img):\n",
    "        \"\"\"A function to compute Soil Adjusted Vegetation Index.\"\"\"\n",
    "        evi = ee.Image(img.expression(\n",
    "          '(2.5) * float(nir - red)/ ((nir) + (C1*red) - (C2*blue) + L)',\n",
    "          {   \n",
    "              'nir': img.select(band_nir),\n",
    "              'red': img.select(band_red),\n",
    "              'blue': img.select(band_blue),\n",
    "              'L': 0.2,\n",
    "              'C1': 6,\n",
    "              'C2': 7.5\n",
    "          })).rename([\"evi\"]).copyProperties(img, img.propertyNames())\n",
    "        composite = img.addBands(evi)\n",
    "        return composite\n",
    "                   \n",
    "    def add_landcover(img):\n",
    "        landcover = ee.Image(\"USGS/GFSAD1000_V1\")\n",
    "        composite = img.addBands(landcover)\n",
    "        return composite\n",
    "    \n",
    "    def calc_YYYYMM(img):\n",
    "        return img.set('YYYYMM', img.date().format(\"YYYYMM\"))\n",
    "    \n",
    "    def add_ee_layer(self, ee_object, vis_params, name):\n",
    "        try:    \n",
    "            if isinstance(ee_object, ee.image.Image):    \n",
    "                map_id_dict = ee.Image(ee_object).getMapId(vis_params)\n",
    "                folium.raster_layers.TileLayer(\n",
    "                    tiles = map_id_dict['tile_fetcher'].url_format,\n",
    "                    attr = 'Google Earth Engine',\n",
    "                    name = name,\n",
    "                    overlay = True,\n",
    "                    control = True\n",
    "                    ).add_to(self)\n",
    "            elif isinstance(ee_object, ee.imagecollection.ImageCollection):    \n",
    "                ee_object_new = ee_object.median()\n",
    "                map_id_dict = ee.Image(ee_object_new).getMapId(vis_params)\n",
    "                folium.raster_layers.TileLayer(\n",
    "                    tiles = map_id_dict['tile_fetcher'].url_format,\n",
    "                    attr = 'Google Earth Engine',\n",
    "                    name = name,\n",
    "                    overlay = True,\n",
    "                    control = True\n",
    "                    ).add_to(self)\n",
    "            elif isinstance(ee_object, ee.geometry.Geometry):    \n",
    "                folium.GeoJson(\n",
    "                        data = ee_object.getInfo(),\n",
    "                        name = name,\n",
    "                        overlay = True,\n",
    "                        control = True\n",
    "                    ).add_to(self)\n",
    "            elif isinstance(ee_object, ee.featurecollection.FeatureCollection):  \n",
    "                ee_object_new = ee.Image().paint(ee_object, 0, 2)\n",
    "                map_id_dict = ee.Image(ee_object_new).getMapId(vis_params)\n",
    "                folium.raster_layers.TileLayer(\n",
    "                        tiles = map_id_dict['tile_fetcher'].url_format,\n",
    "                        attr = 'Google Earth Engine',\n",
    "                        name = name,\n",
    "                        overlay = True,\n",
    "                        control = True\n",
    "                    ).add_to(self)\n",
    "\n",
    "        except:\n",
    "            print(\"Could not display {}\".format(name))\n",
    "\n",
    "    # Add EE drawing method to folium.\n",
    "    folium.Map.add_ee_layer = add_ee_layer\n",
    "    \n",
    "    img_collect_calc = img_collect.map(calc_YYYYMM).map(calc_NDVI).map(calc_SAVI).map(calc_EVI).map(add_landcover)\n",
    "    \n",
    "    unique_month = list(set([item['properties']['YYYYMM'] for item in img_collect_calc.getInfo()['features']]))\n",
    "    unique_month.sort()\n",
    "    print(unique_month)\n",
    "    \n",
    "    if len(unique_month) > 0:\n",
    "        warnings.warn('There are null values in the output DataFrame. Proceed with caution.')\n",
    "    \n",
    "    \n",
    "    img_calc_month_dict = dict()\n",
    "    temp_dict = dict()\n",
    "    for month in unique_month:\n",
    "        img_calc_month_dict[month] = img_collect_calc.filter(ee.Filter.eq('YYYYMM',month))\n",
    "\n",
    "\n",
    "    # Create a folium map object.\n",
    "    center_lon, center_lat = list(area_of_interest_shapely.centroid.coords)[0]\n",
    "    myMap = folium.Map(location=[center_lat, center_lon], zoom_start=5)\n",
    "    # Add the box around the area of interest\n",
    "    folium.GeoJson(area_of_interest_shapely, name=\"Area of Interest\").add_to(myMap)\n",
    "\n",
    "    ###adding boxes\n",
    "    edge_len = 0.1\n",
    "    list_coords = country_bounds(area_of_interest_shapely, country_code, edge_len)\n",
    "    print(\"total sub rects: \", len(list_coords))\n",
    "    for coord in list_coords:\n",
    "        center_lat, center_lon = coord[0], coord[1]\n",
    "        rect_of_interest_shapely = box(center_lon-edge_len/2, center_lat-edge_len/2, center_lon+edge_len/2, center_lat+edge_len/2)\n",
    "        # Add the box around the area of interest\n",
    "        folium.GeoJson(rect_of_interest_shapely).add_to(myMap)\n",
    "\n",
    "    visParams = {'min':0, 'max':1, 'palette': ['red', 'yellow', 'green']}\n",
    "    if plot_option == 'NDVI':\n",
    "        for month in unique_month:\n",
    "            myMap.add_ee_layer(img_calc_month_dict[month].select(\"ndvi\"), visParams, name=plot_option+' '+month)\n",
    "    elif plot_option == 'SAVI':\n",
    "        for month in unique_month:\n",
    "            myMap.add_ee_layer(img_calc_month_dict[month].select(\"savi\"), visParams, name=plot_option+' '+month)\n",
    "    elif plot_option == 'EVI':\n",
    "        for month in unique_month:\n",
    "            myMap.add_ee_layer(img_calc_month_dict[month].select(\"evi\"), visParams, name=plot_option+' '+month)\n",
    "\n",
    "    # Add a layer control panel to the map.\n",
    "    myMap.add_child(folium.LayerControl())\n",
    "\n",
    "    return myMap"
   ]
  },
  {
   "cell_type": "code",
   "execution_count": null,
   "metadata": {
    "colab": {
     "base_uri": "https://localhost:8080/",
     "height": 1000
    },
    "colab_type": "code",
    "id": "NqCQHpRwvkQm",
    "outputId": "c00e40c9-eb5c-4344-f908-8838f0c556cf"
   },
   "outputs": [
    {
     "name": "stdout",
     "output_type": "stream",
     "text": [
      "Total number of images in the collection:  1700\n"
     ]
    },
    {
     "name": "stderr",
     "output_type": "stream",
     "text": [
      "/opt/anaconda3/lib/python3.7/site-packages/ipykernel_launcher.py:24: UserWarning: Multiple tiles are selected. Proceed with caution.\n"
     ]
    },
    {
     "name": "stdout",
     "output_type": "stream",
     "text": [
      "Number of tiles selected:  406\n",
      "['201801']\n"
     ]
    },
    {
     "name": "stderr",
     "output_type": "stream",
     "text": [
      "/opt/anaconda3/lib/python3.7/site-packages/ipykernel_launcher.py:128: UserWarning: There are null values in the output DataFrame. Proceed with caution.\n"
     ]
    },
    {
     "name": "stdout",
     "output_type": "stream",
     "text": [
      "total sub rects:  27790\n"
     ]
    }
   ],
   "source": [
    "satellite_imagery_Sentinel(area_of_interest_shapely=country_polygon_dict['IND'][0], country_code='IND',\n",
    "                  start_date='2018-1-01', end_date='2018-1-31', plot_option='NDVI')\n"
   ]
  },
  {
   "cell_type": "code",
   "execution_count": null,
   "metadata": {},
   "outputs": [],
   "source": []
  }
 ],
 "metadata": {
  "accelerator": "TPU",
  "colab": {
   "collapsed_sections": [],
   "name": "GEE_ClimateVI_Model.ipynb",
   "provenance": []
  },
  "kernelspec": {
   "display_name": "Python 3",
   "language": "python",
   "name": "python3"
  },
  "language_info": {
   "codemirror_mode": {
    "name": "ipython",
    "version": 3
   },
   "file_extension": ".py",
   "mimetype": "text/x-python",
   "name": "python",
   "nbconvert_exporter": "python",
   "pygments_lexer": "ipython3",
   "version": "3.7.4"
  }
 },
 "nbformat": 4,
 "nbformat_minor": 4
}
