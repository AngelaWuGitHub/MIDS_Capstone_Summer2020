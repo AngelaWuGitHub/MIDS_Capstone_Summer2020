{
 "cells": [
  {
   "cell_type": "code",
   "execution_count": 2,
   "metadata": {},
   "outputs": [],
   "source": [
    "import time\n",
    "import pandas as pd\n",
    "# import geopandas\n",
    "from math import sin, cos, sqrt, atan2, radians\n",
    "from shapely.geometry import box\n",
    "import ee\n",
    "import folium\n",
    "import matplotlib.pyplot as plt\n",
    "import numpy as np\n",
    "from scipy.interpolate import interp1d\n",
    "from scipy.signal import savgol_filter\n",
    "from scipy.signal import find_peaks"
   ]
  },
  {
   "cell_type": "code",
   "execution_count": 242,
   "metadata": {},
   "outputs": [],
   "source": [
    "class irrigation30():\n",
    "    \n",
    "    # Set the max number of samples used in the clustering\n",
    "    maxSample = 100000\n",
    "    # Technically, resolution can be a parameter in __init___\n",
    "    #     But we did not fully test resolutions different from 30 m.\n",
    "    resolution = 30\n",
    "    # Reference: https://hess.copernicus.org/articles/19/4441/2015/hessd-12-1329-2015.pdf\n",
    "    # \"If NDVI at peak is less than 0.40, the peak is not counted as cultivation.\" \n",
    "    #     The article uses 10-day composite NDVI while we use montly NDVI.\n",
    "    #     To account for averaging effect, our threshold is slightly lower than 0.4.\n",
    "    crop_ndvi_threashold = 0.3\n",
    "    # Estimated based on http://www.fao.org/3/s2022e/s2022e07.htm#TopOfPage\n",
    "    water_need_threshold = 100\n",
    "    # Rename ndvi bands to the following\n",
    "    ndvi_lst = ['ndvi'+str(i).zfill(2) for i in range(1, 13)]\n",
    "    # Give descriptive name for the month\n",
    "    month_lst = ['Jan', 'Feb', 'Mar', 'Apr', 'May', 'Jun', 'Jul', 'Aug', 'Sep', 'Oct', 'Nov', 'Dec']\n",
    "    # List of colors used to plot each cluster\n",
    "    cluster_color = ['red', 'blue', 'orange', 'yellow', 'darkgreen', 'lightgreen', 'lightblue', 'purple', 'pink', 'lightgray']\n",
    "    \n",
    "    def __init__(self, center_lat=43.771114, center_lon=-116.736866, edge_len=0.005, year=2018, maxClusters_set=2):\n",
    "        \n",
    "        if edge_len < 0.005:\n",
    "            raise ValueError('Please select an edge length greater than or equal to 0.005 degree.')\n",
    "           \n",
    "        # max edge_len\n",
    "        # year >= 2018 (first Sentinal2 lauched around mid 2015, and the second was launched in mid 2017)\n",
    "        # no 12 months of data => kill the process\n",
    "        ee.Initialize()\n",
    "        self.center_lat = center_lat\n",
    "        self.center_lon = center_lon\n",
    "        self.edge_len = edge_len\n",
    "        self.year = year\n",
    "        self.maxClusters_set = maxClusters_set\n",
    "        self.label = []\n",
    "        self.comment = dict()\n",
    "        self.avg_ndvi = np.zeros((2, 12))\n",
    "        self.temperature_max = []\n",
    "        self.temperature_min = []\n",
    "        self.temperature_avg = []\n",
    "        self.precipitation = []\n",
    "        self.image = ee.Image()\n",
    "        self.nClusters = 0\n",
    "        self.simple_label = []\n",
    "            \n",
    "        # Create the bounding box using GEE API\n",
    "        self.aoi_ee = self.__create_bounding_box_ee()\n",
    "        # Estimate the area of interest\n",
    "        self.dist_lon = self.__calc_distance(self.center_lon-self.edge_len/2, self.center_lat, self.center_lon+self.edge_len/2, self.center_lat)\n",
    "        self.dist_lat = self.__calc_distance(self.center_lon, self.center_lat-self.edge_len/2, self.center_lon, self.center_lat+self.edge_len/2)\n",
    "        print('The selected area is approximately {:.2f} km by {:.2f} km'.format(self.dist_lon, self.dist_lat))\n",
    "        \n",
    "        # Estimate the amount of pixels used in the clustering algorithm\n",
    "        est_total_pixels = round(self.dist_lat*self.dist_lon*(1000**2)/((irrigation30.resolution)**2))\n",
    "        self.nSample = min(irrigation30.maxSample,est_total_pixels)\n",
    "#         print('The estimated percentage of pixels used in the model is {:.0%}.'.format(self.nSample/est_total_pixels))\n",
    "\n",
    "\n",
    "    def __create_bounding_box_ee(self):\n",
    "        return ee.Geometry.Rectangle([self.center_lon-self.edge_len/2, self.center_lat-self.edge_len/2, self.center_lon+self.edge_len/2, self.center_lat+self.edge_len/2])\n",
    "    \n",
    "    def __create_bounding_box_shapely(self):\n",
    "        return box(self.center_lon-self.edge_len/2, self.center_lat-self.edge_len/2, self.center_lon+self.edge_len/2, self.center_lat+self.edge_len/2)\n",
    "\n",
    "    @staticmethod\n",
    "    def __calc_distance(lon1, lat1, lon2, lat2):\n",
    "        # Reference: https://stackoverflow.com/questions/19412462/getting-distance-between-two-points-based-on-latitude-longitude\n",
    "        # approximate radius of earth in km\n",
    "        R = 6373.0\n",
    "        lon1 = radians(lon1)\n",
    "        lat1 = radians(lat1)\n",
    "        lon2 = radians(lon2)\n",
    "        lat2 = radians(lat2)\n",
    "        dlon = lon2 - lon1\n",
    "        dlat = lat2 - lat1\n",
    "        a = sin(dlat / 2)**2 + cos(lat1) * cos(lat2) * sin(dlon / 2)**2\n",
    "        c = 2 * atan2(sqrt(a), sqrt(1 - a))\n",
    "        distance = R * c\n",
    "        return distance\n",
    "        \n",
    "    def __pull_Sentinel2_data(self):\n",
    "        band_blue = 'B2' #10m\n",
    "        band_green = 'B3' #10m\n",
    "        band_red = \"B4\"  #10m\n",
    "        band_nir = 'B8'  #10m   \n",
    "        \n",
    "        start_date = str(self.year)+'-1-01'\n",
    "        end_date = str(self.year)+'-12-31'\n",
    "        \n",
    "        # Create image collection that contains the area of interest\n",
    "        Sentinel_IC = (ee.ImageCollection('COPERNICUS/S2')\n",
    "                         .filterDate(start_date, end_date)\n",
    "                         .filterBounds(self.aoi_ee)\n",
    "                         .select(band_nir, band_red))\n",
    "        \n",
    "        # Get GFSAD30 image and clip to the area of interest\n",
    "        GFSAD30_IC = ee.ImageCollection(\"users/ajsohn/GFSAD30\").filterBounds(self.aoi_ee)\n",
    "        GFSAD30_img = GFSAD30_IC.max().clip(self.aoi_ee)\n",
    "\n",
    "        def __calc_NDVI(img):\n",
    "            ndvi = ee.Image(img.normalizedDifference([band_nir, band_red])).rename([\"ndvi\"]).copyProperties(img, img.propertyNames())\n",
    "            composite = img.addBands(ndvi)\n",
    "            return composite\n",
    "        \n",
    "        def __get_by_month_data(img):\n",
    "            months = ee.List.sequence(1,12)\n",
    "            byMonth = ee.ImageCollection.fromImages(\n",
    "                months.map(lambda m: img.filter(ee.Filter.calendarRange(m, m, 'month')).median().set('month', m)\n",
    "                          ).flatten())\n",
    "\n",
    "            # Take all the satellite bands that have been split into months \n",
    "            # as different images in collection (byMonth), and merge into different bands\n",
    "            def __mergeBands(image, previous):\n",
    "                return ee.Image(previous).addBands(image).copyProperties(image, image.propertyNames())\n",
    "\n",
    "            merged = byMonth.iterate(__mergeBands, ee.Image())\n",
    "            return ee.Image(merged).select(['ndvi']+['ndvi_'+str(i) for i in range(1,12)],\n",
    "                irrigation30.ndvi_lst)\n",
    "        \n",
    "        # Apply the calculation of NDVI\n",
    "        Sentinel_IC = Sentinel_IC.map(__calc_NDVI).select('ndvi')\n",
    "\n",
    "        # Get Sentinel-2 monthly data\n",
    "        # 0 = water, 1 = non-cropland, 2 = cropland, 3 = 'no data'\n",
    "        byMonth_img = __get_by_month_data(Sentinel_IC) \\\n",
    "                        .addBands(GFSAD30_img.rename(['gfsad30'])) \\\n",
    "                        .addBands(ee.Image(\"USGS/GFSAD1000_V1\").rename(['gfsad1000'])) \\\n",
    "                        .clip(self.aoi_ee)\n",
    "    \n",
    "        # Mask the cropland\n",
    "        cropland = byMonth_img.select('gfsad30').eq(2)\n",
    "        byMonth_img_masked = byMonth_img.mask(cropland)\n",
    "\n",
    "        return byMonth_img_masked\n",
    "\n",
    "    def __pull_TerraClimate_data(self, band, multiplier=1):       \n",
    "        start_date = str(self.year)+'-1-01'\n",
    "        end_date = str(self.year)+'-12-31'\n",
    "        \n",
    "        # Create image collection that contains the area of interest\n",
    "        TerraClimate_IC = (ee.ImageCollection(\"IDAHO_EPSCOR/TERRACLIMATE\")\n",
    "                         .filterDate(start_date, end_date)\n",
    "                         .filterBounds(self.aoi_ee)\n",
    "                         .select(band))\n",
    "        \n",
    "        def __get_by_month_data(img):\n",
    "            months = ee.List.sequence(1,12)\n",
    "            byMonth = ee.ImageCollection.fromImages(\n",
    "                months.map(lambda m: img.filter(ee.Filter.calendarRange(m, m, 'month')).median().set('month', m)\n",
    "                          ).flatten())\n",
    "\n",
    "            # Take all the satellite bands that have been split into months \n",
    "            # as different images in collection (byMonth), and merge into different bands\n",
    "            def __mergeBands(image, previous):\n",
    "                return ee.Image(previous).addBands(image).copyProperties(image, image.propertyNames())\n",
    "\n",
    "            merged = byMonth.iterate(__mergeBands, ee.Image())\n",
    "            return ee.Image(merged).select([band]+[band+'_'+str(i) for i in range(1,12)],\n",
    "                [band+str(i).zfill(2) for i in range(1, 13)])\n",
    "\n",
    "        # Get TerraClimate monthly data\n",
    "        byMonth_img = __get_by_month_data(TerraClimate_IC).clip(self.aoi_ee)\n",
    "        \n",
    "        # Calculate the average value by month\n",
    "        climate_dict = byMonth_img.reduceRegion(reducer=ee.Reducer.mean(), geometry=self.aoi_ee, maxPixels=1e13, scale=irrigation30.resolution).getInfo()\n",
    "        climate_df = pd.DataFrame([climate_dict], columns=[band+str(i).zfill(2) for i in range(1, 13)], index=[0])\n",
    "        climate_arr = climate_df.to_numpy()*multiplier\n",
    "        \n",
    "        return climate_arr\n",
    "        \n",
    "\n",
    "    \n",
    "    def __identify_peak(self, y_raw):\n",
    "        # Peaks cannot be identified if it's the first or last number in a series\n",
    "        # To resolve this issue, we copy the series three times\n",
    "        y = np.concatenate((y_raw, y_raw, y_raw))\n",
    "        x = np.linspace(0, 35, num=36, endpoint=True)\n",
    "        peak_index_raw, peak_value_raw = find_peaks(y, height=irrigation30.crop_ndvi_threashold)\n",
    "        # Sometimes there are multiple peaks in a single crop season\n",
    "        # \n",
    "        index_diff = np.diff(peak_index_raw)\n",
    "        peak_grp = [0]\n",
    "        counter = 0\n",
    "        for i in index_diff:\n",
    "            if i == 2:\n",
    "                peak_grp.append(counter)\n",
    "            else:\n",
    "                counter+=1\n",
    "                peak_grp.append(counter)\n",
    "        peak_grp_series = pd.Series(peak_grp, name='peak_grp')\n",
    "        peak_index_series = pd.Series(peak_index_raw, name='peak_index')\n",
    "        peak_value_series = pd.Series(peak_value_raw['peak_heights'], name='peak_value')\n",
    "        peak_grp_df = pd.concat([peak_grp_series, peak_index_series, peak_value_series], axis=1)\n",
    "        peak_grp_agg_df = peak_grp_df.groupby('peak_grp').agg({'peak_index':np.mean, 'peak_value':np.max})\n",
    "        peak_index = peak_grp_agg_df['peak_index'].to_numpy()\n",
    "        peak_value = peak_grp_agg_df['peak_value'].to_numpy()\n",
    "        \n",
    "        peak_lst = [(int(i-12), irrigation30.month_lst[int(i-12)], j) for i, j in zip(peak_index, peak_value) if i >= 12 and i < 24]\n",
    "        final_peak_index = [i[0] for i in peak_lst]\n",
    "        final_peak_month = [i[1] for i in peak_lst]\n",
    "        final_peak_value = [i[2] for i in peak_lst]\n",
    "        return final_peak_index, final_peak_month, final_peak_value\n",
    "        \n",
    "    def __identify_label(self, cluster_result):\n",
    "        def __identify_surrounding_month(value, diff):\n",
    "            new_value = value + diff\n",
    "            if new_value < 0:\n",
    "                new_value += 12\n",
    "            elif new_value >= 12:\n",
    "                new_value -= 12\n",
    "            return int(new_value)\n",
    "        def __calc_effective_precipitation(P):\n",
    "            # Reference: \n",
    "            # Pe = 0.8 P - 25 if P > 75 mm/month\n",
    "            # Pe = 0.6 P - 10 if P < 75 mm/month\n",
    "            if P >= 75:\n",
    "                Pe = 0.8*P-25\n",
    "            else:\n",
    "                Pe = max(0.6*P-10, 0)\n",
    "            return Pe\n",
    "        \n",
    "        self.label = []\n",
    "        for i in range(self.nClusters):\n",
    "            final_peak_index, final_peak_month, final_peak_value = self.__identify_peak(self.avg_ndvi[i])\n",
    "            if len(final_peak_index)==0:\n",
    "                self.label.append('Cluster {}: Rainfed'.format(i))\n",
    "                self.comment[i] = 'rainfed'\n",
    "            else:\n",
    "                temp_label = []\n",
    "                temp_comment = '{}-crop cycle annually | '.format(len(final_peak_index))\n",
    "                if len(self.precipitation) == 0:\n",
    "                    self.precipitation = self.__pull_TerraClimate_data('pr')[0]\n",
    "                if len(self.temperature_max) == 0:\n",
    "                    self.temperature_max = self.__pull_TerraClimate_data('tmmx', multiplier=0.1)[0]\n",
    "                    self.temperature_min = self.__pull_TerraClimate_data('tmmn', multiplier=0.1)[0]\n",
    "                self.temperature_avg = np.mean([self.temperature_max, self.temperature_min], axis=0)\n",
    "                for p in range(len(final_peak_index)):\n",
    "                    p_index = final_peak_index[p]\n",
    "                    # Calcuate the precipiration the month before the peak and at the peak\n",
    "                    # Depending on whether it's Fresh harvested crop or Dry harvested crop, the water need after the mid-season is different\n",
    "                    # Reference: http://www.fao.org/3/s2022e/s2022e02.htm#TopOfPage\n",
    "                    p_lst = [__identify_surrounding_month(p_index, -1), p_index]\n",
    "                    pr_mean = self.precipitation[p_lst].mean()\n",
    "                    # Lower temperature reduces water need\n",
    "                    # Reference: http://www.fao.org/3/s2022e/s2022e02.htm#TopOfPage\n",
    "                    if self.temperature_avg[p_lst].mean() < 15:\n",
    "                        temperature_adj = 0.7\n",
    "                    else:\n",
    "                        temperature_adj = 1\n",
    "                    if pr_mean >= irrigation30.water_need_threshold * temperature_adj:\n",
    "                        temp_label.append('Rainfed')\n",
    "                        temp_comment = temp_comment + 'rainfed around {}; '.format(final_peak_month[p])\n",
    "                    else:\n",
    "                        temp_label.append('Irrigated')\n",
    "                        temp_comment = temp_comment + 'irrigated around {}; '.format(final_peak_month[p])\n",
    "                self.label.append('Cluster {}: '.format(i)+'+'.join(temp_label))\n",
    "                self.comment[i] = temp_comment\n",
    "        self.simple_label = ['Irrigated' if 'Irrigated' in i else 'Rainfed' for i in self.label]\n",
    "        self.image = self.image.addBands(ee.Image(cluster_result.select('cluster')).rename('prediction'))     \n",
    "        \n",
    "    def plot_precipitation(self):\n",
    "        if len(self.precipitation) == 0:\n",
    "            self.precipitation = self.__pull_TerraClimate_data('pr')[0]\n",
    "        fig, ax = plt.subplots(figsize=(12, 6))\n",
    "        plt.plot(irrigation30.month_lst, self.precipitation, label='Precipitation')\n",
    "        plt.legend()\n",
    "        \n",
    "    def plot_temperature_max_min(self):\n",
    "        if len(self.temperature_max) == 0:\n",
    "            self.temperature_max = self.__pull_TerraClimate_data('tmmx', multiplier=0.1)[0]\n",
    "            self.temperature_min = self.__pull_TerraClimate_data('tmmn', multiplier=0.1)[0]\n",
    "        fig, ax = plt.subplots(figsize=(12, 6))\n",
    "        plt.plot(irrigation30.month_lst, self.temperature_max, label='Max Temperature')\n",
    "        plt.plot(irrigation30.month_lst, self.temperature_min, label='Min Temperature')\n",
    "        plt.legend()\n",
    "\n",
    "    def fit_predict(self):\n",
    "\n",
    "        self.image = self.__pull_Sentinel2_data()\n",
    "        \n",
    "        training_FC = self.image.cast({'gfsad30':\"int8\"},['gfsad30', 'gfsad1000']+irrigation30.ndvi_lst)\\\n",
    "                        .stratifiedSample(region=self.aoi_ee, classBand = 'gfsad30', numPoints = self.nSample,\n",
    "                        classValues = [0, 1, 3], \n",
    "                        classPoints = [0, 0, 0],\n",
    "                        scale=irrigation30.resolution)\\\n",
    "                        .select(irrigation30.ndvi_lst)\n",
    "        \n",
    "        # Instantiate the clusterer and train it.\n",
    "        clusterer = ee.Clusterer.wekaKMeans(self.maxClusters_set).train(training_FC, inputProperties=irrigation30.ndvi_lst)\n",
    "        # wekaCascadeKMeans takes much longer to run when maxClusters is greater than minClusters\n",
    "#         clusterer = ee.Clusterer.wekaCascadeKMeans(minClusters=2, maxClusters=self.maxClusters_set).train(training_FC, inputProperties=irrigation30.ndvi_lst)\n",
    "#         clusterer = ee.Clusterer.wekaXMeans(minClusters=2, maxClusters=self.maxClusters_set).train(training_FC, inputProperties=irrigation30.ndvi_lst)\n",
    "\n",
    "        # Cluster the input using the trained clusterer.\n",
    "        cluster_result = self.image.cluster(clusterer)\n",
    "        \n",
    "        print('Model building...')\n",
    "        cluster_output = dict()\n",
    "        for i in range(0, self.maxClusters_set):\n",
    "            cluster_output[i] = self.image.select(irrigation30.ndvi_lst).mask(cluster_result.select('cluster').eq(i)).reduceRegion(reducer=ee.Reducer.mean(), geometry=self.aoi_ee, maxPixels=1e13, scale=30).getInfo()\n",
    "            if cluster_output[i]['ndvi01']==None:\n",
    "                self.nClusters = i\n",
    "                del cluster_output[i]\n",
    "                break\n",
    "            elif i == self.maxClusters_set-1:\n",
    "                self.nClusters = self.maxClusters_set\n",
    "        \n",
    "        # Reference: https://stackoverflow.com/questions/45194934/eval-fails-in-list-comprehension\n",
    "        globs = globals()\n",
    "        locs = locals()\n",
    "        cluster_df = pd.DataFrame([eval('cluster_output[{}]'.format(i), globs, locs) for i in range(0,self.nClusters)], columns=irrigation30.ndvi_lst, index=['Cluster_'+str(i) for i in range(0,self.nClusters)])\n",
    "\n",
    "        self.avg_ndvi = cluster_df.to_numpy()\n",
    "\n",
    "        self.__identify_label(cluster_result)\n",
    "        \n",
    "        print('Model complete')\n",
    "        \n",
    "    def plot_map(self):\n",
    "        def add_ee_layer(self, ee_object, vis_params, show, name):\n",
    "            try:    \n",
    "                if isinstance(ee_object, ee.image.Image):    \n",
    "                    map_id_dict = ee.Image(ee_object).getMapId(vis_params)\n",
    "                    folium.raster_layers.TileLayer(\n",
    "                        tiles = map_id_dict['tile_fetcher'].url_format,\n",
    "                        attr = 'Google Earth Engine',\n",
    "                        name = name,\n",
    "                        overlay = True,\n",
    "                        control = True,\n",
    "                        show = show\n",
    "                        ).add_to(self)\n",
    "                elif isinstance(ee_object, ee.imagecollection.ImageCollection):    \n",
    "                    ee_object_new = ee_object.median()\n",
    "                    map_id_dict = ee.Image(ee_object_new).getMapId(vis_params)\n",
    "                    folium.raster_layers.TileLayer(\n",
    "                        tiles = map_id_dict['tile_fetcher'].url_format,\n",
    "                        attr = 'Google Earth Engine',\n",
    "                        name = name,\n",
    "                        overlay = True,\n",
    "                        control = True,\n",
    "                        show = show\n",
    "                        ).add_to(self)\n",
    "                elif isinstance(ee_object, ee.geometry.Geometry):    \n",
    "                    folium.GeoJson(\n",
    "                            data = ee_object.getInfo(),\n",
    "                            name = name,\n",
    "                            overlay = True,\n",
    "                            control = True\n",
    "                        ).add_to(self)\n",
    "                elif isinstance(ee_object, ee.featurecollection.FeatureCollection):  \n",
    "                    ee_object_new = ee.Image().paint(ee_object, 0, 2)\n",
    "                    map_id_dict = ee.Image(ee_object_new).getMapId(vis_params)\n",
    "                    folium.raster_layers.TileLayer(\n",
    "                            tiles = map_id_dict['tile_fetcher'].url_format,\n",
    "                            attr = 'Google Earth Engine',\n",
    "                            name = name,\n",
    "                            overlay = True,\n",
    "                            control = True,\n",
    "                            show = show\n",
    "                        ).add_to(self)\n",
    "\n",
    "            except:\n",
    "                print(\"Could not display {}\".format(name))\n",
    "\n",
    "        # Add EE drawing method to folium.\n",
    "        folium.Map.add_ee_layer = add_ee_layer\n",
    "\n",
    "        myMap = folium.Map(location=[self.center_lat, self.center_lon], zoom_start=10)\n",
    "        aoi_shapely = self.__create_bounding_box_shapely()\n",
    "        folium.GeoJson(aoi_shapely, name=\"Area of Interest\").add_to(myMap)\n",
    "        visParams = {'min':0, 'max':self.nClusters-1, 'palette': irrigation30.cluster_color[:self.nClusters]}\n",
    "        myMap.add_ee_layer(self.image.select('prediction'), visParams, show=True, name='Prediction')\n",
    "        #     0: Non-croplands (black)\n",
    "        #     1: Croplands: irrigation major (green)\n",
    "        #     2: Croplands: irrigation minor (lighter green)\n",
    "        #     3: Croplands: rainfed (yellow)\n",
    "        #     4: Croplands: rainfed, minor fragments (yellow orange)\n",
    "        #     5: Croplands: rainfed, rainfed, very minor fragments (orange)\n",
    "        visParams = {'min':0, 'max':5, 'palette':['black', 'green', 'a9e1a9', 'yellow', 'ffdb00', '#ffa500']}\n",
    "        myMap.add_ee_layer(self.image.select('gfsad1000'), visParams, show=False, name='GFSAD1000')\n",
    "        visParams = {'min':0, 'max':1, 'palette': ['red', 'yellow', 'green']}\n",
    "        for i in range(1, 13):\n",
    "            temp_band = 'ndvi'+str(i).zfill(2) \n",
    "            month_label = irrigation30.month_lst[i-1]\n",
    "            myMap.add_ee_layer(self.image.select(temp_band), visParams, show=False, name='NDVI '+month_label)\n",
    "        myMap.add_child(folium.LayerControl())\n",
    "        folium.Marker([self.center_lat, self.center_lon], tooltip='center').add_to(myMap)\n",
    "        \n",
    "        print('============ Prediction Layer Legend ============')\n",
    "        # print the comments for each cluster\n",
    "        for i in range(self.nClusters):\n",
    "            print('Cluster {} ({}): {}'.format(i, irrigation30.cluster_color[i], self.comment[i]))\n",
    "        print('============ GFSAD1000 Layer Legend ============')\n",
    "        print('Croplands: irrigation major (green)')\n",
    "        print('Croplands: irrigation minor (lighter green)')\n",
    "        print('Croplands: rainfed (yellow)')\n",
    "        print('Croplands: rainfed, minor fragments (yellow orange)')\n",
    "        print('Croplands: rainfed, rainfed, very minor fragments (orange)')\n",
    "        print('================================================')\n",
    "        return myMap\n",
    "    \n",
    "    def plot_avg_ndvi(self):\n",
    "        fig, ax = plt.subplots(figsize=(12, 6))\n",
    "        for i in range(0, self.nClusters):\n",
    "            plt.plot(irrigation30.month_lst, self.avg_ndvi[i], label=self.label[i], color=irrigation30.cluster_color[i])\n",
    "        plt.legend()\n",
    "    "
   ]
  },
  {
   "cell_type": "code",
   "execution_count": 243,
   "metadata": {},
   "outputs": [],
   "source": [
    "# (lon, lat)\n",
    "# [82.121452, 21.706688],     // C01 (India): Doesn't look quite right.\n",
    "                                              # Agree; the division feel arbitrary; both matched precipitation trend though\n",
    "# [-94.46643, 48.76297],      // C02 (Canada): S2-Q1+Q4 layer is white/black. \"Satellite\" looks better. Irrigation is okay.\n",
    "# [-105.69772, 49.316722],    // C03 (Canada): SWAP OUT WITH IDAHO.\n",
    "# [10.640815, 52.185072],     // C04 (Germany): Strange S2 layers, otherwise good result. Look at flip of cropland in Q2 and Q3! Irrigation seems to coincide with Q2. \n",
    "#                                             # (one in May and the other in July) One rainfed and one irrigation or both irrigation?\n",
    "# [10.7584699, 52.2058339],   // C05 (Germany): Doesn't seem right. \n",
    "# [33.857852, 46.539389],     // C06 (Ukraine): WEIRD RESULT. S2 seasonal flip-flops (Q2 and Q3 flip flop, then Q4 confusion). NDVI peaks at different seasons for each cluster. Heuristic mismatch!\n",
    "#                                             # Maybe both are irrgated but at different times (April, July, and October), 3 clusters?\n",
    "# [36.58565, 47.0838],        // C07 (Ukraine): Looks okay?\n",
    "# [38.34523, 30.22176],       // C08 (Saudi Arabia): Looks great. Although definitely depends on season.\n",
    "# [-64.075199, -31.950112],   // C09 (Argentina): NEW. Irrigation labels make no sense. Clusters have almost identical signatures.\n",
    "# [67.359826, 43.55412],      // C10 (Uzbekistan): Mostly good. Although clusters seem to select areas that peak at different seasons (Q2 vs Q3). \n",
    "# [-46.2607, -11.93067]       // C11 (Brazil): Tricky case. Mostly non-cropland. \n",
    "# [-116.736866, 43.771114]    // Idaho"
   ]
  },
  {
   "cell_type": "code",
   "execution_count": 141,
   "metadata": {},
   "outputs": [
    {
     "name": "stdout",
     "output_type": "stream",
     "text": [
      "The selected area is approximately 5.35 km by 5.56 km\n"
     ]
    }
   ],
   "source": [
    "# Adam's #1 (India): should be rainfed\n",
    "test = irrigation30(center_lat=15.8005146, center_lon=77.97976826, edge_len=0.05, maxClusters_set=2)"
   ]
  },
  {
   "cell_type": "code",
   "execution_count": 116,
   "metadata": {},
   "outputs": [
    {
     "name": "stdout",
     "output_type": "stream",
     "text": [
      "The selected area is approximately 5.33 km by 5.56 km\n"
     ]
    }
   ],
   "source": [
    "# Adam's #2 (India): should be irrigated\n",
    "# Cluster 0: 2-crop annually | irrigated around Feb; irrigated around Oct; \n",
    "# Cluster 1: 1-crop annually | irrigated around Oct; \n",
    "test = irrigation30(center_lat=16.61968558, center_lon=77.98163937, edge_len=0.05)"
   ]
  },
  {
   "cell_type": "code",
   "execution_count": 123,
   "metadata": {},
   "outputs": [
    {
     "name": "stdout",
     "output_type": "stream",
     "text": [
      "The selected area is approximately 5.38 km by 5.56 km\n"
     ]
    }
   ],
   "source": [
    "# Adam's #3 (India): GFSAD30+ and crowdsource are inconsistent\n",
    "test = irrigation30(center_lat=14.62018602, center_lon=78.57053589, edge_len=0.05, maxClusters_set=2)"
   ]
  },
  {
   "cell_type": "code",
   "execution_count": 244,
   "metadata": {},
   "outputs": [
    {
     "name": "stdout",
     "output_type": "stream",
     "text": [
      "The selected area is approximately 5.36 km by 5.56 km\n"
     ]
    }
   ],
   "source": [
    "# Adam's #4 (India): should be rainfed\n",
    "test = irrigation30(center_lat=15.36508304, center_lon=77.51866646, edge_len=0.05)"
   ]
  },
  {
   "cell_type": "code",
   "execution_count": 131,
   "metadata": {},
   "outputs": [
    {
     "name": "stdout",
     "output_type": "stream",
     "text": [
      "The selected area is approximately 5.38 km by 5.56 km\n"
     ]
    }
   ],
   "source": [
    "# Adam's #5 (India): should be irrigated\n",
    "test = irrigation30(center_lat=14.4920294, center_lon=80.0033313, edge_len=0.05)"
   ]
  },
  {
   "cell_type": "code",
   "execution_count": 178,
   "metadata": {},
   "outputs": [
    {
     "name": "stdout",
     "output_type": "stream",
     "text": [
      "The selected area is approximately 4.62 km by 5.56 km\n"
     ]
    }
   ],
   "source": [
    "################################################################### gfsad30+: rainfed\n",
    "# Adam's #6 (Australia): should be rainfed\n",
    "# peaks:0.66313885 and 0.52 (2018)???\n",
    "# precipitation looks low for rainfed. hmmm......\n",
    "test = irrigation30(center_lat=-33.83599, center_lon=138.059135, edge_len=0.05, year=2017, maxClusters_set=2)"
   ]
  },
  {
   "cell_type": "code",
   "execution_count": 194,
   "metadata": {},
   "outputs": [
    {
     "name": "stdout",
     "output_type": "stream",
     "text": [
      "The selected area is approximately 4.77 km by 5.56 km\n"
     ]
    }
   ],
   "source": [
    "# Adam's #7 (Australia): should be rainfed\n",
    "test = irrigation30(center_lat=-30.935931, center_lon=116.087147, edge_len=0.05, year=2017)"
   ]
  },
  {
   "cell_type": "code",
   "execution_count": 203,
   "metadata": {},
   "outputs": [
    {
     "name": "stdout",
     "output_type": "stream",
     "text": [
      "The selected area is approximately 4.60 km by 5.56 km\n"
     ]
    }
   ],
   "source": [
    "# Adam's #8 (Australia): should be irrigated\n",
    "test = irrigation30(center_lat=-34.28572, center_lon=146.11491, edge_len=0.05, year=2017)"
   ]
  },
  {
   "cell_type": "code",
   "execution_count": 211,
   "metadata": {},
   "outputs": [
    {
     "name": "stdout",
     "output_type": "stream",
     "text": [
      "The selected area is approximately 4.50 km by 5.56 km\n"
     ]
    }
   ],
   "source": [
    "# Adam's #9 (Australia): should be irrigated\n",
    "test = irrigation30(center_lat=-35.951044, center_lon=146.559336, edge_len=0.05, year=2017)"
   ]
  },
  {
   "cell_type": "code",
   "execution_count": 212,
   "metadata": {},
   "outputs": [
    {
     "name": "stdout",
     "output_type": "stream",
     "text": [
      "The selected area is approximately 4.55 km by 5.56 km\n"
     ]
    }
   ],
   "source": [
    "################################################################### crowdsource: irrigate, gfsad30+:irrigate (circle), rain\n",
    "# Australia - Adam's #10, multiple dip, peaks:0.57816652 and 0.3964???\n",
    "test = irrigation30(center_lat=-35.107376, center_lon=147.261322, edge_len=0.05, year=2017)"
   ]
  },
  {
   "cell_type": "code",
   "execution_count": 220,
   "metadata": {},
   "outputs": [
    {
     "name": "stdout",
     "output_type": "stream",
     "text": [
      "The selected area is approximately 3.83 km by 5.56 km\n"
     ]
    }
   ],
   "source": [
    "# Ukraine - Will's #6, both clsuters are irrigated. new algorithm is correct\n",
    "test = irrigation30(center_lat=46.539389, center_lon=33.857852, edge_len=0.05, maxClusters_set=2)"
   ]
  },
  {
   "cell_type": "code",
   "execution_count": 227,
   "metadata": {},
   "outputs": [
    {
     "name": "stdout",
     "output_type": "stream",
     "text": [
      "The selected area is approximately 3.79 km by 5.56 km\n"
     ]
    }
   ],
   "source": [
    "# Ukraine - Will's #7, multiple dips are handled, new algorithm looks good.\n",
    "# one irrigated, one rainfed\n",
    "test = irrigation30(center_lat=47.0838, center_lon=36.58565, edge_len=0.05)"
   ]
  },
  {
   "cell_type": "code",
   "execution_count": 7,
   "metadata": {},
   "outputs": [],
   "source": [
    "# India - compared against GFSAD30+ (GFSAD30+ marked some villedge areas as irrigated)\n",
    "# test = irrigation30(center_lat=21.628880, center_lon=85.585623, edge_len=0.05)"
   ]
  },
  {
   "cell_type": "code",
   "execution_count": 8,
   "metadata": {},
   "outputs": [],
   "source": [
    "# India - 2 crop (Lorenzo: Jan is irrigated for both clusters; July is rainfed + irrigation)\n",
    "# test = irrigation30(center_lat=23.58014, center_lon=73.28559, edge_len=0.05)"
   ]
  },
  {
   "cell_type": "code",
   "execution_count": 234,
   "metadata": {},
   "outputs": [
    {
     "name": "stdout",
     "output_type": "stream",
     "text": [
      "The selected area is approximately 3.41 km by 5.56 km\n"
     ]
    }
   ],
   "source": [
    "# Germary - Will's #4, (one in May and the other in July, both irrigated). new algorithm is correct\n",
    "# Cluster 0: 1-crop annually | irrigated around May; \n",
    "# Cluster 1: 1-crop annually | irrigated around Jul; \n",
    "test = irrigation30(center_lat=52.185072, center_lon=10.640815, edge_len=0.05)"
   ]
  },
  {
   "cell_type": "code",
   "execution_count": 14,
   "metadata": {},
   "outputs": [],
   "source": [
    "# Argentina - Will's #9, both clusters are irrigated, the new algorithm is correct\n",
    "# test = irrigation30(center_lat=-31.950112, center_lon=-64.075199, edge_len=0.05)"
   ]
  },
  {
   "cell_type": "code",
   "execution_count": 15,
   "metadata": {},
   "outputs": [],
   "source": [
    "# Check precipitation resonability\n",
    "# India\n",
    "# https://weather-and-climate.com/average-monthly-Rainfall-Temperature-Sunshine,cochin,India\n",
    "# test = irrigation30(center_lat=9.995191, center_lon=76.340577, edge_len=0.05)"
   ]
  },
  {
   "cell_type": "code",
   "execution_count": 16,
   "metadata": {},
   "outputs": [],
   "source": [
    "# Vietnam with edge length of 0.1?\n",
    "# left: 01, 02, 06, 12\n",
    "# right: 01, 02, 05, 10\n",
    "# bottom: 02, 03, 07, 12\n",
    "# test = irrigation30(center_lat=10.716019771291887, center_lon=105.50046138315179, edge_len=0.05)"
   ]
  },
  {
   "cell_type": "code",
   "execution_count": 245,
   "metadata": {},
   "outputs": [
    {
     "name": "stdout",
     "output_type": "stream",
     "text": [
      "Model building...\n",
      "Model complete\n",
      "CPU times: user 60 ms, sys: 0 ns, total: 60 ms\n",
      "Wall time: 13.7 s\n"
     ]
    }
   ],
   "source": [
    "%%time\n",
    "test.fit_predict()"
   ]
  },
  {
   "cell_type": "code",
   "execution_count": 246,
   "metadata": {},
   "outputs": [
    {
     "name": "stdout",
     "output_type": "stream",
     "text": [
      "============ Prediction Layer Legend ============\n",
      "Cluster 0 (red): rainfed\n",
      "Cluster 1 (blue): 1-crop cycle annually | rainfed around Oct; \n",
      "============ GFSAD1000 Layer Legend ============\n",
      "Croplands: irrigation major (green)\n",
      "Croplands: irrigation minor (lighter green)\n",
      "Croplands: rainfed (yellow)\n",
      "Croplands: rainfed, minor fragments (yellow orange)\n",
      "Croplands: rainfed, rainfed, very minor fragments (orange)\n",
      "================================================\n",
      "CPU times: user 180 ms, sys: 20 ms, total: 200 ms\n",
      "Wall time: 8.88 s\n"
     ]
    },
    {
     "data": {
      "text/html": [
       "<div style=\"width:100%;\"><div style=\"position:relative;width:100%;height:0;padding-bottom:60%;\"><span style=\"color:#565656\">Make this Notebook Trusted to load map: File -> Trust Notebook</span><iframe src=\"about:blank\" style=\"position:absolute;width:100%;height:100%;left:0;top:0;border:none !important;\" data-html=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 onload=\"this.contentDocument.open();this.contentDocument.write(atob(this.getAttribute('data-html')));this.contentDocument.close();\" allowfullscreen webkitallowfullscreen mozallowfullscreen></iframe></div></div>"
      ],
      "text/plain": [
       "<folium.folium.Map at 0x7f959c1a4588>"
      ]
     },
     "execution_count": 246,
     "metadata": {},
     "output_type": "execute_result"
    }
   ],
   "source": [
    "%%time\n",
    "test.plot_map()"
   ]
  },
  {
   "cell_type": "code",
   "execution_count": 247,
   "metadata": {},
   "outputs": [
    {
     "data": {
      "image/png": "[encoded data removed]",
      "text/plain": [
       "<Figure size 864x432 with 1 Axes>"
      ]
     },
     "metadata": {
      "needs_background": "light"
     },
     "output_type": "display_data"
    }
   ],
   "source": [
    "test.plot_avg_ndvi()"
   ]
  },
  {
   "cell_type": "code",
   "execution_count": 248,
   "metadata": {},
   "outputs": [
    {
     "data": {
      "image/png": "[encoded data removed]",
      "text/plain": [
       "<Figure size 864x432 with 1 Axes>"
      ]
     },
     "metadata": {
      "needs_background": "light"
     },
     "output_type": "display_data"
    }
   ],
   "source": [
    "test.plot_precipitation()\n",
    "# peak but too low? 800~600/4 = 200, at least 100mm. 5-6mm per day\n",
    "# Precipitation for AUS is sometimes bad"
   ]
  },
  {
   "cell_type": "code",
   "execution_count": 249,
   "metadata": {},
   "outputs": [
    {
     "data": {
      "text/plain": [
       "591.7746495400835"
      ]
     },
     "execution_count": 249,
     "metadata": {},
     "output_type": "execute_result"
    }
   ],
   "source": [
    "np.sum(test.precipitation)"
   ]
  },
  {
   "cell_type": "code",
   "execution_count": 250,
   "metadata": {},
   "outputs": [
    {
     "data": {
      "image/png": "[encoded data removed]",
      "text/plain": [
       "<Figure size 864x432 with 1 Axes>"
      ]
     },
     "metadata": {
      "needs_background": "light"
     },
     "output_type": "display_data"
    }
   ],
   "source": [
    "test.plot_temperature_max_min()\n",
    "# appropriate temperature for crop? 15-35? Use Avg temperature"
   ]
  },
  {
   "cell_type": "code",
   "execution_count": 251,
   "metadata": {},
   "outputs": [
    {
     "data": {
      "text/plain": [
       "['Rainfed', 'Rainfed']"
      ]
     },
     "execution_count": 251,
     "metadata": {},
     "output_type": "execute_result"
    }
   ],
   "source": [
    "test.simple_label"
   ]
  },
  {
   "cell_type": "code",
   "execution_count": null,
   "metadata": {},
   "outputs": [],
   "source": []
  }
 ],
 "metadata": {
  "kernelspec": {
   "display_name": "Python 3",
   "language": "python",
   "name": "python3"
  },
  "language_info": {
   "codemirror_mode": {
    "name": "ipython",
    "version": 3
   },
   "file_extension": ".py",
   "mimetype": "text/x-python",
   "name": "python",
   "nbconvert_exporter": "python",
   "pygments_lexer": "ipython3",
   "version": "3.5.2"
  }
 },
 "nbformat": 4,
 "nbformat_minor": 4
}
