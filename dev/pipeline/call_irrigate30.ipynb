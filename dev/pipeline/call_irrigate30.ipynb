{
 "cells": [
  {
   "cell_type": "code",
   "execution_count": 10,
   "metadata": {},
   "outputs": [
    {
     "name": "stdout",
     "output_type": "stream",
     "text": [
      "The selected area is approximately 413.36 km by 444.92 km\n",
      "\n",
      "\n",
      "Band Output: {'b1': 2, 'ndvi01': 0.26630259353110186, 'ndvi02': 0.2216934934114926, 'ndvi03': 0.2013845930352146, 'ndvi04': 0.19686820736854604, 'ndvi05': 0.15276044558383603, 'ndvi06': 0.1467919064147936, 'ndvi07': 0.011472426452038604, 'ndvi08': 0.019863585199116417, 'ndvi09': 0.4384429025357244, 'ndvi10': 0.515677201562662, 'ndvi11': 0.33280028345309887, 'ndvi12': 0.17692030663224378}\n",
      "\n",
      "\n",
      "Band Output: {'b1': 2, 'ndvi01': 0.2502331578052495, 'ndvi02': 0.21114678252345473, 'ndvi03': 0.1595155441001107, 'ndvi04': 0.14988191547708565, 'ndvi05': 0.1403519599568469, 'ndvi06': 0.11886946870676406, 'ndvi07': 0.018680635696756473, 'ndvi08': 0.016965322604172436, 'ndvi09': 0.07406683116333375, 'ndvi10': 0.4218662165784011, 'ndvi11': 0.28058186614566677, 'ndvi12': 0.21558044423755632}\n",
      "\n",
      "\n",
      "Monthly_df:         mean_value0 mean_value1\n",
      "band                          \n",
      "b1               2           2\n",
      "ndvi01    0.266303    0.250233\n",
      "ndvi02    0.221693    0.211147\n",
      "ndvi03    0.201385    0.159516\n",
      "ndvi04    0.196868    0.149882\n",
      "ndvi05     0.15276    0.140352\n",
      "ndvi06    0.146792    0.118869\n",
      "ndvi07   0.0114724   0.0186806\n",
      "ndvi08   0.0198636   0.0169653\n",
      "ndvi09    0.438443   0.0740668\n",
      "ndvi10    0.515677    0.421866\n",
      "ndvi11      0.3328    0.280582\n",
      "ndvi12     0.17692     0.21558\n"
     ]
    }
   ],
   "source": [
    "!python3 irrigate30_model.py"
   ]
  },
  {
   "cell_type": "code",
   "execution_count": 36,
   "metadata": {},
   "outputs": [
    {
     "name": "stdout",
     "output_type": "stream",
     "text": [
      "The selected area is approximately 10.33 km by 11.12 km\n",
      "\n",
      "\n",
      "Band Output: {'b1': 2, 'evi01': 0.7406291787454734, 'evi02': -0.3437396688042666, 'evi03': 0.4939115958606208, 'evi04': 0.7620350988132052, 'evi05': 0.5273032347426122, 'evi06': 0.8107207198822066, 'evi07': -0.046031434738629785, 'evi08': -0.2729730180372951, 'evi09': -2.5587879966948375, 'evi10': -2.7289115700705184, 'evi11': -0.29688374506239, 'evi12': -0.6361423675507036, 'ndvi01': 0.1805439977955018, 'ndvi02': 0.13299027730488183, 'ndvi03': 0.14388545828511973, 'ndvi04': 0.10725748936943928, 'ndvi05': 0.09194648212757352, 'ndvi06': 0.14401307846801445, 'ndvi07': 0.007895959988449044, 'ndvi08': 0.053177785933026966, 'ndvi09': 0.3977254842661211, 'ndvi10': 0.35791359775550285, 'ndvi11': 0.21921474995344095, 'ndvi12': 0.12681165209122638, 'savi01': 0.2707765506047, 'savi02': 0.19945678423497126, 'savi03': 0.2157970378044061, 'savi04': 0.1608644087955294, 'savi05': 0.13790225817240423, 'savi06': 0.21599236699446522, 'savi07': 0.011842987072323516, 'savi08': 0.07976079805131885, 'savi09': 0.5964948816489389, 'savi10': 0.5367907019303823, 'savi11': 0.32877547603443125, 'savi12': 0.19019097886921676}\n",
      "\n",
      "\n",
      "Band Output: {'b1': 2, 'evi01': -0.036195942622301504, 'evi02': -0.7023258177685635, 'evi03': 0.07579326870478063, 'evi04': 0.8527009153774492, 'evi05': 0.330992429021126, 'evi06': 0.11934935424138499, 'evi07': -0.05620631642461439, 'evi08': -0.25394309452473757, 'evi09': -2.666434787227171, 'evi10': -2.8909524452508317, 'evi11': -1.5391801109126535, 'evi12': -0.6988343726656046, 'ndvi01': 0.26525049310350746, 'ndvi02': 0.18774364598172866, 'ndvi03': 0.17688329713751388, 'ndvi04': 0.12736563595307493, 'ndvi05': 0.10363950270044502, 'ndvi06': 0.14492812689797976, 'ndvi07': 0.009881068226504587, 'ndvi08': 0.04179909119065844, 'ndvi09': 0.5573599269387134, 'ndvi10': 0.519999598442437, 'ndvi11': 0.2835727750755852, 'ndvi12': 0.14614777215416974, 'savi01': 0.3978168017673014, 'savi02': 0.2815742345652892, 'savi03': 0.26528625894682256, 'savi04': 0.19102217082169035, 'savi05': 0.1554391625028272, 'savi06': 0.2173632965659124, 'savi07': 0.014820424998210784, 'savi08': 0.06269467507495263, 'savi09': 0.8359104897114399, 'savi10': 0.779882200072908, 'savi11': 0.4252962193815137, 'savi12': 0.2191916656561537}\n",
      "\n",
      "\n",
      "Monthly_df:         mean_value0 mean_value1\n",
      "band                          \n",
      "b1               2           2\n",
      "evi01     0.740629  -0.0361959\n",
      "evi02     -0.34374   -0.702326\n",
      "evi03     0.493912   0.0757933\n",
      "evi04     0.762035    0.852701\n",
      "evi05     0.527303    0.330992\n",
      "evi06     0.810721    0.119349\n",
      "evi07   -0.0460314  -0.0562063\n",
      "evi08    -0.272973   -0.253943\n",
      "evi09     -2.55879    -2.66643\n",
      "evi10     -2.72891    -2.89095\n",
      "evi11    -0.296884    -1.53918\n",
      "evi12    -0.636142   -0.698834\n",
      "ndvi01    0.180544     0.26525\n",
      "ndvi02     0.13299    0.187744\n",
      "ndvi03    0.143885    0.176883\n",
      "ndvi04    0.107257    0.127366\n",
      "ndvi05   0.0919465     0.10364\n",
      "ndvi06    0.144013    0.144928\n",
      "ndvi07  0.00789596  0.00988107\n",
      "ndvi08   0.0531778   0.0417991\n",
      "ndvi09    0.397725     0.55736\n",
      "ndvi10    0.357914        0.52\n",
      "ndvi11    0.219215    0.283573\n",
      "ndvi12    0.126812    0.146148\n",
      "savi01    0.270777    0.397817\n",
      "savi02    0.199457    0.281574\n",
      "savi03    0.215797    0.265286\n",
      "savi04    0.160864    0.191022\n",
      "savi05    0.137902    0.155439\n",
      "savi06    0.215992    0.217363\n",
      "savi07    0.011843   0.0148204\n",
      "savi08   0.0797608   0.0626947\n",
      "savi09    0.596495     0.83591\n",
      "savi10    0.536791    0.779882\n",
      "savi11    0.328775    0.425296\n",
      "savi12    0.190191    0.219192\n"
     ]
    }
   ],
   "source": [
    "!python3 irrigate30_model_savi_evi.py"
   ]
  },
  {
   "cell_type": "code",
   "execution_count": 46,
   "metadata": {},
   "outputs": [
    {
     "name": "stdout",
     "output_type": "stream",
     "text": [
      "The selected area is approximately 310.02 km by 333.69 km\n",
      "\n",
      "\n",
      "Band Output: {'avgVI01': -0.1951305677953663, 'avgVI02': -0.31829041185429985, 'avgVI03': -0.2640520568549255, 'avgVI04': 0.2792758547664394, 'avgVI05': 0.3199512092760292, 'avgVI06': -0.036905212134346485, 'avgVI07': -0.011364278183717767, 'avgVI08': -0.01060227070365693, 'avgVI09': -0.2774334491750244, 'avgVI10': -0.8076541120820213, 'avgVI11': -0.28922238644138015, 'avgVI12': -0.1385642160228709, 'b1': 2}\n",
      "\n",
      "\n",
      "Band Output: {'avgVI01': 0.5171808700066745, 'avgVI02': 0.4091458192147108, 'avgVI03': 0.4943698025929457, 'avgVI04': 0.44947742820776276, 'avgVI05': 0.4122839492067428, 'avgVI06': 0.25548949246646824, 'avgVI07': -0.025689527642729908, 'avgVI08': -0.015517069312402687, 'avgVI09': -0.25540772581731974, 'avgVI10': -0.5864120525237753, 'avgVI11': 0.21064169995871496, 'avgVI12': -0.057613532058860016, 'b1': 2}\n",
      "\n",
      "\n",
      "Monthly_df:          mean_value0 mean_value1\n",
      "band                           \n",
      "avgVI01   -0.195131    0.517181\n",
      "avgVI02    -0.31829    0.409146\n",
      "avgVI03   -0.264052     0.49437\n",
      "avgVI04    0.279276    0.449477\n",
      "avgVI05    0.319951    0.412284\n",
      "avgVI06  -0.0369052    0.255489\n",
      "avgVI07  -0.0113643  -0.0256895\n",
      "avgVI08  -0.0106023  -0.0155171\n",
      "avgVI09   -0.277433   -0.255408\n",
      "avgVI10   -0.807654   -0.586412\n",
      "avgVI11   -0.289222    0.210642\n",
      "avgVI12   -0.138564  -0.0576135\n",
      "b1                2           2\n"
     ]
    }
   ],
   "source": [
    "!python3 irrigate30_model_savi_evi.py"
   ]
  },
  {
   "cell_type": "code",
   "execution_count": 48,
   "metadata": {},
   "outputs": [
    {
     "name": "stdout",
     "output_type": "stream",
     "text": [
      "The selected area is approximately 413.36 km by 444.92 km\n",
      "Traceback (most recent call last):\n",
      "  File \"/opt/anaconda3/lib/python3.7/site-packages/ee/data.py\", line 345, in _execute_cloud_call\n",
      "    return call.execute(num_retries=num_retries)\n",
      "  File \"/opt/anaconda3/lib/python3.7/site-packages/googleapiclient/_helpers.py\", line 134, in positional_wrapper\n",
      "    return wrapped(*args, **kwargs)\n",
      "  File \"/opt/anaconda3/lib/python3.7/site-packages/googleapiclient/http.py\", line 907, in execute\n",
      "    raise HttpError(resp, content, uri=self.uri)\n",
      "googleapiclient.errors.HttpError: <HttpError 400 when requesting https://earthengine.googleapis.com/v1alpha/projects/earthengine-legacy/value:compute?prettyPrint=false&alt=json returned \"Computation timed out.\">\n",
      "\n",
      "During handling of the above exception, another exception occurred:\n",
      "\n",
      "Traceback (most recent call last):\n",
      "  File \"irrigate30_model_savi_evi.py\", line 172, in <module>\n",
      "    main()\n",
      "  File \"irrigate30_model_savi_evi.py\", line 133, in main\n",
      "    .reduceRegion(reducer=ee.Reducer.mean(), geometry=aoi, maxPixels=1e13, scale=model_scale) \\\n",
      "  File \"/opt/anaconda3/lib/python3.7/site-packages/ee/computedobject.py\", line 95, in getInfo\n",
      "    return data.computeValue(self)\n",
      "  File \"/opt/anaconda3/lib/python3.7/site-packages/ee/data.py\", line 710, in computeValue\n",
      "    prettyPrint=False))['result']\n",
      "  File \"/opt/anaconda3/lib/python3.7/site-packages/ee/data.py\", line 347, in _execute_cloud_call\n",
      "    raise _translate_cloud_exception(e)\n",
      "ee.ee_exception.EEException: Computation timed out.\n"
     ]
    }
   ],
   "source": [
    "!python3 irrigate30_model_savi_evi.py"
   ]
  },
  {
   "cell_type": "code",
   "execution_count": null,
   "metadata": {},
   "outputs": [],
   "source": []
  }
 ],
 "metadata": {
  "kernelspec": {
   "display_name": "Python 3",
   "language": "python",
   "name": "python3"
  },
  "language_info": {
   "codemirror_mode": {
    "name": "ipython",
    "version": 3
   },
   "file_extension": ".py",
   "mimetype": "text/x-python",
   "name": "python",
   "nbconvert_exporter": "python",
   "pygments_lexer": "ipython3",
   "version": "3.7.4"
  }
 },
 "nbformat": 4,
 "nbformat_minor": 4
}
